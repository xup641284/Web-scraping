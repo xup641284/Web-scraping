{
 "cells": [
  {
   "cell_type": "markdown",
   "metadata": {},
   "source": [
    "# ML quality issues prediction - SVM, Naive Bayes, XGBoost, LSTM on Reddit post data"
   ]
  },
  {
   "cell_type": "code",
   "execution_count": 1,
   "metadata": {},
   "outputs": [
    {
     "name": "stderr",
     "output_type": "stream",
     "text": [
      "C:\\Users\\xup641284\\Anaconda3\\lib\\site-packages\\pandas\\compat\\_optional.py:138: UserWarning: Pandas requires version '2.7.0' or newer of 'numexpr' (version '2.6.8' currently installed).\n",
      "  warnings.warn(msg, UserWarning)\n"
     ]
    }
   ],
   "source": [
    "import requests\n",
    "import nltk\n",
    "import pandas as pd\n",
    "import re\n",
    "import sys\n",
    "from fake_useragent import UserAgent\n",
    "import csv\n",
    "import os\n",
    "import time\n",
    "import bs4 "
   ]
  },
  {
   "cell_type": "code",
   "execution_count": 2,
   "metadata": {},
   "outputs": [
    {
     "data": {
      "text/html": [
       "<div>\n",
       "<style scoped>\n",
       "    .dataframe tbody tr th:only-of-type {\n",
       "        vertical-align: middle;\n",
       "    }\n",
       "\n",
       "    .dataframe tbody tr th {\n",
       "        vertical-align: top;\n",
       "    }\n",
       "\n",
       "    .dataframe thead th {\n",
       "        text-align: right;\n",
       "    }\n",
       "</style>\n",
       "<table border=\"1\" class=\"dataframe\">\n",
       "  <thead>\n",
       "    <tr style=\"text-align: right;\">\n",
       "      <th></th>\n",
       "      <th>counter</th>\n",
       "      <th>post date</th>\n",
       "      <th>model</th>\n",
       "      <th>source</th>\n",
       "      <th>number of likes</th>\n",
       "      <th>number of comments</th>\n",
       "      <th>title</th>\n",
       "      <th>content</th>\n",
       "      <th>link</th>\n",
       "      <th>label</th>\n",
       "    </tr>\n",
       "  </thead>\n",
       "  <tbody>\n",
       "    <tr>\n",
       "      <th>0</th>\n",
       "      <td>1</td>\n",
       "      <td>2023-02-15</td>\n",
       "      <td>xps 13 9315</td>\n",
       "      <td>xps - reddit</td>\n",
       "      <td>0</td>\n",
       "      <td>1</td>\n",
       "      <td>xps13 9315 without windows</td>\n",
       "      <td>hey i want to buy a 9315 with linux, and maybe...</td>\n",
       "      <td>https://www.reddit.com/r/XPS/comments/1130y8l/...</td>\n",
       "      <td>question (technical)</td>\n",
       "    </tr>\n",
       "    <tr>\n",
       "      <th>1</th>\n",
       "      <td>2</td>\n",
       "      <td>2023-02-09</td>\n",
       "      <td>xps 15 9510</td>\n",
       "      <td>xps - reddit</td>\n",
       "      <td>1</td>\n",
       "      <td>0</td>\n",
       "      <td>galaxy book 3 ultra or xps 15 oled</td>\n",
       "      <td>currently i have a xps 15 9510 1080p model. fo...</td>\n",
       "      <td>https://www.reddit.com/r/XPS/comments/10xotyn/...</td>\n",
       "      <td>question (purchasing)</td>\n",
       "    </tr>\n",
       "    <tr>\n",
       "      <th>2</th>\n",
       "      <td>3</td>\n",
       "      <td>2023-02-08</td>\n",
       "      <td>xps 15 9520</td>\n",
       "      <td>xps - reddit</td>\n",
       "      <td>1</td>\n",
       "      <td>2</td>\n",
       "      <td>how do i disable the proximity sensor on xps 9...</td>\n",
       "      <td>everytime i walk away from my computer to go d...</td>\n",
       "      <td>https://www.reddit.com/r/XPS/comments/10xb6vy/...</td>\n",
       "      <td>question (technical)</td>\n",
       "    </tr>\n",
       "    <tr>\n",
       "      <th>3</th>\n",
       "      <td>4</td>\n",
       "      <td>2023-02-07</td>\n",
       "      <td>xps 13 9310</td>\n",
       "      <td>xps - reddit</td>\n",
       "      <td>1</td>\n",
       "      <td>2</td>\n",
       "      <td>ir sensor</td>\n",
       "      <td>i've recently got my hands on a xps 13 9310 an...</td>\n",
       "      <td>https://www.reddit.com/r/XPS/comments/10w80wz/...</td>\n",
       "      <td>question (technical)</td>\n",
       "    </tr>\n",
       "    <tr>\n",
       "      <th>4</th>\n",
       "      <td>5</td>\n",
       "      <td>2023-02-02</td>\n",
       "      <td>xps 15 9520</td>\n",
       "      <td>xps - reddit</td>\n",
       "      <td>3</td>\n",
       "      <td>6</td>\n",
       "      <td>dell xps 15 9520 performance issue after ram u...</td>\n",
       "      <td>hey guys, i upgraded my ram from 32gb to 64gb ...</td>\n",
       "      <td>https://www.reddit.com/r/XPS/comments/10rmcwm/...</td>\n",
       "      <td>question (technical)</td>\n",
       "    </tr>\n",
       "  </tbody>\n",
       "</table>\n",
       "</div>"
      ],
      "text/plain": [
       "   counter   post date        model        source  number of likes  \\\n",
       "0        1  2023-02-15  xps 13 9315  xps - reddit                0   \n",
       "1        2  2023-02-09  xps 15 9510  xps - reddit                1   \n",
       "2        3  2023-02-08  xps 15 9520  xps - reddit                1   \n",
       "3        4  2023-02-07  xps 13 9310  xps - reddit                1   \n",
       "4        5  2023-02-02  xps 15 9520  xps - reddit                3   \n",
       "\n",
       "   number of comments                                              title  \\\n",
       "0                   1                         xps13 9315 without windows   \n",
       "1                   0                 galaxy book 3 ultra or xps 15 oled   \n",
       "2                   2  how do i disable the proximity sensor on xps 9...   \n",
       "3                   2                                          ir sensor   \n",
       "4                   6  dell xps 15 9520 performance issue after ram u...   \n",
       "\n",
       "                                             content  \\\n",
       "0  hey i want to buy a 9315 with linux, and maybe...   \n",
       "1  currently i have a xps 15 9510 1080p model. fo...   \n",
       "2  everytime i walk away from my computer to go d...   \n",
       "3  i've recently got my hands on a xps 13 9310 an...   \n",
       "4  hey guys, i upgraded my ram from 32gb to 64gb ...   \n",
       "\n",
       "                                                link                  label  \n",
       "0  https://www.reddit.com/r/XPS/comments/1130y8l/...   question (technical)  \n",
       "1  https://www.reddit.com/r/XPS/comments/10xotyn/...  question (purchasing)  \n",
       "2  https://www.reddit.com/r/XPS/comments/10xb6vy/...   question (technical)  \n",
       "3  https://www.reddit.com/r/XPS/comments/10w80wz/...   question (technical)  \n",
       "4  https://www.reddit.com/r/XPS/comments/10rmcwm/...   question (technical)  "
      ]
     },
     "execution_count": 2,
     "metadata": {},
     "output_type": "execute_result"
    }
   ],
   "source": [
    "df = pd.read_csv('reddit (label xps) all.csv')\n",
    "df.head()"
   ]
  },
  {
   "cell_type": "code",
   "execution_count": 3,
   "metadata": {},
   "outputs": [
    {
     "name": "stdout",
     "output_type": "stream",
     "text": [
      "['hey', 'i', 'want', 'to', 'buy', 'a', '9315', 'with', 'linux', 'and', 'maybe', 'after', 'some', 'time', 'but', 'windows', 'on', 'it', 'do', 'i', 'have', 'to', 'give', 'up', 'on', 'any', 'features', 'which', 'the', 'oem']\n"
     ]
    },
    {
     "data": {
      "text/plain": [
       "'hey i want to buy a 9315 with linux, and maybe after some time but windows on it. do i have to give up on any features, which the oem xps ordered with windows has? currently i have a xps 15 9510 1080p model. for my use case which is light gaming and a heavy workflow with virtual machines and being used as a desktop replacement. i’m debating on if it’s worth buying a ultra? dells customer support h'"
      ]
     },
     "execution_count": 3,
     "metadata": {},
     "output_type": "execute_result"
    }
   ],
   "source": [
    "# Creating a tokenizer\n",
    "tokenizer = nltk.tokenize.RegexpTokenizer('\\w+')\n",
    "\n",
    "titles = ' '.join(df['content'])\n",
    "\n",
    "# Tokenizing the text\n",
    "tokens = tokenizer.tokenize(titles)\n",
    "\n",
    "# Printing out the first 8 words / tokens \n",
    "print(tokens[:30])\n",
    "titles[:400]"
   ]
  },
  {
   "cell_type": "code",
   "execution_count": 4,
   "metadata": {},
   "outputs": [
    {
     "name": "stdout",
     "output_type": "stream",
     "text": [
      "['i', 'me', 'my', 'myself', 'we', 'our', 'ours', 'ourselves', 'you', \"you're\"]\n"
     ]
    },
    {
     "name": "stderr",
     "output_type": "stream",
     "text": [
      "[nltk_data] Downloading package stopwords to\n",
      "[nltk_data]     C:\\Users\\xup641284\\AppData\\Roaming\\nltk_data...\n",
      "[nltk_data]   Package stopwords is already up-to-date!\n"
     ]
    }
   ],
   "source": [
    "nltk.download('stopwords')\n",
    "\n",
    "stopwordslist = [\"helpxps\", \"dell\", \"xps\", '13', '15', '17', '2','3', '0', '1', '8950', 'vs', '3050', '11', 'm1', 'i7','ram','ssd','support',\n",
    "                 '9305', '9310', '9320', '9510', '9520', '9710', '9720', 'running', 'first', 'update', 'able', 'well', 'getting', 'plus', 'performance','discussionxps', 'helpdell', 'discussiondell',\n",
    "                 'would', 'around', 'used','find', 'run', 'else', 'machine', 'see', 'gen', 'working','going', 'anything', 'model', 'also', 'know', 'work', 'anyone', 'one', 'tried', 'problem', 'need', 'could', 'use', 'intel','4k',\n",
    "                 'get', 'something', 'better', 'help', 'using', 'really', 'like', 'thanks', 'time', 'buy', '3rd', 'laptop', 'back', 'even','two',\n",
    "                 '4', '5', 'com','hi', 'good', 'however', 'seems', 'sure', 'go', 'lot', 'pro', '10', 'fine', 'bought', \n",
    "                 'right', 'much', 'looking', 'think', '32gb','life', 'want', 'every','https', 'since', 'issue', 'issues',\n",
    "                 'another', 'got', 'new','still', 'will', 'apple', 'across', 'w', 'c', 'pd', 'news', 'known', 'xps13']\n",
    "\n",
    "# Getting the English stop words from nltk\n",
    "sw = nltk.corpus.stopwords.words('english')\n",
    "\n",
    "sw.extend(stopwordslist)\n",
    "\n",
    "# Printing out the first eight stop words\n",
    "print(sw[:10])"
   ]
  },
  {
   "cell_type": "code",
   "execution_count": 5,
   "metadata": {},
   "outputs": [
    {
     "name": "stdout",
     "output_type": "stream",
     "text": [
      "['hey', '9315', 'linux', 'maybe', 'windows', 'give', 'features', 'oem', 'ordered', 'windows', 'currently', '1080p', 'case', 'light', 'gaming', 'heavy', 'workflow', 'virtual', 'machines', 'desktop', 'replacement', 'debating', 'worth', 'buying', 'ultra', 'dells', 'customer', 'ok', 'already', 'thunderbolt']\n"
     ]
    }
   ],
   "source": [
    "# A new list to hold Moby Dick with No Stop words\n",
    "words_ns = []\n",
    "\n",
    "# Appending to words_ns all words that are in words but not in sw\n",
    "for word in tokens:\n",
    "    if word not in sw:\n",
    "        words_ns.append(word)\n",
    "\n",
    "# Printing the first 5 words_ns to check that stop words are gone\n",
    "print(words_ns[:30])"
   ]
  },
  {
   "cell_type": "code",
   "execution_count": 6,
   "metadata": {},
   "outputs": [
    {
     "data": {
      "image/png": "[encoded data removed]",
      "text/plain": [
       "<Figure size 432x288 with 1 Axes>"
      ]
     },
     "metadata": {
      "needs_background": "light"
     },
     "output_type": "display_data"
    },
    {
     "name": "stdout",
     "output_type": "stream",
     "text": [
      "[('windows', 683), ('battery', 616), ('screen', 509), ('power', 503), ('usb', 365), ('bios', 320), ('drivers', 273), ('display', 265), ('keyboard', 232), ('cpu', 221), ('system', 217), ('gpu', 211), ('oled', 210), ('install', 203), ('device', 203), ('monitor', 199), ('audio', 198), ('touch', 191), ('computer', 188), ('video', 187)]\n"
     ]
    }
   ],
   "source": [
    "# This command display figures inline\n",
    "%matplotlib inline\n",
    "\n",
    "# Creating the word frequency distribution\n",
    "freqdist = nltk.FreqDist(words_ns)\n",
    "\n",
    "# Plotting the word frequency distribution\n",
    "freqdist.plot(20)\n",
    "print(freqdist.most_common(20))"
   ]
  },
  {
   "cell_type": "markdown",
   "metadata": {},
   "source": [
    "# XPS wordcloud"
   ]
  },
  {
   "cell_type": "code",
   "execution_count": 7,
   "metadata": {},
   "outputs": [
    {
     "data": {
      "image/png": "[encoded data removed]",
      "text/plain": [
       "<Figure size 1440x1440 with 1 Axes>"
      ]
     },
     "metadata": {
      "needs_background": "light"
     },
     "output_type": "display_data"
    }
   ],
   "source": [
    "# Import the wordcloud library\n",
    "from wordcloud import WordCloud, STOPWORDS, ImageColorGenerator\n",
    "import numpy as np\n",
    "import matplotlib.pyplot as plt\n",
    "from PIL import Image\n",
    "\n",
    "mask = np.array(Image.open('xps.jpg'))\n",
    "\n",
    "stopwordslist = ['8950', '9300','9520','9720', '9315', '9310', '9320','9710', '9510', '9305', '11', '2022', '17', '13', '15', 'helpxps', 'helpxps13', 'dell', 'xps', 'anybody', 'discussionis', 'discussionxps', 'helpdell', 'discussiondell', 'buy', '3rd', 'issue', 'issues', 'does', 'another', 'got', 'new', 'still', 'will', 'apple', 'across','plus', 'w', 'c', 'pd', 'news', 'known', 'xps13']\n",
    "stopwords = stopwordslist + list(STOPWORDS)\n",
    "\n",
    "# Join the different processed titles together.\n",
    "long_string = '-'.join(df['title'])\n",
    "\n",
    "# Create a WordCloud object\n",
    "wordcloud = WordCloud(mask = mask, stopwords = stopwords, collocations=False, max_words=60, background_color=\"white\")\n",
    "\n",
    "# Generate a word cloud\n",
    "wordcloud.generate(long_string)\n",
    "\n",
    "# Visualize the word cloud\n",
    "wordcloud.to_image()\n",
    "\n",
    "plt.figure(figsize=[20,20])\n",
    "plt.imshow(wordcloud)\n",
    "plt.axis(\"off\")\n",
    "plt.savefig('xps reddit (wordcloud).jpg')\n",
    "plt.show()"
   ]
  },
  {
   "cell_type": "code",
   "execution_count": 8,
   "metadata": {},
   "outputs": [
    {
     "data": {
      "image/png": "[encoded data removed]",
      "text/plain": [
       "<Figure size 432x288 with 1 Axes>"
      ]
     },
     "metadata": {
      "needs_background": "light"
     },
     "output_type": "display_data"
    }
   ],
   "source": [
    "from sklearn.feature_extraction.text import CountVectorizer\n",
    "import numpy as np\n",
    "\n",
    "# Helper function\n",
    "def plot_20_most_common_words(count_data, count_vectorizer):\n",
    "    import matplotlib.pyplot as plt\n",
    "    words = count_vectorizer.get_feature_names()\n",
    "    total_counts = np.zeros(len(words))\n",
    "    for t in count_data:\n",
    "        total_counts+=t.toarray()[0]\n",
    "    \n",
    "    count_dict = zip(words, total_counts)\n",
    "    count_dict = sorted(count_dict, key=lambda x:x[1], reverse=True)[0:20]\n",
    "    words = [w[0] for w in count_dict]\n",
    "    counts = [w[1] for w in count_dict]\n",
    "    x_pos = np.arange(len(words)) \n",
    "\n",
    "    plt.bar(x_pos, counts, align='center')\n",
    "    plt.xticks(x_pos, words, rotation=90) \n",
    "    plt.xlabel('words')\n",
    "    plt.ylabel('counts')\n",
    "    plt.title('20 most common words')\n",
    "    plt.show()\n",
    "\n",
    "# Initialise the count vectorizer with the English stop words\n",
    "\n",
    "from sklearn.feature_extraction import text \n",
    "\n",
    "stopwordslist = ['8950', '9300','9520','9720', '9315', '9310', '9320','9710', '9510', '9305', '11', '3050', '2022', '17', '13', '15', 'helpxps', 'helpxps13', 'dell', 'xps', 'i7', 'help', 'i9', 'life', 'just', 'question', 'work', 'anybody', 'discussionis', 'discussionxps', 'helpdell', 'discussiondell', 'buy', '3rd', 'issue', 'issues', 'does', 'another', 'got', 'new', 'still', 'will', 'apple', 'across','plus', 'w', 'c', 'pd', 'news', 'known', 'xps13']\n",
    "stop_words = text.ENGLISH_STOP_WORDS.union(stopwordslist)\n",
    "\n",
    "count_vectorizer = CountVectorizer(stop_words=stop_words)\n",
    "\n",
    "# Fit and transform the processed titles\n",
    "count_data = count_vectorizer.fit_transform(df['title'])\n",
    "\n",
    "# Visualise the 10 most common words\n",
    "plot_20_most_common_words(count_data, count_vectorizer)"
   ]
  },
  {
   "cell_type": "code",
   "execution_count": 9,
   "metadata": {},
   "outputs": [
    {
     "name": "stdout",
     "output_type": "stream",
     "text": [
      "Topics found via LDA:\n",
      "\n",
      "Topic #1:\n",
      "charging audio power\n",
      "\n",
      "Topic #2:\n",
      "fan noise trackpad\n",
      "\n",
      "Topic #3:\n",
      "vs windows install\n",
      "\n",
      "Topic #4:\n",
      "battery ssd screen\n",
      "\n",
      "Topic #5:\n",
      "usb ubuntu 22\n",
      "\n",
      "Topic #6:\n",
      "ram upgrade battery\n",
      "\n",
      "Topic #7:\n",
      "monitor external gaming\n",
      "\n",
      "Topic #8:\n",
      "touchpad keyboard hot\n",
      "\n",
      "Topic #9:\n",
      "bios update rtx\n",
      "\n",
      "Topic #10:\n",
      "sleep review fix\n"
     ]
    }
   ],
   "source": [
    "import warnings\n",
    "warnings.simplefilter(\"ignore\", DeprecationWarning)\n",
    "\n",
    "# Load the LDA model from sk-learn\n",
    "from sklearn.decomposition import LatentDirichletAllocation as LDA\n",
    " \n",
    "# Helper function\n",
    "def print_topics(model, count_vectorizer, n_top_words):\n",
    "    words = count_vectorizer.get_feature_names()\n",
    "    for topic_idx, topic in enumerate(model.components_):\n",
    "        print(\"\\nTopic #%d:\" % (topic_idx+1))\n",
    "        print(\" \".join([words[i]\n",
    "                        for i in topic.argsort()[:-n_top_words - 1:-1]]))\n",
    "        \n",
    "# Tweak the two parameters below (use int values below 15)\n",
    "number_topics = 10\n",
    "number_words = 3\n",
    "\n",
    "# Create and fit the LDA model\n",
    "lda = LDA(n_components=number_topics)\n",
    "lda.fit(count_data)\n",
    "\n",
    "# Print the topics found by the LDA model\n",
    "print(\"Topics found via LDA:\")\n",
    "print_topics(lda, count_vectorizer, number_words)"
   ]
  },
  {
   "cell_type": "markdown",
   "metadata": {},
   "source": [
    "# NLP"
   ]
  },
  {
   "cell_type": "code",
   "execution_count": 10,
   "metadata": {},
   "outputs": [],
   "source": [
    "# Set seed for reproducibility\n",
    "import random; random.seed(53)\n",
    "\n",
    "# Import all we need from sklearn\n",
    "from sklearn.feature_extraction.text import CountVectorizer, TfidfVectorizer\n",
    "import matplotlib.pyplot as plt\n",
    "import seaborn as sns\n",
    "from sklearn.model_selection import train_test_split\n",
    "from sklearn.decomposition import TruncatedSVD\n",
    "from sklearn.model_selection import GridSearchCV\n",
    "from sklearn.naive_bayes import MultinomialNB\n",
    "from sklearn.preprocessing import LabelEncoder\n",
    "from xgboost import XGBClassifier\n",
    "from sklearn.ensemble import RandomForestClassifier\n",
    "from sklearn.svm import LinearSVC\n",
    "from sklearn.svm import SVC\n",
    "from sklearn import metrics"
   ]
  },
  {
   "cell_type": "code",
   "execution_count": 11,
   "metadata": {},
   "outputs": [
    {
     "data": {
      "text/html": [
       "<div>\n",
       "<style scoped>\n",
       "    .dataframe tbody tr th:only-of-type {\n",
       "        vertical-align: middle;\n",
       "    }\n",
       "\n",
       "    .dataframe tbody tr th {\n",
       "        vertical-align: top;\n",
       "    }\n",
       "\n",
       "    .dataframe thead th {\n",
       "        text-align: right;\n",
       "    }\n",
       "</style>\n",
       "<table border=\"1\" class=\"dataframe\">\n",
       "  <thead>\n",
       "    <tr style=\"text-align: right;\">\n",
       "      <th></th>\n",
       "      <th>counter</th>\n",
       "      <th>post date</th>\n",
       "      <th>model</th>\n",
       "      <th>source</th>\n",
       "      <th>number of likes</th>\n",
       "      <th>number of comments</th>\n",
       "      <th>title</th>\n",
       "      <th>content</th>\n",
       "      <th>link</th>\n",
       "      <th>label</th>\n",
       "      <th>combined</th>\n",
       "    </tr>\n",
       "  </thead>\n",
       "  <tbody>\n",
       "    <tr>\n",
       "      <th>0</th>\n",
       "      <td>1</td>\n",
       "      <td>2023-02-15</td>\n",
       "      <td>xps 13 9315</td>\n",
       "      <td>xps - reddit</td>\n",
       "      <td>0</td>\n",
       "      <td>1</td>\n",
       "      <td>xps13 9315 without windows</td>\n",
       "      <td>hey i want to buy a 9315 with linux, and maybe...</td>\n",
       "      <td>https://www.reddit.com/r/XPS/comments/1130y8l/...</td>\n",
       "      <td>question (technical)</td>\n",
       "      <td>xps13 9315 without windows hey i want to buy a...</td>\n",
       "    </tr>\n",
       "    <tr>\n",
       "      <th>1</th>\n",
       "      <td>2</td>\n",
       "      <td>2023-02-09</td>\n",
       "      <td>xps 15 9510</td>\n",
       "      <td>xps - reddit</td>\n",
       "      <td>1</td>\n",
       "      <td>0</td>\n",
       "      <td>galaxy book 3 ultra or xps 15 oled</td>\n",
       "      <td>currently i have a xps 15 9510 1080p model. fo...</td>\n",
       "      <td>https://www.reddit.com/r/XPS/comments/10xotyn/...</td>\n",
       "      <td>question (purchasing)</td>\n",
       "      <td>galaxy book 3 ultra or xps 15 oled currently i...</td>\n",
       "    </tr>\n",
       "    <tr>\n",
       "      <th>2</th>\n",
       "      <td>3</td>\n",
       "      <td>2023-02-08</td>\n",
       "      <td>xps 15 9520</td>\n",
       "      <td>xps - reddit</td>\n",
       "      <td>1</td>\n",
       "      <td>2</td>\n",
       "      <td>how do i disable the proximity sensor on xps 9...</td>\n",
       "      <td>everytime i walk away from my computer to go d...</td>\n",
       "      <td>https://www.reddit.com/r/XPS/comments/10xb6vy/...</td>\n",
       "      <td>question (technical)</td>\n",
       "      <td>how do i disable the proximity sensor on xps 9...</td>\n",
       "    </tr>\n",
       "    <tr>\n",
       "      <th>3</th>\n",
       "      <td>4</td>\n",
       "      <td>2023-02-07</td>\n",
       "      <td>xps 13 9310</td>\n",
       "      <td>xps - reddit</td>\n",
       "      <td>1</td>\n",
       "      <td>2</td>\n",
       "      <td>ir sensor</td>\n",
       "      <td>i've recently got my hands on a xps 13 9310 an...</td>\n",
       "      <td>https://www.reddit.com/r/XPS/comments/10w80wz/...</td>\n",
       "      <td>question (technical)</td>\n",
       "      <td>ir sensor i've recently got my hands on a xps ...</td>\n",
       "    </tr>\n",
       "    <tr>\n",
       "      <th>4</th>\n",
       "      <td>5</td>\n",
       "      <td>2023-02-02</td>\n",
       "      <td>xps 15 9520</td>\n",
       "      <td>xps - reddit</td>\n",
       "      <td>3</td>\n",
       "      <td>6</td>\n",
       "      <td>dell xps 15 9520 performance issue after ram u...</td>\n",
       "      <td>hey guys, i upgraded my ram from 32gb to 64gb ...</td>\n",
       "      <td>https://www.reddit.com/r/XPS/comments/10rmcwm/...</td>\n",
       "      <td>question (technical)</td>\n",
       "      <td>dell xps 15 9520 performance issue after ram u...</td>\n",
       "    </tr>\n",
       "  </tbody>\n",
       "</table>\n",
       "</div>"
      ],
      "text/plain": [
       "   counter   post date        model        source  number of likes  \\\n",
       "0        1  2023-02-15  xps 13 9315  xps - reddit                0   \n",
       "1        2  2023-02-09  xps 15 9510  xps - reddit                1   \n",
       "2        3  2023-02-08  xps 15 9520  xps - reddit                1   \n",
       "3        4  2023-02-07  xps 13 9310  xps - reddit                1   \n",
       "4        5  2023-02-02  xps 15 9520  xps - reddit                3   \n",
       "\n",
       "   number of comments                                              title  \\\n",
       "0                   1                         xps13 9315 without windows   \n",
       "1                   0                 galaxy book 3 ultra or xps 15 oled   \n",
       "2                   2  how do i disable the proximity sensor on xps 9...   \n",
       "3                   2                                          ir sensor   \n",
       "4                   6  dell xps 15 9520 performance issue after ram u...   \n",
       "\n",
       "                                             content  \\\n",
       "0  hey i want to buy a 9315 with linux, and maybe...   \n",
       "1  currently i have a xps 15 9510 1080p model. fo...   \n",
       "2  everytime i walk away from my computer to go d...   \n",
       "3  i've recently got my hands on a xps 13 9310 an...   \n",
       "4  hey guys, i upgraded my ram from 32gb to 64gb ...   \n",
       "\n",
       "                                                link                  label  \\\n",
       "0  https://www.reddit.com/r/XPS/comments/1130y8l/...   question (technical)   \n",
       "1  https://www.reddit.com/r/XPS/comments/10xotyn/...  question (purchasing)   \n",
       "2  https://www.reddit.com/r/XPS/comments/10xb6vy/...   question (technical)   \n",
       "3  https://www.reddit.com/r/XPS/comments/10w80wz/...   question (technical)   \n",
       "4  https://www.reddit.com/r/XPS/comments/10rmcwm/...   question (technical)   \n",
       "\n",
       "                                            combined  \n",
       "0  xps13 9315 without windows hey i want to buy a...  \n",
       "1  galaxy book 3 ultra or xps 15 oled currently i...  \n",
       "2  how do i disable the proximity sensor on xps 9...  \n",
       "3  ir sensor i've recently got my hands on a xps ...  \n",
       "4  dell xps 15 9520 performance issue after ram u...  "
      ]
     },
     "execution_count": 11,
     "metadata": {},
     "output_type": "execute_result"
    }
   ],
   "source": [
    "import pandas as pd\n",
    "\n",
    "# Load data\n",
    "df = pd.read_csv('reddit (label xps) all.csv')\n",
    "\n",
    "df = df.dropna(axis=0)\n",
    "\n",
    "# combined only list\n",
    "df['combined'] = df['title'] + ' ' + df['content']\n",
    "\n",
    "# Create target\n",
    "y = df['label']\n",
    "df.head()"
   ]
  },
  {
   "cell_type": "code",
   "execution_count": 12,
   "metadata": {},
   "outputs": [
    {
     "name": "stdout",
     "output_type": "stream",
     "text": [
      "['i', 'me', 'my', 'myself', 'we', 'our', 'ours', 'ourselves', 'you', \"you're\"]\n"
     ]
    },
    {
     "name": "stderr",
     "output_type": "stream",
     "text": [
      "[nltk_data] Downloading package stopwords to\n",
      "[nltk_data]     C:\\Users\\xup641284\\AppData\\Roaming\\nltk_data...\n",
      "[nltk_data]   Package stopwords is already up-to-date!\n"
     ]
    }
   ],
   "source": [
    "nltk.download('stopwords')\n",
    "\n",
    "stopwordslist = [\"helpxps\", \"dell\", \"xps\", '13', '15', '17', '2','3', '0', '1', '8950', 'vs', '3050', '11', 'm1', 'i7','ram','ssd','support',\n",
    "                 '9305', '9310', '9320', '9510', '9520', '9710', '9720', 'running', 'first', 'update', 'able', 'well', 'getting', 'plus', 'performance','discussionxps', 'helpdell', 'discussiondell',\n",
    "                 'would', 'around', 'used','find', 'run', 'else', 'machine', 'see', 'gen', 'working','going', 'anything', 'model', 'also', 'know', 'work', 'anyone', 'one', 'tried', 'problem', 'need', 'could', 'use', 'intel','4k',\n",
    "                 'get', 'something', 'better', 'help', 'using', 'really', 'like', 'thanks', 'time', 'buy', '3rd', 'laptop', 'back', 'even','two',\n",
    "                 '4', '5', 'com','hi', 'good', 'however', 'seems', 'sure', 'go', 'lot', 'pro', '10', 'fine', 'bought', \n",
    "                 'right', 'much', 'looking', 'think', '32gb','life', 'want', 'every','https', 'since', 'issue', 'issues',\n",
    "                 'another', 'got', 'new','still', 'will', 'apple', 'across', 'w', 'c', 'pd', 'news', 'known', 'xps13']\n",
    "\n",
    "# Getting the English stop words from nltk\n",
    "sw = nltk.corpus.stopwords.words('english')\n",
    "\n",
    "sw.extend(stopwordslist)\n",
    "\n",
    "# Printing out the first eight stop words\n",
    "print(sw[:10])"
   ]
  },
  {
   "cell_type": "code",
   "execution_count": 13,
   "metadata": {},
   "outputs": [
    {
     "name": "stderr",
     "output_type": "stream",
     "text": [
      "[nltk_data] Downloading package omw-1.4 to\n",
      "[nltk_data]     C:\\Users\\xup641284\\AppData\\Roaming\\nltk_data...\n",
      "[nltk_data]   Package omw-1.4 is already up-to-date!\n",
      "[nltk_data] Downloading package wordnet to\n",
      "[nltk_data]     C:\\Users\\xup641284\\AppData\\Roaming\\nltk_data...\n",
      "[nltk_data]   Package wordnet is already up-to-date!\n"
     ]
    }
   ],
   "source": [
    "# lemmatization\n",
    "import nltk\n",
    "nltk.download('omw-1.4')\n",
    "nltk.download('wordnet')\n",
    "from nltk.stem import WordNetLemmatizer\n",
    "lemmatizer = WordNetLemmatizer()\n",
    "df_data = []\n",
    "for i in range(0, len(df)):\n",
    "    review = re.sub('[^a-zA-Z]', ' ', df['combined'].iloc[i])\n",
    "    review = review.split()\n",
    "    review = [lemmatizer.lemmatize(word) for word in review if word not in sw]\n",
    "    review = ' '.join(review)\n",
    "    df_data.append(review)"
   ]
  },
  {
   "cell_type": "code",
   "execution_count": 14,
   "metadata": {},
   "outputs": [],
   "source": [
    "# Split training and testing data, choose between the combined only or lemmatization\n",
    "X_train, X_test, y_train, y_test = train_test_split(df_data, y, random_state=0, test_size=0.2, stratify = y)"
   ]
  },
  {
   "cell_type": "code",
   "execution_count": 15,
   "metadata": {},
   "outputs": [],
   "source": [
    "# Initialize count vectorizer\n",
    "count_vectorizer = CountVectorizer(stop_words=sw, max_df=0.3, min_df=0.001)\n",
    "\n",
    "# Create count train and test variables\n",
    "count_train = count_vectorizer.fit_transform(X_train)\n",
    "count_test = count_vectorizer.transform(X_test)\n",
    "\n",
    "# Initialize tfidf vectorizer\n",
    "tfidf_vectorizer = TfidfVectorizer(stop_words=sw, max_df=0.3, min_df=0.001)\n",
    "\n",
    "# Create tfidf train and test variables\n",
    "tfidf_train = tfidf_vectorizer.fit_transform(X_train)\n",
    "tfidf_test = tfidf_vectorizer.transform(X_test)"
   ]
  },
  {
   "cell_type": "markdown",
   "metadata": {},
   "source": [
    "# Naive Bayes"
   ]
  },
  {
   "cell_type": "code",
   "execution_count": 16,
   "metadata": {},
   "outputs": [
    {
     "name": "stdout",
     "output_type": "stream",
     "text": [
      "Fitting 5 folds for each of 5 candidates, totalling 25 fits\n",
      "[CV 1/5] END ....................................alpha=0.001; total time=   0.0s\n",
      "[CV 2/5] END ....................................alpha=0.001; total time=   0.0s\n",
      "[CV 3/5] END ....................................alpha=0.001; total time=   0.0s\n",
      "[CV 4/5] END ....................................alpha=0.001; total time=   0.0s\n",
      "[CV 5/5] END ....................................alpha=0.001; total time=   0.0s\n",
      "[CV 1/5] END .....................................alpha=0.01; total time=   0.0s\n",
      "[CV 2/5] END .....................................alpha=0.01; total time=   0.0s\n",
      "[CV 3/5] END .....................................alpha=0.01; total time=   0.0s\n",
      "[CV 4/5] END .....................................alpha=0.01; total time=   0.0s\n",
      "[CV 5/5] END .....................................alpha=0.01; total time=   0.0s\n",
      "[CV 1/5] END ......................................alpha=0.1; total time=   0.0s\n",
      "[CV 2/5] END ......................................alpha=0.1; total time=   0.0s\n",
      "[CV 3/5] END ......................................alpha=0.1; total time=   0.0s\n",
      "[CV 4/5] END ......................................alpha=0.1; total time=   0.0s\n",
      "[CV 5/5] END ......................................alpha=0.1; total time=   0.0s\n",
      "[CV 1/5] END ........................................alpha=1; total time=   0.0s\n",
      "[CV 2/5] END ........................................alpha=1; total time=   0.0s\n",
      "[CV 3/5] END ........................................alpha=1; total time=   0.0s\n",
      "[CV 4/5] END ........................................alpha=1; total time=   0.0s\n",
      "[CV 5/5] END ........................................alpha=1; total time=   0.0s\n",
      "[CV 1/5] END .......................................alpha=10; total time=   0.0s\n",
      "[CV 2/5] END .......................................alpha=10; total time=   0.0s\n",
      "[CV 3/5] END .......................................alpha=10; total time=   0.0s\n",
      "[CV 4/5] END .......................................alpha=10; total time=   0.0s\n",
      "[CV 5/5] END .......................................alpha=10; total time=   0.0s\n",
      "Train Accuracy : 0.945\n",
      "Test Accuracy : 0.829\n",
      "Best Accuracy Through Grid Search : 0.836\n",
      "Best Parameters :  {'alpha': 0.1}\n"
     ]
    }
   ],
   "source": [
    "# TF-IDF Gridsearch\n",
    "params = {'alpha': [0.001, 0.01, 0.1, 1, 10],\n",
    "         }\n",
    "\n",
    "multinomial_nb_grid = GridSearchCV(MultinomialNB(), param_grid=params, cv=5, verbose=5)\n",
    "multinomial_nb_grid.fit(tfidf_train,y_train)\n",
    "\n",
    "print('Train Accuracy : %.3f'%multinomial_nb_grid.best_estimator_.score(tfidf_train,y_train))\n",
    "print('Test Accuracy : %.3f'%multinomial_nb_grid.best_estimator_.score(tfidf_test,y_test))\n",
    "print('Best Accuracy Through Grid Search : %.3f'%multinomial_nb_grid.best_score_)\n",
    "print('Best Parameters : ',multinomial_nb_grid.best_params_)"
   ]
  },
  {
   "cell_type": "code",
   "execution_count": 17,
   "metadata": {},
   "outputs": [
    {
     "name": "stdout",
     "output_type": "stream",
     "text": [
      "Fitting 5 folds for each of 5 candidates, totalling 25 fits\n",
      "[CV 1/5] END ....................................alpha=0.001; total time=   0.0s\n",
      "[CV 2/5] END ....................................alpha=0.001; total time=   0.0s\n",
      "[CV 3/5] END ....................................alpha=0.001; total time=   0.0s\n",
      "[CV 4/5] END ....................................alpha=0.001; total time=   0.0s\n",
      "[CV 5/5] END ....................................alpha=0.001; total time=   0.0s\n",
      "[CV 1/5] END .....................................alpha=0.01; total time=   0.0s\n",
      "[CV 2/5] END .....................................alpha=0.01; total time=   0.0s\n",
      "[CV 3/5] END .....................................alpha=0.01; total time=   0.0s\n",
      "[CV 4/5] END .....................................alpha=0.01; total time=   0.0s\n",
      "[CV 5/5] END .....................................alpha=0.01; total time=   0.0s\n",
      "[CV 1/5] END ......................................alpha=0.1; total time=   0.0s\n",
      "[CV 2/5] END ......................................alpha=0.1; total time=   0.0s\n",
      "[CV 3/5] END ......................................alpha=0.1; total time=   0.0s\n",
      "[CV 4/5] END ......................................alpha=0.1; total time=   0.0s\n",
      "[CV 5/5] END ......................................alpha=0.1; total time=   0.0s\n",
      "[CV 1/5] END ........................................alpha=1; total time=   0.0s\n",
      "[CV 2/5] END ........................................alpha=1; total time=   0.0s\n",
      "[CV 3/5] END ........................................alpha=1; total time=   0.0s\n",
      "[CV 4/5] END ........................................alpha=1; total time=   0.0s\n",
      "[CV 5/5] END ........................................alpha=1; total time=   0.0s\n",
      "[CV 1/5] END .......................................alpha=10; total time=   0.0s\n",
      "[CV 2/5] END .......................................alpha=10; total time=   0.0s\n",
      "[CV 3/5] END .......................................alpha=10; total time=   0.0s\n",
      "[CV 4/5] END .......................................alpha=10; total time=   0.0s\n",
      "[CV 5/5] END .......................................alpha=10; total time=   0.0s\n",
      "Train Accuracy : 0.969\n",
      "Test Accuracy : 0.821\n",
      "Best Accuracy Through Grid Search : 0.822\n",
      "Best Parameters :  {'alpha': 0.001}\n"
     ]
    }
   ],
   "source": [
    "# count Gridsearch\n",
    "params = {'alpha': [0.001, 0.01, 0.1, 1, 10],\n",
    "         }\n",
    "\n",
    "multinomial_nb_grid = GridSearchCV(MultinomialNB(), param_grid=params, cv=5, verbose=5)\n",
    "multinomial_nb_grid.fit(count_train,y_train)\n",
    "\n",
    "print('Train Accuracy : %.3f'%multinomial_nb_grid.best_estimator_.score(count_train,y_train))\n",
    "print('Test Accuracy : %.3f'%multinomial_nb_grid.best_estimator_.score(count_test,y_test))\n",
    "print('Best Accuracy Through Grid Search : %.3f'%multinomial_nb_grid.best_score_)\n",
    "print('Best Parameters : ',multinomial_nb_grid.best_params_)"
   ]
  },
  {
   "cell_type": "code",
   "execution_count": 18,
   "metadata": {},
   "outputs": [
    {
     "name": "stdout",
     "output_type": "stream",
     "text": [
      "NaiveBayes Tfidf Score:  0.8292011019283747\n",
      "NaiveBayes Count Score:  0.8236914600550964\n"
     ]
    }
   ],
   "source": [
    "# Create a MulitnomialNB model\n",
    "tfidf_nb = MultinomialNB(alpha = 0.1)\n",
    "tfidf_nb.fit(tfidf_train, y_train)\n",
    "\n",
    "# Run predict on your TF-IDF test data to get your predictions\n",
    "tfidf_nb_pred = tfidf_nb.predict(tfidf_test)\n",
    "\n",
    "# Calculate the accuracy of your predictions\n",
    "tfidf_nb_score = metrics.accuracy_score(tfidf_nb_pred, y_test)\n",
    "\n",
    "# Create a MulitnomialNB model\n",
    "count_nb = MultinomialNB(alpha=0.01)\n",
    "count_nb.fit(count_train, y_train)\n",
    "\n",
    "# Run predict on your count test data to get your predictions\n",
    "count_nb_pred = count_nb.predict(count_test)\n",
    "\n",
    "# Calculate the accuracy of your predictions\n",
    "count_nb_score = metrics.accuracy_score(count_nb_pred, y_test)\n",
    "\n",
    "print('NaiveBayes Tfidf Score: ', tfidf_nb_score)\n",
    "print('NaiveBayes Count Score: ', count_nb_score)"
   ]
  },
  {
   "cell_type": "markdown",
   "metadata": {},
   "source": [
    "## TF-IDF"
   ]
  },
  {
   "cell_type": "code",
   "execution_count": 19,
   "metadata": {},
   "outputs": [
    {
     "name": "stdout",
     "output_type": "stream",
     "text": [
      "                       precision    recall  f1-score   support\n",
      "\n",
      "              dislike       1.00      0.25      0.40        12\n",
      "                 like       0.00      0.00      0.00         3\n",
      "question (operations)       1.00      0.17      0.29        12\n",
      "question (purchasing)       0.70      0.42      0.52        55\n",
      " question (technical)       0.84      0.97      0.90       281\n",
      "\n",
      "             accuracy                           0.83       363\n",
      "            macro avg       0.71      0.36      0.42       363\n",
      "         weighted avg       0.82      0.83      0.80       363\n",
      "\n"
     ]
    },
    {
     "name": "stderr",
     "output_type": "stream",
     "text": [
      "C:\\Users\\xup641284\\Anaconda3\\lib\\site-packages\\sklearn\\metrics\\_classification.py:1245: UndefinedMetricWarning: Precision and F-score are ill-defined and being set to 0.0 in labels with no predicted samples. Use `zero_division` parameter to control this behavior.\n",
      "  _warn_prf(average, modifier, msg_start, len(result))\n",
      "C:\\Users\\xup641284\\Anaconda3\\lib\\site-packages\\sklearn\\metrics\\_classification.py:1245: UndefinedMetricWarning: Precision and F-score are ill-defined and being set to 0.0 in labels with no predicted samples. Use `zero_division` parameter to control this behavior.\n",
      "  _warn_prf(average, modifier, msg_start, len(result))\n",
      "C:\\Users\\xup641284\\Anaconda3\\lib\\site-packages\\sklearn\\metrics\\_classification.py:1245: UndefinedMetricWarning: Precision and F-score are ill-defined and being set to 0.0 in labels with no predicted samples. Use `zero_division` parameter to control this behavior.\n",
      "  _warn_prf(average, modifier, msg_start, len(result))\n"
     ]
    }
   ],
   "source": [
    "from sklearn.metrics import classification_report\n",
    "print(classification_report(y_test, tfidf_nb_pred))"
   ]
  },
  {
   "cell_type": "code",
   "execution_count": 20,
   "metadata": {},
   "outputs": [
    {
     "name": "stdout",
     "output_type": "stream",
     "text": [
      "[[  3   0   0   0   0]\n",
      " [  0   0   0   0   0]\n",
      " [  0   0   2   0   0]\n",
      " [  0   0   2  23   8]\n",
      " [  9   3   8  32 273]]\n"
     ]
    },
    {
     "data": {
      "image/png": "[encoded data removed]",
      "text/plain": [
       "<Figure size 432x288 with 2 Axes>"
      ]
     },
     "metadata": {},
     "output_type": "display_data"
    }
   ],
   "source": [
    "cm=metrics.confusion_matrix(tfidf_nb_pred, y_test)\n",
    "print(cm)\n",
    "cm = pd.DataFrame(cm, index=sorted(y_test.unique()), columns=sorted(y_test.unique()))\n",
    "sns.set(font_scale=1.4) # for label size\n",
    "sns.heatmap(cm, annot=True, cmap=\"Blues\",  annot_kws={\"size\": 16}, fmt='g') # font size\n",
    "\n",
    "plt.show()"
   ]
  },
  {
   "cell_type": "markdown",
   "metadata": {},
   "source": [
    "## CountVectorizer"
   ]
  },
  {
   "cell_type": "code",
   "execution_count": 21,
   "metadata": {},
   "outputs": [
    {
     "name": "stdout",
     "output_type": "stream",
     "text": [
      "                       precision    recall  f1-score   support\n",
      "\n",
      "              dislike       1.00      0.33      0.50        12\n",
      "                 like       0.00      0.00      0.00         3\n",
      "question (operations)       1.00      0.50      0.67        12\n",
      "question (purchasing)       0.56      0.58      0.57        55\n",
      " question (technical)       0.87      0.91      0.89       281\n",
      "\n",
      "             accuracy                           0.82       363\n",
      "            macro avg       0.69      0.47      0.53       363\n",
      "         weighted avg       0.83      0.82      0.82       363\n",
      "\n"
     ]
    }
   ],
   "source": [
    "from sklearn.metrics import classification_report\n",
    "print(classification_report(y_test, count_nb_pred))"
   ]
  },
  {
   "cell_type": "code",
   "execution_count": 22,
   "metadata": {},
   "outputs": [
    {
     "name": "stdout",
     "output_type": "stream",
     "text": [
      "[[  4   0   0   0   0]\n",
      " [  0   0   0   0   1]\n",
      " [  0   0   6   0   0]\n",
      " [  0   0   2  32  23]\n",
      " [  8   3   4  23 257]]\n"
     ]
    },
    {
     "data": {
      "image/png": "[encoded data removed]",
      "text/plain": [
       "<Figure size 432x288 with 2 Axes>"
      ]
     },
     "metadata": {},
     "output_type": "display_data"
    }
   ],
   "source": [
    "cm=metrics.confusion_matrix(count_nb_pred, y_test)\n",
    "print(cm)\n",
    "cm = pd.DataFrame(cm, index=sorted(y_test.unique()), columns=sorted(y_test.unique()))\n",
    "sns.set(font_scale=1.4) # for label size\n",
    "sns.heatmap(cm, annot=True, cmap=\"Blues\",  annot_kws={\"size\": 16}, fmt='g') # font size\n",
    "\n",
    "plt.show()"
   ]
  },
  {
   "cell_type": "markdown",
   "metadata": {},
   "source": [
    "# Linear SVM"
   ]
  },
  {
   "cell_type": "code",
   "execution_count": 23,
   "metadata": {},
   "outputs": [
    {
     "name": "stdout",
     "output_type": "stream",
     "text": [
      "Fitting 5 folds for each of 6 candidates, totalling 30 fits\n",
      "[CV 1/5] END ........................................C=0.001; total time=   0.0s\n",
      "[CV 2/5] END ........................................C=0.001; total time=   0.0s\n",
      "[CV 3/5] END ........................................C=0.001; total time=   0.0s\n",
      "[CV 4/5] END ........................................C=0.001; total time=   0.0s\n",
      "[CV 5/5] END ........................................C=0.001; total time=   0.0s\n",
      "[CV 1/5] END .........................................C=0.01; total time=   0.0s\n",
      "[CV 2/5] END .........................................C=0.01; total time=   0.0s\n",
      "[CV 3/5] END .........................................C=0.01; total time=   0.0s\n",
      "[CV 4/5] END .........................................C=0.01; total time=   0.0s\n",
      "[CV 5/5] END .........................................C=0.01; total time=   0.0s\n",
      "[CV 1/5] END ..........................................C=0.1; total time=   0.0s\n",
      "[CV 2/5] END ..........................................C=0.1; total time=   0.0s\n",
      "[CV 3/5] END ..........................................C=0.1; total time=   0.0s\n",
      "[CV 4/5] END ..........................................C=0.1; total time=   0.0s\n",
      "[CV 5/5] END ..........................................C=0.1; total time=   0.0s\n",
      "[CV 1/5] END ............................................C=1; total time=   0.0s\n",
      "[CV 2/5] END ............................................C=1; total time=   0.0s\n",
      "[CV 3/5] END ............................................C=1; total time=   0.0s\n",
      "[CV 4/5] END ............................................C=1; total time=   0.0s\n",
      "[CV 5/5] END ............................................C=1; total time=   0.0s\n",
      "[CV 1/5] END ...........................................C=10; total time=   0.0s\n",
      "[CV 2/5] END ...........................................C=10; total time=   0.0s\n",
      "[CV 3/5] END ...........................................C=10; total time=   0.0s\n",
      "[CV 4/5] END ...........................................C=10; total time=   0.0s\n",
      "[CV 5/5] END ...........................................C=10; total time=   0.1s\n"
     ]
    },
    {
     "name": "stderr",
     "output_type": "stream",
     "text": [
      "C:\\Users\\xup641284\\Anaconda3\\lib\\site-packages\\sklearn\\svm\\_base.py:986: ConvergenceWarning: Liblinear failed to converge, increase the number of iterations.\n",
      "  \"the number of iterations.\", ConvergenceWarning)\n"
     ]
    },
    {
     "name": "stdout",
     "output_type": "stream",
     "text": [
      "[CV 1/5] END ..........................................C=100; total time=   0.4s\n"
     ]
    },
    {
     "name": "stderr",
     "output_type": "stream",
     "text": [
      "C:\\Users\\xup641284\\Anaconda3\\lib\\site-packages\\sklearn\\svm\\_base.py:986: ConvergenceWarning: Liblinear failed to converge, increase the number of iterations.\n",
      "  \"the number of iterations.\", ConvergenceWarning)\n"
     ]
    },
    {
     "name": "stdout",
     "output_type": "stream",
     "text": [
      "[CV 2/5] END ..........................................C=100; total time=   0.3s\n"
     ]
    },
    {
     "name": "stderr",
     "output_type": "stream",
     "text": [
      "C:\\Users\\xup641284\\Anaconda3\\lib\\site-packages\\sklearn\\svm\\_base.py:986: ConvergenceWarning: Liblinear failed to converge, increase the number of iterations.\n",
      "  \"the number of iterations.\", ConvergenceWarning)\n"
     ]
    },
    {
     "name": "stdout",
     "output_type": "stream",
     "text": [
      "[CV 3/5] END ..........................................C=100; total time=   0.4s\n"
     ]
    },
    {
     "name": "stderr",
     "output_type": "stream",
     "text": [
      "C:\\Users\\xup641284\\Anaconda3\\lib\\site-packages\\sklearn\\svm\\_base.py:986: ConvergenceWarning: Liblinear failed to converge, increase the number of iterations.\n",
      "  \"the number of iterations.\", ConvergenceWarning)\n"
     ]
    },
    {
     "name": "stdout",
     "output_type": "stream",
     "text": [
      "[CV 4/5] END ..........................................C=100; total time=   0.2s\n",
      "[CV 5/5] END ..........................................C=100; total time=   0.2s\n",
      "Train Accuracy : 0.995\n",
      "Test Accuracy : 0.837\n",
      "Best Accuracy Through Grid Search : 0.836\n",
      "Best Parameters :  {'C': 1}\n"
     ]
    },
    {
     "name": "stderr",
     "output_type": "stream",
     "text": [
      "C:\\Users\\xup641284\\Anaconda3\\lib\\site-packages\\sklearn\\svm\\_base.py:986: ConvergenceWarning: Liblinear failed to converge, increase the number of iterations.\n",
      "  \"the number of iterations.\", ConvergenceWarning)\n"
     ]
    }
   ],
   "source": [
    "# TF-IDF Gridsearch\n",
    "params = {'C': [0.001, 0.01, 0.1, 1, 10, 100],\n",
    "         }\n",
    "\n",
    "linearsvc_grid = GridSearchCV(LinearSVC(), param_grid=params, cv=5, verbose=5)\n",
    "linearsvc_grid.fit(tfidf_train,y_train)\n",
    "\n",
    "print('Train Accuracy : %.3f'%linearsvc_grid.best_estimator_.score(tfidf_train,y_train))\n",
    "print('Test Accuracy : %.3f'%linearsvc_grid.best_estimator_.score(tfidf_test,y_test))\n",
    "print('Best Accuracy Through Grid Search : %.3f'%linearsvc_grid.best_score_)\n",
    "print('Best Parameters : ',linearsvc_grid.best_params_)"
   ]
  },
  {
   "cell_type": "code",
   "execution_count": 24,
   "metadata": {},
   "outputs": [
    {
     "name": "stdout",
     "output_type": "stream",
     "text": [
      "Fitting 5 folds for each of 6 candidates, totalling 30 fits\n",
      "[CV 1/5] END ........................................C=0.001; total time=   0.0s\n",
      "[CV 2/5] END ........................................C=0.001; total time=   0.0s\n",
      "[CV 3/5] END ........................................C=0.001; total time=   0.0s\n",
      "[CV 4/5] END ........................................C=0.001; total time=   0.0s\n",
      "[CV 5/5] END ........................................C=0.001; total time=   0.0s\n",
      "[CV 1/5] END .........................................C=0.01; total time=   0.0s\n",
      "[CV 2/5] END .........................................C=0.01; total time=   0.0s\n",
      "[CV 3/5] END .........................................C=0.01; total time=   0.0s\n",
      "[CV 4/5] END .........................................C=0.01; total time=   0.0s\n",
      "[CV 5/5] END .........................................C=0.01; total time=   0.0s\n",
      "[CV 1/5] END ..........................................C=0.1; total time=   0.0s\n",
      "[CV 2/5] END ..........................................C=0.1; total time=   0.0s\n",
      "[CV 3/5] END ..........................................C=0.1; total time=   0.0s\n",
      "[CV 4/5] END ..........................................C=0.1; total time=   0.0s\n",
      "[CV 5/5] END ..........................................C=0.1; total time=   0.0s\n",
      "[CV 1/5] END ............................................C=1; total time=   0.1s\n"
     ]
    },
    {
     "name": "stderr",
     "output_type": "stream",
     "text": [
      "C:\\Users\\xup641284\\Anaconda3\\lib\\site-packages\\sklearn\\svm\\_base.py:986: ConvergenceWarning: Liblinear failed to converge, increase the number of iterations.\n",
      "  \"the number of iterations.\", ConvergenceWarning)\n"
     ]
    },
    {
     "name": "stdout",
     "output_type": "stream",
     "text": [
      "[CV 2/5] END ............................................C=1; total time=   0.1s\n",
      "[CV 3/5] END ............................................C=1; total time=   0.1s\n"
     ]
    },
    {
     "name": "stderr",
     "output_type": "stream",
     "text": [
      "C:\\Users\\xup641284\\Anaconda3\\lib\\site-packages\\sklearn\\svm\\_base.py:986: ConvergenceWarning: Liblinear failed to converge, increase the number of iterations.\n",
      "  \"the number of iterations.\", ConvergenceWarning)\n",
      "C:\\Users\\xup641284\\Anaconda3\\lib\\site-packages\\sklearn\\svm\\_base.py:986: ConvergenceWarning: Liblinear failed to converge, increase the number of iterations.\n",
      "  \"the number of iterations.\", ConvergenceWarning)\n"
     ]
    },
    {
     "name": "stdout",
     "output_type": "stream",
     "text": [
      "[CV 4/5] END ............................................C=1; total time=   0.1s\n"
     ]
    },
    {
     "name": "stderr",
     "output_type": "stream",
     "text": [
      "C:\\Users\\xup641284\\Anaconda3\\lib\\site-packages\\sklearn\\svm\\_base.py:986: ConvergenceWarning: Liblinear failed to converge, increase the number of iterations.\n",
      "  \"the number of iterations.\", ConvergenceWarning)\n"
     ]
    },
    {
     "name": "stdout",
     "output_type": "stream",
     "text": [
      "[CV 5/5] END ............................................C=1; total time=   0.2s\n"
     ]
    },
    {
     "name": "stderr",
     "output_type": "stream",
     "text": [
      "C:\\Users\\xup641284\\Anaconda3\\lib\\site-packages\\sklearn\\svm\\_base.py:986: ConvergenceWarning: Liblinear failed to converge, increase the number of iterations.\n",
      "  \"the number of iterations.\", ConvergenceWarning)\n"
     ]
    },
    {
     "name": "stdout",
     "output_type": "stream",
     "text": [
      "[CV 1/5] END ...........................................C=10; total time=   0.2s\n"
     ]
    },
    {
     "name": "stderr",
     "output_type": "stream",
     "text": [
      "C:\\Users\\xup641284\\Anaconda3\\lib\\site-packages\\sklearn\\svm\\_base.py:986: ConvergenceWarning: Liblinear failed to converge, increase the number of iterations.\n",
      "  \"the number of iterations.\", ConvergenceWarning)\n"
     ]
    },
    {
     "name": "stdout",
     "output_type": "stream",
     "text": [
      "[CV 2/5] END ...........................................C=10; total time=   0.2s\n"
     ]
    },
    {
     "name": "stderr",
     "output_type": "stream",
     "text": [
      "C:\\Users\\xup641284\\Anaconda3\\lib\\site-packages\\sklearn\\svm\\_base.py:986: ConvergenceWarning: Liblinear failed to converge, increase the number of iterations.\n",
      "  \"the number of iterations.\", ConvergenceWarning)\n"
     ]
    },
    {
     "name": "stdout",
     "output_type": "stream",
     "text": [
      "[CV 3/5] END ...........................................C=10; total time=   0.2s\n"
     ]
    },
    {
     "name": "stderr",
     "output_type": "stream",
     "text": [
      "C:\\Users\\xup641284\\Anaconda3\\lib\\site-packages\\sklearn\\svm\\_base.py:986: ConvergenceWarning: Liblinear failed to converge, increase the number of iterations.\n",
      "  \"the number of iterations.\", ConvergenceWarning)\n"
     ]
    },
    {
     "name": "stdout",
     "output_type": "stream",
     "text": [
      "[CV 4/5] END ...........................................C=10; total time=   0.2s\n"
     ]
    },
    {
     "name": "stderr",
     "output_type": "stream",
     "text": [
      "C:\\Users\\xup641284\\Anaconda3\\lib\\site-packages\\sklearn\\svm\\_base.py:986: ConvergenceWarning: Liblinear failed to converge, increase the number of iterations.\n",
      "  \"the number of iterations.\", ConvergenceWarning)\n"
     ]
    },
    {
     "name": "stdout",
     "output_type": "stream",
     "text": [
      "[CV 5/5] END ...........................................C=10; total time=   0.2s\n"
     ]
    },
    {
     "name": "stderr",
     "output_type": "stream",
     "text": [
      "C:\\Users\\xup641284\\Anaconda3\\lib\\site-packages\\sklearn\\svm\\_base.py:986: ConvergenceWarning: Liblinear failed to converge, increase the number of iterations.\n",
      "  \"the number of iterations.\", ConvergenceWarning)\n"
     ]
    },
    {
     "name": "stdout",
     "output_type": "stream",
     "text": [
      "[CV 1/5] END ..........................................C=100; total time=   0.2s\n"
     ]
    },
    {
     "name": "stderr",
     "output_type": "stream",
     "text": [
      "C:\\Users\\xup641284\\Anaconda3\\lib\\site-packages\\sklearn\\svm\\_base.py:986: ConvergenceWarning: Liblinear failed to converge, increase the number of iterations.\n",
      "  \"the number of iterations.\", ConvergenceWarning)\n"
     ]
    },
    {
     "name": "stdout",
     "output_type": "stream",
     "text": [
      "[CV 2/5] END ..........................................C=100; total time=   0.2s\n"
     ]
    },
    {
     "name": "stderr",
     "output_type": "stream",
     "text": [
      "C:\\Users\\xup641284\\Anaconda3\\lib\\site-packages\\sklearn\\svm\\_base.py:986: ConvergenceWarning: Liblinear failed to converge, increase the number of iterations.\n",
      "  \"the number of iterations.\", ConvergenceWarning)\n"
     ]
    },
    {
     "name": "stdout",
     "output_type": "stream",
     "text": [
      "[CV 3/5] END ..........................................C=100; total time=   0.2s\n"
     ]
    },
    {
     "name": "stderr",
     "output_type": "stream",
     "text": [
      "C:\\Users\\xup641284\\Anaconda3\\lib\\site-packages\\sklearn\\svm\\_base.py:986: ConvergenceWarning: Liblinear failed to converge, increase the number of iterations.\n",
      "  \"the number of iterations.\", ConvergenceWarning)\n"
     ]
    },
    {
     "name": "stdout",
     "output_type": "stream",
     "text": [
      "[CV 4/5] END ..........................................C=100; total time=   0.1s\n",
      "[CV 5/5] END ..........................................C=100; total time=   0.2s\n",
      "Train Accuracy : 0.994\n",
      "Test Accuracy : 0.835\n",
      "Best Accuracy Through Grid Search : 0.825\n",
      "Best Parameters :  {'C': 0.1}\n"
     ]
    },
    {
     "name": "stderr",
     "output_type": "stream",
     "text": [
      "C:\\Users\\xup641284\\Anaconda3\\lib\\site-packages\\sklearn\\svm\\_base.py:986: ConvergenceWarning: Liblinear failed to converge, increase the number of iterations.\n",
      "  \"the number of iterations.\", ConvergenceWarning)\n"
     ]
    }
   ],
   "source": [
    "# count Gridsearch\n",
    "params = {'C': [0.001, 0.01, 0.1, 1, 10, 100],\n",
    "         }\n",
    "\n",
    "linearsvc_grid = GridSearchCV(LinearSVC(), param_grid=params, cv=5, verbose=5)\n",
    "linearsvc_grid.fit(count_train,y_train)\n",
    "\n",
    "print('Train Accuracy : %.3f'%linearsvc_grid.best_estimator_.score(count_train,y_train))\n",
    "print('Test Accuracy : %.3f'%linearsvc_grid.best_estimator_.score(count_test,y_test))\n",
    "print('Best Accuracy Through Grid Search : %.3f'%linearsvc_grid.best_score_)\n",
    "print('Best Parameters : ',linearsvc_grid.best_params_)"
   ]
  },
  {
   "cell_type": "code",
   "execution_count": 25,
   "metadata": {},
   "outputs": [
    {
     "name": "stdout",
     "output_type": "stream",
     "text": [
      "LinearSVC Score:   0.837\n"
     ]
    }
   ],
   "source": [
    "# Create a LinearSVM model\n",
    "tfidf_svc = LinearSVC(C=1)\n",
    "tfidf_svc.fit(tfidf_train, y_train)\n",
    "\n",
    "# Run predict on your tfidf test data to get your predictions\n",
    "tfidf_svc_pred = tfidf_svc.predict(tfidf_test)\n",
    "\n",
    "# Calculate your accuracy using the metrics module\n",
    "tfidf_svc_score = metrics.accuracy_score(tfidf_svc_pred, y_test)\n",
    "\n",
    "\n",
    "print(\"LinearSVC Score:   %0.3f\" % tfidf_svc_score)"
   ]
  },
  {
   "cell_type": "code",
   "execution_count": 26,
   "metadata": {},
   "outputs": [
    {
     "name": "stdout",
     "output_type": "stream",
     "text": [
      "                       precision    recall  f1-score   support\n",
      "\n",
      "              dislike       1.00      0.25      0.40        12\n",
      "                 like       0.00      0.00      0.00         3\n",
      "question (operations)       1.00      0.42      0.59        12\n",
      "question (purchasing)       0.68      0.47      0.56        55\n",
      " question (technical)       0.85      0.96      0.90       281\n",
      "\n",
      "             accuracy                           0.84       363\n",
      "            macro avg       0.71      0.42      0.49       363\n",
      "         weighted avg       0.83      0.84      0.82       363\n",
      "\n"
     ]
    },
    {
     "name": "stderr",
     "output_type": "stream",
     "text": [
      "C:\\Users\\xup641284\\Anaconda3\\lib\\site-packages\\sklearn\\metrics\\_classification.py:1245: UndefinedMetricWarning: Precision and F-score are ill-defined and being set to 0.0 in labels with no predicted samples. Use `zero_division` parameter to control this behavior.\n",
      "  _warn_prf(average, modifier, msg_start, len(result))\n",
      "C:\\Users\\xup641284\\Anaconda3\\lib\\site-packages\\sklearn\\metrics\\_classification.py:1245: UndefinedMetricWarning: Precision and F-score are ill-defined and being set to 0.0 in labels with no predicted samples. Use `zero_division` parameter to control this behavior.\n",
      "  _warn_prf(average, modifier, msg_start, len(result))\n",
      "C:\\Users\\xup641284\\Anaconda3\\lib\\site-packages\\sklearn\\metrics\\_classification.py:1245: UndefinedMetricWarning: Precision and F-score are ill-defined and being set to 0.0 in labels with no predicted samples. Use `zero_division` parameter to control this behavior.\n",
      "  _warn_prf(average, modifier, msg_start, len(result))\n"
     ]
    }
   ],
   "source": [
    "from sklearn.metrics import classification_report\n",
    "print(classification_report(y_test, tfidf_svc_pred))"
   ]
  },
  {
   "cell_type": "code",
   "execution_count": 27,
   "metadata": {},
   "outputs": [
    {
     "name": "stdout",
     "output_type": "stream",
     "text": [
      "[[  3   0   0   0   0]\n",
      " [  0   0   0   0   0]\n",
      " [  0   0   5   0   0]\n",
      " [  1   0   0  26  11]\n",
      " [  8   3   7  29 270]]\n"
     ]
    },
    {
     "data": {
      "image/png": "[encoded data removed]",
      "text/plain": [
       "<Figure size 432x288 with 2 Axes>"
      ]
     },
     "metadata": {},
     "output_type": "display_data"
    }
   ],
   "source": [
    "cm=metrics.confusion_matrix(tfidf_svc_pred, y_test)\n",
    "print(cm)\n",
    "cm = pd.DataFrame(cm, index=sorted(y_test.unique()), columns=sorted(y_test.unique()))\n",
    "sns.set(font_scale=1.4) # for label size\n",
    "sns.heatmap(cm, annot=True, cmap=\"Blues\",  annot_kws={\"size\": 16}, fmt='g') # font size\n",
    "\n",
    "plt.show()"
   ]
  },
  {
   "cell_type": "code",
   "execution_count": 28,
   "metadata": {},
   "outputs": [
    {
     "name": "stdout",
     "output_type": "stream",
     "text": [
      "LinearSVC Score:   0.835\n"
     ]
    }
   ],
   "source": [
    "# Create a LinearSVM model\n",
    "count_svc = LinearSVC(C=0.1)\n",
    "count_svc.fit(count_train, y_train)\n",
    "\n",
    "# Run predict on your tfidf test data to get your predictions\n",
    "count_svc_pred = count_svc.predict(count_test)\n",
    "\n",
    "# Calculate your accuracy using the metrics module\n",
    "count_svc_score = metrics.accuracy_score(count_svc_pred, y_test)\n",
    "\n",
    "\n",
    "print(\"LinearSVC Score:   %0.3f\" % count_svc_score)"
   ]
  },
  {
   "cell_type": "code",
   "execution_count": 29,
   "metadata": {},
   "outputs": [
    {
     "name": "stdout",
     "output_type": "stream",
     "text": [
      "[[  4   0   0   0   0]\n",
      " [  0   0   0   0   0]\n",
      " [  0   0   6   1   0]\n",
      " [  1   0   2  27  15]\n",
      " [  7   3   4  27 266]]\n"
     ]
    },
    {
     "data": {
      "image/png": "[encoded data removed]",
      "text/plain": [
       "<Figure size 432x288 with 2 Axes>"
      ]
     },
     "metadata": {},
     "output_type": "display_data"
    }
   ],
   "source": [
    "cm=metrics.confusion_matrix(count_svc_pred, y_test)\n",
    "print(cm)\n",
    "cm = pd.DataFrame(cm, index=sorted(y_test.unique()), columns=sorted(y_test.unique()))\n",
    "sns.set(font_scale=1.4) # for label size\n",
    "sns.heatmap(cm, annot=True, cmap=\"Blues\",  annot_kws={\"size\": 16}, fmt='g') # font size\n",
    "\n",
    "plt.show()"
   ]
  },
  {
   "cell_type": "markdown",
   "metadata": {},
   "source": [
    "# XGBoost"
   ]
  },
  {
   "cell_type": "code",
   "execution_count": 30,
   "metadata": {},
   "outputs": [],
   "source": [
    "df = pd.read_csv('reddit (label xps) all.csv')\n",
    "\n",
    "df = df.dropna(axis=0)\n",
    "\n",
    "# combined only list\n",
    "df['combined'] = df['title'] + ' ' + df['content']\n",
    "\n",
    "# Create target\n",
    "y = df['label']"
   ]
  },
  {
   "cell_type": "code",
   "execution_count": 31,
   "metadata": {},
   "outputs": [],
   "source": [
    "X_train, X_test, y_train, y_test = train_test_split(df_data, y, random_state=0, test_size=0.2, stratify = y)\n",
    "le = LabelEncoder()\n",
    "y_train = le.fit_transform(y_train)\n",
    "y_test = le.fit_transform(y_test)"
   ]
  },
  {
   "cell_type": "code",
   "execution_count": 32,
   "metadata": {},
   "outputs": [],
   "source": [
    "# Initialize count vectorizer\n",
    "count_vectorizer = CountVectorizer(stop_words=sw, max_df=0.3, min_df=0.001)\n",
    "\n",
    "# Create count train and test variables\n",
    "count_train = count_vectorizer.fit_transform(X_train)\n",
    "count_test = count_vectorizer.transform(X_test)\n",
    "\n",
    "# Initialize tfidf vectorizer\n",
    "tfidf_vectorizer = TfidfVectorizer(stop_words=sw, max_df=0.3, min_df=0.001)\n",
    "\n",
    "# Create tfidf train and test variables\n",
    "tfidf_train = tfidf_vectorizer.fit_transform(X_train)\n",
    "tfidf_test = tfidf_vectorizer.transform(X_test)"
   ]
  },
  {
   "cell_type": "code",
   "execution_count": 33,
   "metadata": {},
   "outputs": [
    {
     "name": "stdout",
     "output_type": "stream",
     "text": [
      "Train Accuracy : 0.970\n",
      "Test Accuracy : 0.815\n",
      "Best Accuracy Through Grid Search : 0.816\n",
      "Best Parameters :  {'colsample_bytree': 0.8, 'reg_alpha': 1, 'reg_lambda': 5}\n"
     ]
    }
   ],
   "source": [
    "# tfidf Gridsearch\n",
    "params = {\n",
    "        'colsample_bytree': [0.3, 0.6, 0.8, 1.0],\n",
    "        'reg_alpha': [0, 0.5, 1, 5],\n",
    "        'reg_lambda': [0, 0.5, 1, 5]\n",
    "        }\n",
    "\n",
    "xgboost_grid = GridSearchCV(XGBClassifier(), param_grid=params, cv = 3, n_jobs = 1, verbose = 0, return_train_score=True)\n",
    "xgboost_grid.fit(tfidf_train,y_train)\n",
    "\n",
    "print('Train Accuracy : %.3f'%xgboost_grid.best_estimator_.score(tfidf_train,y_train))\n",
    "print('Test Accuracy : %.3f'%xgboost_grid.best_estimator_.score(tfidf_test,y_test))\n",
    "print('Best Accuracy Through Grid Search : %.3f'%xgboost_grid.best_score_)\n",
    "print('Best Parameters : ',xgboost_grid.best_params_)"
   ]
  },
  {
   "cell_type": "code",
   "execution_count": 34,
   "metadata": {},
   "outputs": [
    {
     "name": "stdout",
     "output_type": "stream",
     "text": [
      "Train Accuracy : 0.968\n",
      "Test Accuracy : 0.835\n",
      "Best Accuracy Through Grid Search : 0.827\n",
      "Best Parameters :  {'colsample_bytree': 0.8, 'reg_alpha': 1, 'reg_lambda': 1}\n"
     ]
    }
   ],
   "source": [
    "# count Gridsearch\n",
    "params = {\n",
    "        'colsample_bytree': [0.3, 0.6, 0.8, 1.0],\n",
    "        'reg_alpha': [0, 0.5, 1, 5],\n",
    "        'reg_lambda': [0, 0.5, 1, 5]\n",
    "        }\n",
    "\n",
    "xgboost_grid = GridSearchCV(XGBClassifier(), param_grid=params, cv = 3, n_jobs = 1, verbose = 0, return_train_score=True)\n",
    "xgboost_grid.fit(count_train,y_train)\n",
    "\n",
    "print('Train Accuracy : %.3f'%xgboost_grid.best_estimator_.score(count_train,y_train))\n",
    "print('Test Accuracy : %.3f'%xgboost_grid.best_estimator_.score(count_test,y_test))\n",
    "print('Best Accuracy Through Grid Search : %.3f'%xgboost_grid.best_score_)\n",
    "print('Best Parameters : ',xgboost_grid.best_params_)"
   ]
  },
  {
   "cell_type": "code",
   "execution_count": 35,
   "metadata": {},
   "outputs": [
    {
     "name": "stdout",
     "output_type": "stream",
     "text": [
      "XGboost Tfidf Score:  0.8236914600550964\n",
      "XGboost Count Score:  0.8264462809917356\n"
     ]
    }
   ],
   "source": [
    "from xgboost import XGBClassifier\n",
    "\n",
    "# Create a MulitnomialNB model\n",
    "tfidf_xgt = XGBClassifier(colsample_bytree = 0.3, reg_alpha = 0, reg_lambda = 1, subsample = 1, min_child_weight = 1)\n",
    "tfidf_xgt.fit(tfidf_train, y_train)\n",
    "\n",
    "# Run predict on your TF-IDF test data to get your predictions\n",
    "tfidf_xgt_pred = tfidf_xgt.predict(tfidf_test)\n",
    "\n",
    "# Calculate the accuracy of your predictions\n",
    "tfidf_xgt_score = metrics.accuracy_score(tfidf_xgt_pred, y_test)\n",
    "\n",
    "# Create a MulitnomialNB model\n",
    "count_xgt = XGBClassifier(colsample_bytree = 0.3, reg_alpha = 0, reg_lambda = 0, subsample=1.0, min_child_weight = 1)\n",
    "count_xgt.fit(count_train, y_train)\n",
    "\n",
    "# Run predict on your count test data to get your predictions\n",
    "count_xgt_pred = count_xgt.predict(count_test)\n",
    "\n",
    "# Calculate the accuracy of your predictions\n",
    "count_xgt_score = metrics.accuracy_score(count_xgt_pred, y_test)\n",
    "\n",
    "print('XGboost Tfidf Score: ', tfidf_xgt_score)\n",
    "print('XGboost Count Score: ', count_xgt_score)"
   ]
  },
  {
   "cell_type": "markdown",
   "metadata": {},
   "source": [
    "# LSTM"
   ]
  },
  {
   "cell_type": "code",
   "execution_count": 120,
   "metadata": {},
   "outputs": [],
   "source": [
    "import seaborn as sns\n",
    "import matplotlib.pyplot as plt\n",
    "from tensorflow.keras.preprocessing.text import Tokenizer\n",
    "import numpy as np\n",
    "from tensorflow.keras.preprocessing.sequence import pad_sequences\n",
    "from keras.callbacks import EarlyStopping\n",
    "from tensorflow.keras.optimizers import SGD\n",
    "import tensorflow as tf\n",
    "import time\n",
    "from collections import Counter"
   ]
  },
  {
   "cell_type": "code",
   "execution_count": 121,
   "metadata": {},
   "outputs": [],
   "source": [
    "# Load data\n",
    "df = pd.read_csv('reddit (label xps) all.csv')\n",
    "\n",
    "df = df.dropna(axis=0)\n",
    "\n",
    "# combined only list\n",
    "df['combined'] = df['title'] + ' ' + df['content']\n",
    "\n",
    "# Create target\n",
    "y_label = df['label']"
   ]
  },
  {
   "cell_type": "code",
   "execution_count": 122,
   "metadata": {},
   "outputs": [
    {
     "name": "stdout",
     "output_type": "stream",
     "text": [
      "Shape of label tensor: (1811, 5)\n",
      "Index(['dislike', 'like', 'question (operations)', 'question (purchasing)',\n",
      "       'question (technical)'],\n",
      "      dtype='object')\n"
     ]
    }
   ],
   "source": [
    "y = pd.get_dummies(y_label).values\n",
    "name = pd.get_dummies(y_label)\n",
    "#get column names that were not in the original dataframe\n",
    "new_cols = name.columns[~name.columns.isin(df.columns)]\n",
    "print('Shape of label tensor:', y.shape)\n",
    "print(new_cols)"
   ]
  },
  {
   "cell_type": "code",
   "execution_count": 123,
   "metadata": {},
   "outputs": [
    {
     "name": "stderr",
     "output_type": "stream",
     "text": [
      "[nltk_data] Downloading package stopwords to\n",
      "[nltk_data]     C:\\Users\\xup641284\\AppData\\Roaming\\nltk_data...\n",
      "[nltk_data]   Package stopwords is already up-to-date!\n"
     ]
    }
   ],
   "source": [
    "nltk.download('stopwords')\n",
    "\n",
    "stopwordslist = [\"helpxps\", \"dell\", \"xps\", '13', '15', '17', '2','3', '0', '1', '8950', '8950,', '..', 'x.', 'vs', '(9320)', '9320?', '-', ':', '3050', '11', 'm1', 'i7','ram','ssd','support',\n",
    "                 '9305', '9310', '9320', '9510', '9520', '9710', '9720', '9720.', '9315', '9315 ', 'plus', '3060', 'running', 'high', 'review','sometimes', 'update', 'able', 'well', 'getting', 'plus', 'performance','discussionxps', 'helpdell', 'discussiondell',\n",
    "                 'would', 'dont', 'find', 'run', 'else', 'machine', 'see', 'gen', 'working', 'cant', 'going', 'anything', 'model', 'also', 'know', 'work', 'anyone', 'one', 'tried', 'problem', 'need', 'could', 'use', 'intel','4k',\n",
    "                 'get', 'something', 'better', 'help', 'using', 'really', 'like', 'thanks', 'time', 'buy', '3rd', 'laptop', 'back', 'even','two',\n",
    "                 '4', '5', 'com','hi', 'good', 'however', 'seems', 'sure', 'go', 'lot', 'pro', '10', 'fine', 'bought', \n",
    "                 'right', 'much', 'looking', 'think', '32gb','life', 'want', 'every','https', 'since', 'issue', 'issues',\n",
    "                 'another', 'got', 'new','still', 'will', 'apple', 'across', 'w', 'c', 'pd', 'news', 'known', 'xps13']\n",
    "\n",
    "# Getting the English stop words from nltk\n",
    "sw = nltk.corpus.stopwords.words('english')\n",
    "\n",
    "sw.extend(stopwordslist)\n"
   ]
  },
  {
   "cell_type": "code",
   "execution_count": 124,
   "metadata": {},
   "outputs": [
    {
     "data": {
      "text/plain": [
       "[('', 10448),\n",
       " ('without', 137),\n",
       " ('windows', 750),\n",
       " ('hey', 81),\n",
       " ('linux', 131),\n",
       " ('maybe', 139),\n",
       " ('give', 58),\n",
       " ('features', 13),\n",
       " ('oem', 25),\n",
       " ('ordered', 93)]"
      ]
     },
     "execution_count": 124,
     "metadata": {},
     "output_type": "execute_result"
    }
   ],
   "source": [
    "from collections import Counter\n",
    "def counter_word(text):\n",
    "    count = Counter()\n",
    "    for i in text.values:\n",
    "        for word in i.split():\n",
    "            word = re.sub('[^a-zA-Z]', ' ',word)\n",
    "            word = word.strip().replace(' ', '')\n",
    "            if word not in sw:\n",
    "                count[word.strip().replace(' ', '')] += 1\n",
    "    return count\n",
    "\n",
    "text_values = df['combined']\n",
    "\n",
    "counter = counter_word(text_values)\n",
    "list(counter.items())[:10]"
   ]
  },
  {
   "cell_type": "code",
   "execution_count": 125,
   "metadata": {},
   "outputs": [
    {
     "name": "stderr",
     "output_type": "stream",
     "text": [
      "[nltk_data] Downloading package wordnet to\n",
      "[nltk_data]     C:\\Users\\xup641284\\AppData\\Roaming\\nltk_data...\n",
      "[nltk_data]   Package wordnet is already up-to-date!\n"
     ]
    }
   ],
   "source": [
    "# lemmatization\n",
    "import nltk\n",
    "nltk.download('wordnet')\n",
    "from nltk.stem import WordNetLemmatizer\n",
    "lemmatizer = WordNetLemmatizer()\n",
    "df_data = []\n",
    "for i in range(0, len(text_values)):\n",
    "    review = re.sub('[^a-zA-Z]', ' ', text_values.iloc[i])\n",
    "    review = review.split()\n",
    "    review = [lemmatizer.lemmatize(word) for word in review if word not in sw]\n",
    "    review = ' '.join(review)\n",
    "    df_data.append(review)"
   ]
  },
  {
   "cell_type": "code",
   "execution_count": 126,
   "metadata": {},
   "outputs": [],
   "source": [
    "# sparse matrix\n",
    "#df = pd.DataFrame([counter.keys(), counter.values()], index = ['word','count']).T\n",
    "#df = df.pivot(columns = 'word', values = 'count').fillna(0)\n",
    "#df"
   ]
  },
  {
   "cell_type": "code",
   "execution_count": 127,
   "metadata": {},
   "outputs": [
    {
     "name": "stdout",
     "output_type": "stream",
     "text": [
      "Found 10622 unique tokens.\n"
     ]
    }
   ],
   "source": [
    "# The maximum number of words to be used. (most frequent)\n",
    "vocab_size = len(counter)\n",
    "\n",
    "# This is fixed\n",
    "embedding_dim = 32\n",
    "\n",
    "# Max number of words in each complaint\n",
    "max_length = 20\n",
    "\n",
    "tokenizer = Tokenizer(num_words=vocab_size, filters='!\"#$%&()*+,-./:;<=>?@[\\]^_`{|}z~', lower=True)\n",
    "tokenizer.fit_on_texts(df['combined'].values)\n",
    "word_index = tokenizer.word_index\n",
    "print('Found %s unique tokens.' % len(word_index))\n"
   ]
  },
  {
   "cell_type": "code",
   "execution_count": 128,
   "metadata": {},
   "outputs": [
    {
     "name": "stdout",
     "output_type": "stream",
     "text": [
      "Shape of data tensor: (1811, 20)\n"
     ]
    }
   ],
   "source": [
    "X = tokenizer.texts_to_sequences(df_data)\n",
    "X = pad_sequences(X, maxlen=max_length)\n",
    "print('Shape of data tensor:', X.shape)"
   ]
  },
  {
   "cell_type": "code",
   "execution_count": 129,
   "metadata": {},
   "outputs": [
    {
     "name": "stdout",
     "output_type": "stream",
     "text": [
      "Shape of label tensor: (1811, 5)\n"
     ]
    },
    {
     "data": {
      "text/plain": [
       "array(['dislike', 'like', 'question (operations)',\n",
       "       'question (purchasing)', 'question (technical)'], dtype=object)"
      ]
     },
     "execution_count": 129,
     "metadata": {},
     "output_type": "execute_result"
    }
   ],
   "source": [
    "y = pd.get_dummies(y_label).values\n",
    "print('Shape of label tensor:', y.shape)\n",
    "np.unique(y_label)"
   ]
  },
  {
   "cell_type": "code",
   "execution_count": 130,
   "metadata": {},
   "outputs": [
    {
     "name": "stdout",
     "output_type": "stream",
     "text": [
      "(1448, 20) (1448, 5)\n",
      "(363, 20) (363, 5)\n"
     ]
    }
   ],
   "source": [
    "X_train, X_test, y_train, y_test = train_test_split(X, y, test_size = 0.20, random_state = 42)\n",
    "print(X_train.shape,y_train.shape)\n",
    "print(X_test.shape,y_test.shape)"
   ]
  },
  {
   "cell_type": "code",
   "execution_count": 131,
   "metadata": {},
   "outputs": [
    {
     "name": "stdout",
     "output_type": "stream",
     "text": [
      "Model: \"sequential_1\"\n",
      "_________________________________________________________________\n",
      " Layer (type)                Output Shape              Param #   \n",
      "=================================================================\n",
      " embedding_1 (Embedding)     (None, 20, 32)            289632    \n",
      "                                                                 \n",
      " spatial_dropout1d_1 (Spatia  (None, 20, 32)           0         \n",
      " lDropout1D)                                                     \n",
      "                                                                 \n",
      " lstm_2 (LSTM)               (None, 20, 32)            8320      \n",
      "                                                                 \n",
      " lstm_3 (LSTM)               (None, 32)                8320      \n",
      "                                                                 \n",
      " dense_2 (Dense)             (None, 32)                1056      \n",
      "                                                                 \n",
      " dense_3 (Dense)             (None, 5)                 165       \n",
      "                                                                 \n",
      "=================================================================\n",
      "Total params: 307,493\n",
      "Trainable params: 307,493\n",
      "Non-trainable params: 0\n",
      "_________________________________________________________________\n"
     ]
    }
   ],
   "source": [
    "# Model Definition with LSTM\n",
    "\n",
    "model = tf.keras.Sequential([\n",
    "    tf.keras.layers.Embedding(vocab_size, embedding_dim, input_length=max_length),\n",
    "    tf.keras.layers.SpatialDropout1D(0.2),\n",
    "    tf.keras.layers.LSTM(32, dropout=0.2, recurrent_dropout=0.2, return_sequences = True),\n",
    "    tf.keras.layers.LSTM(32),\n",
    "    tf.keras.layers.Dense(32, activation='softmax'),\n",
    "    tf.keras.layers.Dense(5, activation='softmax')\n",
    "])\n",
    "model.compile(loss='categorical_crossentropy', optimizer='adam', metrics=['accuracy'])\n",
    "model.summary()"
   ]
  },
  {
   "cell_type": "code",
   "execution_count": 132,
   "metadata": {},
   "outputs": [
    {
     "name": "stdout",
     "output_type": "stream",
     "text": [
      "Epoch 1/40\n",
      "19/19 [==============================] - 6s 72ms/step - loss: 1.5857 - accuracy: 0.4085 - val_loss: 1.5326 - val_accuracy: 0.7690\n",
      "Epoch 2/40\n",
      "19/19 [==============================] - 1s 35ms/step - loss: 1.4551 - accuracy: 0.7824 - val_loss: 1.3900 - val_accuracy: 0.7690\n",
      "Epoch 3/40\n",
      "19/19 [==============================] - 1s 36ms/step - loss: 1.3394 - accuracy: 0.7824 - val_loss: 1.2998 - val_accuracy: 0.7690\n",
      "Epoch 4/40\n",
      "19/19 [==============================] - 1s 31ms/step - loss: 1.2628 - accuracy: 0.7824 - val_loss: 1.2387 - val_accuracy: 0.7690\n",
      "Epoch 5/40\n",
      "19/19 [==============================] - 1s 32ms/step - loss: 1.2065 - accuracy: 0.7824 - val_loss: 1.1919 - val_accuracy: 0.7690\n",
      "Epoch 6/40\n",
      "19/19 [==============================] - 1s 30ms/step - loss: 1.1616 - accuracy: 0.7824 - val_loss: 1.1534 - val_accuracy: 0.7690\n",
      "Epoch 7/40\n",
      "19/19 [==============================] - 1s 35ms/step - loss: 1.1240 - accuracy: 0.7824 - val_loss: 1.1194 - val_accuracy: 0.7690\n",
      "Epoch 8/40\n",
      "19/19 [==============================] - 1s 36ms/step - loss: 1.0909 - accuracy: 0.7824 - val_loss: 1.0894 - val_accuracy: 0.7690\n",
      "Epoch 9/40\n",
      "19/19 [==============================] - 1s 31ms/step - loss: 1.0611 - accuracy: 0.7824 - val_loss: 1.0623 - val_accuracy: 0.7690\n",
      "Epoch 10/40\n",
      "19/19 [==============================] - 1s 35ms/step - loss: 1.0343 - accuracy: 0.7824 - val_loss: 1.0376 - val_accuracy: 0.7690\n",
      "Epoch 11/40\n",
      "19/19 [==============================] - 1s 33ms/step - loss: 1.0098 - accuracy: 0.7824 - val_loss: 1.0153 - val_accuracy: 0.7690\n",
      "Epoch 12/40\n",
      "19/19 [==============================] - 1s 41ms/step - loss: 0.9886 - accuracy: 0.7824 - val_loss: 0.9962 - val_accuracy: 0.7690\n",
      "Epoch 13/40\n",
      "19/19 [==============================] - 1s 40ms/step - loss: 0.9694 - accuracy: 0.7824 - val_loss: 0.9783 - val_accuracy: 0.7690\n",
      "Epoch 14/40\n",
      "19/19 [==============================] - 1s 33ms/step - loss: 0.9518 - accuracy: 0.7824 - val_loss: 0.9616 - val_accuracy: 0.7690\n",
      "Epoch 15/40\n",
      "19/19 [==============================] - 1s 33ms/step - loss: 0.9351 - accuracy: 0.7824 - val_loss: 0.9461 - val_accuracy: 0.7690\n",
      "Epoch 16/40\n",
      "19/19 [==============================] - 1s 32ms/step - loss: 0.9198 - accuracy: 0.7824 - val_loss: 0.9321 - val_accuracy: 0.7690\n",
      "Epoch 17/40\n",
      "19/19 [==============================] - 1s 40ms/step - loss: 0.9062 - accuracy: 0.7824 - val_loss: 0.9193 - val_accuracy: 0.7690\n",
      "Epoch 18/40\n",
      "19/19 [==============================] - 1s 35ms/step - loss: 0.8935 - accuracy: 0.7824 - val_loss: 0.9075 - val_accuracy: 0.7690\n",
      "Epoch 19/40\n",
      "19/19 [==============================] - 1s 31ms/step - loss: 0.8816 - accuracy: 0.7824 - val_loss: 0.8969 - val_accuracy: 0.7690\n",
      "Epoch 20/40\n",
      "19/19 [==============================] - 1s 33ms/step - loss: 0.8712 - accuracy: 0.7824 - val_loss: 0.8868 - val_accuracy: 0.7690\n",
      "Epoch 21/40\n",
      "19/19 [==============================] - 1s 39ms/step - loss: 0.8614 - accuracy: 0.7824 - val_loss: 0.8780 - val_accuracy: 0.7690\n",
      "Epoch 22/40\n",
      "19/19 [==============================] - 1s 38ms/step - loss: 0.8528 - accuracy: 0.7824 - val_loss: 0.8698 - val_accuracy: 0.7690\n",
      "Epoch 23/40\n",
      "19/19 [==============================] - 1s 34ms/step - loss: 0.8444 - accuracy: 0.7824 - val_loss: 0.8622 - val_accuracy: 0.7690\n",
      "Epoch 24/40\n",
      "19/19 [==============================] - 1s 31ms/step - loss: 0.8368 - accuracy: 0.7824 - val_loss: 0.8550 - val_accuracy: 0.7690\n",
      "Epoch 25/40\n",
      "19/19 [==============================] - 1s 34ms/step - loss: 0.8297 - accuracy: 0.7824 - val_loss: 0.8482 - val_accuracy: 0.7690\n",
      "Epoch 26/40\n",
      "19/19 [==============================] - 1s 30ms/step - loss: 0.8231 - accuracy: 0.7824 - val_loss: 0.8426 - val_accuracy: 0.7690\n",
      "Epoch 27/40\n",
      "19/19 [==============================] - 1s 30ms/step - loss: 0.8174 - accuracy: 0.7824 - val_loss: 0.8371 - val_accuracy: 0.7690\n",
      "Epoch 28/40\n",
      "19/19 [==============================] - 1s 31ms/step - loss: 0.8118 - accuracy: 0.7824 - val_loss: 0.8321 - val_accuracy: 0.7690\n",
      "Epoch 29/40\n",
      "19/19 [==============================] - 1s 31ms/step - loss: 0.8069 - accuracy: 0.7824 - val_loss: 0.8275 - val_accuracy: 0.7690\n",
      "Epoch 30/40\n",
      "19/19 [==============================] - 1s 33ms/step - loss: 0.8023 - accuracy: 0.7824 - val_loss: 0.8233 - val_accuracy: 0.7690\n",
      "Epoch 31/40\n",
      "19/19 [==============================] - 1s 42ms/step - loss: 0.7979 - accuracy: 0.7824 - val_loss: 0.8191 - val_accuracy: 0.7690\n",
      "Epoch 32/40\n",
      "19/19 [==============================] - 1s 39ms/step - loss: 0.7939 - accuracy: 0.7824 - val_loss: 0.8154 - val_accuracy: 0.7690\n",
      "Epoch 33/40\n",
      "19/19 [==============================] - 1s 32ms/step - loss: 0.7901 - accuracy: 0.7824 - val_loss: 0.8117 - val_accuracy: 0.7690\n",
      "Epoch 34/40\n",
      "19/19 [==============================] - 1s 35ms/step - loss: 0.7863 - accuracy: 0.7824 - val_loss: 0.8083 - val_accuracy: 0.7690\n",
      "Epoch 35/40\n",
      "19/19 [==============================] - 1s 32ms/step - loss: 0.7830 - accuracy: 0.7824 - val_loss: 0.8050 - val_accuracy: 0.7690\n",
      "Epoch 36/40\n",
      "19/19 [==============================] - 1s 34ms/step - loss: 0.7797 - accuracy: 0.7824 - val_loss: 0.8022 - val_accuracy: 0.7690\n",
      "Epoch 37/40\n",
      "19/19 [==============================] - 1s 34ms/step - loss: 0.7768 - accuracy: 0.7824 - val_loss: 0.7995 - val_accuracy: 0.7690\n",
      "Epoch 38/40\n",
      "19/19 [==============================] - 1s 31ms/step - loss: 0.7742 - accuracy: 0.7824 - val_loss: 0.7971 - val_accuracy: 0.7690\n",
      "Epoch 39/40\n",
      "19/19 [==============================] - 1s 31ms/step - loss: 0.7718 - accuracy: 0.7824 - val_loss: 0.7946 - val_accuracy: 0.7690\n",
      "Epoch 40/40\n",
      "19/19 [==============================] - 1s 36ms/step - loss: 0.7694 - accuracy: 0.7824 - val_loss: 0.7923 - val_accuracy: 0.7690\n"
     ]
    }
   ],
   "source": [
    "epochs = 40\n",
    "batch_size = 64\n",
    "\n",
    "history = model.fit(X_train, y_train, \n",
    "                    epochs=epochs, batch_size=batch_size, validation_split=0.2)"
   ]
  },
  {
   "cell_type": "code",
   "execution_count": 133,
   "metadata": {},
   "outputs": [
    {
     "name": "stdout",
     "output_type": "stream",
     "text": [
      "12/12 [==============================] - ETA: 0s - loss: 0.7551 - accuracy: 0.78 - 0s 5ms/step - loss: 0.7677 - accuracy: 0.7796\n",
      "Test set\n",
      "  Loss: 0.768\n",
      "  Accuracy: 0.780\n"
     ]
    }
   ],
   "source": [
    "accr = model.evaluate(X_test,y_test)\n",
    "print('Test set\\n  Loss: {:0.3f}\\n  Accuracy: {:0.3f}'.format(accr[0],accr[1]))"
   ]
  },
  {
   "cell_type": "code",
   "execution_count": 134,
   "metadata": {},
   "outputs": [
    {
     "data": {
      "image/png": "[encoded data removed]",
      "text/plain": [
       "<Figure size 432x288 with 1 Axes>"
      ]
     },
     "metadata": {},
     "output_type": "display_data"
    }
   ],
   "source": [
    "plt.title('Loss')\n",
    "plt.plot(history.history['loss'], label='train')\n",
    "plt.plot(history.history['val_loss'], label='test')\n",
    "plt.legend()\n",
    "plt.show();"
   ]
  },
  {
   "cell_type": "code",
   "execution_count": 135,
   "metadata": {},
   "outputs": [
    {
     "data": {
      "image/png": "[encoded data removed]",
      "text/plain": [
       "<Figure size 432x288 with 1 Axes>"
      ]
     },
     "metadata": {},
     "output_type": "display_data"
    }
   ],
   "source": [
    "plt.title('Accuracy')\n",
    "plt.plot(history.history['accuracy'], label='train')\n",
    "plt.plot(history.history['val_accuracy'], label='test')\n",
    "plt.legend()\n",
    "plt.show();"
   ]
  },
  {
   "cell_type": "code",
   "execution_count": 136,
   "metadata": {},
   "outputs": [
    {
     "data": {
      "text/html": [
       "<div>\n",
       "<style scoped>\n",
       "    .dataframe tbody tr th:only-of-type {\n",
       "        vertical-align: middle;\n",
       "    }\n",
       "\n",
       "    .dataframe tbody tr th {\n",
       "        vertical-align: top;\n",
       "    }\n",
       "\n",
       "    .dataframe thead th {\n",
       "        text-align: right;\n",
       "    }\n",
       "</style>\n",
       "<table border=\"1\" class=\"dataframe\">\n",
       "  <thead>\n",
       "    <tr style=\"text-align: right;\">\n",
       "      <th></th>\n",
       "      <th>loss</th>\n",
       "      <th>accuracy</th>\n",
       "      <th>val_loss</th>\n",
       "      <th>val_accuracy</th>\n",
       "    </tr>\n",
       "  </thead>\n",
       "  <tbody>\n",
       "    <tr>\n",
       "      <th>0</th>\n",
       "      <td>1.585717</td>\n",
       "      <td>0.408463</td>\n",
       "      <td>1.532621</td>\n",
       "      <td>0.768966</td>\n",
       "    </tr>\n",
       "    <tr>\n",
       "      <th>1</th>\n",
       "      <td>1.455064</td>\n",
       "      <td>0.782383</td>\n",
       "      <td>1.390001</td>\n",
       "      <td>0.768966</td>\n",
       "    </tr>\n",
       "    <tr>\n",
       "      <th>2</th>\n",
       "      <td>1.339385</td>\n",
       "      <td>0.782383</td>\n",
       "      <td>1.299761</td>\n",
       "      <td>0.768966</td>\n",
       "    </tr>\n",
       "    <tr>\n",
       "      <th>3</th>\n",
       "      <td>1.262818</td>\n",
       "      <td>0.782383</td>\n",
       "      <td>1.238737</td>\n",
       "      <td>0.768966</td>\n",
       "    </tr>\n",
       "    <tr>\n",
       "      <th>4</th>\n",
       "      <td>1.206479</td>\n",
       "      <td>0.782383</td>\n",
       "      <td>1.191891</td>\n",
       "      <td>0.768966</td>\n",
       "    </tr>\n",
       "    <tr>\n",
       "      <th>5</th>\n",
       "      <td>1.161593</td>\n",
       "      <td>0.782383</td>\n",
       "      <td>1.153380</td>\n",
       "      <td>0.768966</td>\n",
       "    </tr>\n",
       "    <tr>\n",
       "      <th>6</th>\n",
       "      <td>1.124042</td>\n",
       "      <td>0.782383</td>\n",
       "      <td>1.119357</td>\n",
       "      <td>0.768966</td>\n",
       "    </tr>\n",
       "    <tr>\n",
       "      <th>7</th>\n",
       "      <td>1.090936</td>\n",
       "      <td>0.782383</td>\n",
       "      <td>1.089403</td>\n",
       "      <td>0.768966</td>\n",
       "    </tr>\n",
       "    <tr>\n",
       "      <th>8</th>\n",
       "      <td>1.061100</td>\n",
       "      <td>0.782383</td>\n",
       "      <td>1.062341</td>\n",
       "      <td>0.768966</td>\n",
       "    </tr>\n",
       "    <tr>\n",
       "      <th>9</th>\n",
       "      <td>1.034256</td>\n",
       "      <td>0.782383</td>\n",
       "      <td>1.037595</td>\n",
       "      <td>0.768966</td>\n",
       "    </tr>\n",
       "  </tbody>\n",
       "</table>\n",
       "</div>"
      ],
      "text/plain": [
       "       loss  accuracy  val_loss  val_accuracy\n",
       "0  1.585717  0.408463  1.532621      0.768966\n",
       "1  1.455064  0.782383  1.390001      0.768966\n",
       "2  1.339385  0.782383  1.299761      0.768966\n",
       "3  1.262818  0.782383  1.238737      0.768966\n",
       "4  1.206479  0.782383  1.191891      0.768966\n",
       "5  1.161593  0.782383  1.153380      0.768966\n",
       "6  1.124042  0.782383  1.119357      0.768966\n",
       "7  1.090936  0.782383  1.089403      0.768966\n",
       "8  1.061100  0.782383  1.062341      0.768966\n",
       "9  1.034256  0.782383  1.037595      0.768966"
      ]
     },
     "execution_count": 136,
     "metadata": {},
     "output_type": "execute_result"
    }
   ],
   "source": [
    "model_loss = pd.DataFrame(history.history)\n",
    "model_loss.head(10)"
   ]
  },
  {
   "cell_type": "code",
   "execution_count": 137,
   "metadata": {},
   "outputs": [
    {
     "data": {
      "text/plain": [
       "'xps13 9315 without windows hey i want to buy a 9315 with linux, and maybe after some time but windows on it. do i have to give up on any features, which the oem xps ordered with windows has?'"
      ]
     },
     "execution_count": 137,
     "metadata": {},
     "output_type": "execute_result"
    }
   ],
   "source": [
    "df['combined'][0]"
   ]
  },
  {
   "cell_type": "code",
   "execution_count": 138,
   "metadata": {},
   "outputs": [
    {
     "name": "stdout",
     "output_type": "stream",
     "text": [
      "[[0.04420457 0.04207869 0.06442615 0.13514401 0.71414655]] question (technical)\n"
     ]
    }
   ],
   "source": [
    "new_complaint = [df['combined'][0]]\n",
    "seq = tokenizer.texts_to_sequences(new_complaint)\n",
    "padded = pad_sequences(seq, maxlen=max_length)\n",
    "pred = model.predict(padded)\n",
    "labels = list(new_cols)\n",
    "print(pred, labels[np.argmax(pred)])"
   ]
  },
  {
   "cell_type": "markdown",
   "metadata": {},
   "source": [
    "# Keywords"
   ]
  },
  {
   "cell_type": "code",
   "execution_count": 139,
   "metadata": {},
   "outputs": [
    {
     "data": {
      "text/html": [
       "<div>\n",
       "<style scoped>\n",
       "    .dataframe tbody tr th:only-of-type {\n",
       "        vertical-align: middle;\n",
       "    }\n",
       "\n",
       "    .dataframe tbody tr th {\n",
       "        vertical-align: top;\n",
       "    }\n",
       "\n",
       "    .dataframe thead th {\n",
       "        text-align: right;\n",
       "    }\n",
       "</style>\n",
       "<table border=\"1\" class=\"dataframe\">\n",
       "  <thead>\n",
       "    <tr style=\"text-align: right;\">\n",
       "      <th></th>\n",
       "      <th>counter</th>\n",
       "      <th>post date</th>\n",
       "      <th>model</th>\n",
       "      <th>label</th>\n",
       "      <th>context</th>\n",
       "    </tr>\n",
       "  </thead>\n",
       "  <tbody>\n",
       "    <tr>\n",
       "      <th>0</th>\n",
       "      <td>1</td>\n",
       "      <td>2023-02-15</td>\n",
       "      <td>xps 13 9315</td>\n",
       "      <td>question (technical)</td>\n",
       "      <td>xps13 9315 without windows hey i want to buy a...</td>\n",
       "    </tr>\n",
       "    <tr>\n",
       "      <th>1</th>\n",
       "      <td>2</td>\n",
       "      <td>2023-02-09</td>\n",
       "      <td>xps 15 9510</td>\n",
       "      <td>question (purchasing)</td>\n",
       "      <td>galaxy book 3 ultra or xps 15 oled currently i...</td>\n",
       "    </tr>\n",
       "    <tr>\n",
       "      <th>2</th>\n",
       "      <td>3</td>\n",
       "      <td>2023-02-08</td>\n",
       "      <td>xps 15 9520</td>\n",
       "      <td>question (technical)</td>\n",
       "      <td>how do i disable the proximity sensor on xps 9...</td>\n",
       "    </tr>\n",
       "    <tr>\n",
       "      <th>3</th>\n",
       "      <td>4</td>\n",
       "      <td>2023-02-07</td>\n",
       "      <td>xps 13 9310</td>\n",
       "      <td>question (technical)</td>\n",
       "      <td>ir sensor i've recently got my hands on a xps ...</td>\n",
       "    </tr>\n",
       "    <tr>\n",
       "      <th>4</th>\n",
       "      <td>5</td>\n",
       "      <td>2023-02-02</td>\n",
       "      <td>xps 15 9520</td>\n",
       "      <td>question (technical)</td>\n",
       "      <td>dell xps 15 9520 performance issue after ram u...</td>\n",
       "    </tr>\n",
       "  </tbody>\n",
       "</table>\n",
       "</div>"
      ],
      "text/plain": [
       "   counter   post date        model                  label  \\\n",
       "0        1  2023-02-15  xps 13 9315   question (technical)   \n",
       "1        2  2023-02-09  xps 15 9510  question (purchasing)   \n",
       "2        3  2023-02-08  xps 15 9520   question (technical)   \n",
       "3        4  2023-02-07  xps 13 9310   question (technical)   \n",
       "4        5  2023-02-02  xps 15 9520   question (technical)   \n",
       "\n",
       "                                             context  \n",
       "0  xps13 9315 without windows hey i want to buy a...  \n",
       "1  galaxy book 3 ultra or xps 15 oled currently i...  \n",
       "2  how do i disable the proximity sensor on xps 9...  \n",
       "3  ir sensor i've recently got my hands on a xps ...  \n",
       "4  dell xps 15 9520 performance issue after ram u...  "
      ]
     },
     "execution_count": 139,
     "metadata": {},
     "output_type": "execute_result"
    }
   ],
   "source": [
    "import pandas as pd\n",
    "\n",
    "# Load data\n",
    "df = pd.read_csv('reddit (label xps) all.csv')\n",
    "\n",
    "df = df.dropna(axis=0)\n",
    "\n",
    "# combined only list\n",
    "df['context'] = df['title'] + ' ' + df['content']\n",
    "\n",
    "df = df.drop(['source', 'number of likes', 'number of comments', 'title', 'content', 'link'], axis =1)\n",
    "\n",
    "df.head()"
   ]
  },
  {
   "cell_type": "code",
   "execution_count": 140,
   "metadata": {},
   "outputs": [
    {
     "name": "stderr",
     "output_type": "stream",
     "text": [
      "[nltk_data] Downloading package wordnet to\n",
      "[nltk_data]     C:\\Users\\xup641284\\AppData\\Roaming\\nltk_data...\n",
      "[nltk_data]   Package wordnet is already up-to-date!\n"
     ]
    },
    {
     "data": {
      "text/html": [
       "<div>\n",
       "<style scoped>\n",
       "    .dataframe tbody tr th:only-of-type {\n",
       "        vertical-align: middle;\n",
       "    }\n",
       "\n",
       "    .dataframe tbody tr th {\n",
       "        vertical-align: top;\n",
       "    }\n",
       "\n",
       "    .dataframe thead th {\n",
       "        text-align: right;\n",
       "    }\n",
       "</style>\n",
       "<table border=\"1\" class=\"dataframe\">\n",
       "  <thead>\n",
       "    <tr style=\"text-align: right;\">\n",
       "      <th></th>\n",
       "      <th>counter</th>\n",
       "      <th>post date</th>\n",
       "      <th>model</th>\n",
       "      <th>label</th>\n",
       "      <th>context</th>\n",
       "    </tr>\n",
       "  </thead>\n",
       "  <tbody>\n",
       "    <tr>\n",
       "      <th>0</th>\n",
       "      <td>1</td>\n",
       "      <td>2023-02-15</td>\n",
       "      <td>xps 13 9315</td>\n",
       "      <td>question (technical)</td>\n",
       "      <td>xps13 9315 without window hey i want to buy a ...</td>\n",
       "    </tr>\n",
       "    <tr>\n",
       "      <th>1</th>\n",
       "      <td>2</td>\n",
       "      <td>2023-02-09</td>\n",
       "      <td>xps 15 9510</td>\n",
       "      <td>question (purchasing)</td>\n",
       "      <td>galaxy book 3 ultra or xps 15 oled currently i...</td>\n",
       "    </tr>\n",
       "    <tr>\n",
       "      <th>2</th>\n",
       "      <td>3</td>\n",
       "      <td>2023-02-08</td>\n",
       "      <td>xps 15 9520</td>\n",
       "      <td>question (technical)</td>\n",
       "      <td>how do i disable the proximity sensor on xps 9...</td>\n",
       "    </tr>\n",
       "    <tr>\n",
       "      <th>3</th>\n",
       "      <td>4</td>\n",
       "      <td>2023-02-07</td>\n",
       "      <td>xps 13 9310</td>\n",
       "      <td>question (technical)</td>\n",
       "      <td>ir sensor i ve recently got my hand on a xps 1...</td>\n",
       "    </tr>\n",
       "    <tr>\n",
       "      <th>4</th>\n",
       "      <td>5</td>\n",
       "      <td>2023-02-02</td>\n",
       "      <td>xps 15 9520</td>\n",
       "      <td>question (technical)</td>\n",
       "      <td>dell xps 15 9520 performance issue after ram u...</td>\n",
       "    </tr>\n",
       "  </tbody>\n",
       "</table>\n",
       "</div>"
      ],
      "text/plain": [
       "   counter   post date        model                  label  \\\n",
       "0        1  2023-02-15  xps 13 9315   question (technical)   \n",
       "1        2  2023-02-09  xps 15 9510  question (purchasing)   \n",
       "2        3  2023-02-08  xps 15 9520   question (technical)   \n",
       "3        4  2023-02-07  xps 13 9310   question (technical)   \n",
       "4        5  2023-02-02  xps 15 9520   question (technical)   \n",
       "\n",
       "                                             context  \n",
       "0  xps13 9315 without window hey i want to buy a ...  \n",
       "1  galaxy book 3 ultra or xps 15 oled currently i...  \n",
       "2  how do i disable the proximity sensor on xps 9...  \n",
       "3  ir sensor i ve recently got my hand on a xps 1...  \n",
       "4  dell xps 15 9520 performance issue after ram u...  "
      ]
     },
     "execution_count": 140,
     "metadata": {},
     "output_type": "execute_result"
    }
   ],
   "source": [
    "# lemmatization\n",
    "import nltk\n",
    "nltk.download('wordnet')\n",
    "from nltk.stem import WordNetLemmatizer\n",
    "lemmatizer = WordNetLemmatizer()\n",
    "\n",
    "# remove stop words\n",
    "df_nosw = []\n",
    "for i in range(0, len(df['context'])):\n",
    "    review = re.sub('[^a-zA-Z0-9]', ' ', df['context'].iloc[i])\n",
    "    review = review.split()\n",
    "    review = [lemmatizer.lemmatize(word) for word in review]\n",
    "    review = ' '.join(review)\n",
    "    df_nosw.append(review)\n",
    "\n",
    "df['context'] = df_nosw\n",
    "df.head()"
   ]
  },
  {
   "cell_type": "code",
   "execution_count": 141,
   "metadata": {},
   "outputs": [],
   "source": [
    "keywords = ['keyboard', 'trackpad', 'audio', 'speaker', 'camera', 'webcam', 'crash', 'track pad', 'freeze', 'display', 'lcd', \n",
    "            'graphic', 'vmware', 'disappointing', 'oled', 'unresponsive', 'hinge', 'touchpad', 'thunderbolt', 'port', 'bad', 'configuration', 'backlit', 'ram', 'fps',  'video', 'cover',\n",
    "            'discontinued', 'recalled', 'selling', 'usb', 'driver', 'drives', 'linux', 'boot', 'hot', 'battery', 'stuttering', 'purchasing',\n",
    "            'stuck', 'frustrating', 'logo', 'mother board', 'motherboard', 'fail', 'sunk', 'sink', 'corner', 'bios', 'firmware', 'kb',\n",
    "            'review' , 'ssd', 'install', 'resolution', 'wifi', 'slow', 'terrible', 'ubuntu', 'monitor', 'adapter', \n",
    "            'shipped', 'shipment', 'ship', 'error', 'sunk', 'sink', 'corner', 'bios', 'firmware', 'refurbished', 'repair', 'repaired', \n",
    "            'charger', 'fan', 'charging', 'charge', 'air', 'cooling', 'disappointed', 'rattle', 'rattling', 'noise', 'buy', \n",
    "            'heat', 'power', 'released','release', 'volume', 'drain', 'missing', 'recall', 'remove', 'doubt', 'gpu', 'dock', 'wobble', 'break', 'touch pen', \n",
    "            'trouble', 'switch', 'overheat', 'cost', 'play', 'pleasant', 'support', 'search', 'disk', 'consider', 'cursor', 'fingerprint', 'overheating', 'throttling', 'throttle', 'thermal', 'warranty', 'flicker', 'against', 'tearing', 'haptic', 'suck', 'hibernate', 'undervolting', 'delay', 'awful', 'hardcase', 'touch', 'disaster', 'driver', 'popping', 'button', 'chassis', 'cracking', \n",
    "            'lid', 'atrocious', 'gorgeous', 'impressed', 'service','decal', 'recommendation', 'fps', 'case', 'pixel', 'purchase', 'option', 'happy', 'satisfied', 'dislike', 'safeguard', 'garbage', 'window', 'shutting', 'underwhelmed', 'got', 'skin', 'looking', 'decide', 'recommend', 'difference', 'choosing', 'replace', 'glitch', 'shutdown', 'saturation', 'stain', 'run', 'order', 'molding', 'temp', 'color', 'oversaturated', 'love', 'store', 'complain','return', 'stuttering', 'microphone', 'desperation', 'headphone', 'buzzing', 'ridiculous', 'worse', 'screen', 'poor', 'low',\n",
    "            'replacement', 'backlight', 'slot', 'compatibility', 'key', 'feedback', 'lagging', 'compare', 'egpu', 'horrible', 'cpu', 'bluetooth', 'dgpu', 'lag', 'retrospective','photo', 'stereo', 'dongle', 'sound']"
   ]
  },
  {
   "cell_type": "code",
   "execution_count": 142,
   "metadata": {},
   "outputs": [
    {
     "data": {
      "text/html": [
       "<div>\n",
       "<style scoped>\n",
       "    .dataframe tbody tr th:only-of-type {\n",
       "        vertical-align: middle;\n",
       "    }\n",
       "\n",
       "    .dataframe tbody tr th {\n",
       "        vertical-align: top;\n",
       "    }\n",
       "\n",
       "    .dataframe thead th {\n",
       "        text-align: right;\n",
       "    }\n",
       "</style>\n",
       "<table border=\"1\" class=\"dataframe\">\n",
       "  <thead>\n",
       "    <tr style=\"text-align: right;\">\n",
       "      <th></th>\n",
       "      <th>counter</th>\n",
       "      <th>post date</th>\n",
       "      <th>model</th>\n",
       "      <th>label</th>\n",
       "      <th>keyword</th>\n",
       "      <th>context</th>\n",
       "    </tr>\n",
       "  </thead>\n",
       "  <tbody>\n",
       "    <tr>\n",
       "      <th>0</th>\n",
       "      <td>1</td>\n",
       "      <td>2023-02-15</td>\n",
       "      <td>xps 13 9315</td>\n",
       "      <td>question (technical)</td>\n",
       "      <td>linux, window, buy, order</td>\n",
       "      <td>xps13 9315 without window hey i want to buy a ...</td>\n",
       "    </tr>\n",
       "    <tr>\n",
       "      <th>1</th>\n",
       "      <td>2</td>\n",
       "      <td>2023-02-09</td>\n",
       "      <td>xps 15 9510</td>\n",
       "      <td>question (purchasing)</td>\n",
       "      <td>replace, oled, buy, speaker, love, charger, su...</td>\n",
       "      <td>galaxy book 3 ultra or xps 15 oled currently i...</td>\n",
       "    </tr>\n",
       "    <tr>\n",
       "      <th>2</th>\n",
       "      <td>3</td>\n",
       "      <td>2023-02-08</td>\n",
       "      <td>xps 15 9520</td>\n",
       "      <td>question (technical)</td>\n",
       "      <td>window, screen</td>\n",
       "      <td>how do i disable the proximity sensor on xps 9...</td>\n",
       "    </tr>\n",
       "    <tr>\n",
       "      <th>3</th>\n",
       "      <td>4</td>\n",
       "      <td>2023-02-07</td>\n",
       "      <td>xps 13 9310</td>\n",
       "      <td>question (technical)</td>\n",
       "      <td>error, camera, linux, got, driver, return, ins...</td>\n",
       "      <td>ir sensor i ve recently got my hand on a xps 1...</td>\n",
       "    </tr>\n",
       "    <tr>\n",
       "      <th>4</th>\n",
       "      <td>5</td>\n",
       "      <td>2023-02-02</td>\n",
       "      <td>xps 15 9520</td>\n",
       "      <td>question (technical)</td>\n",
       "      <td>slow, run, lag, skin, ram, install, configuration</td>\n",
       "      <td>dell xps 15 9520 performance issue after ram u...</td>\n",
       "    </tr>\n",
       "  </tbody>\n",
       "</table>\n",
       "</div>"
      ],
      "text/plain": [
       "   counter   post date        model                  label  \\\n",
       "0        1  2023-02-15  xps 13 9315   question (technical)   \n",
       "1        2  2023-02-09  xps 15 9510  question (purchasing)   \n",
       "2        3  2023-02-08  xps 15 9520   question (technical)   \n",
       "3        4  2023-02-07  xps 13 9310   question (technical)   \n",
       "4        5  2023-02-02  xps 15 9520   question (technical)   \n",
       "\n",
       "                                             keyword  \\\n",
       "0                          linux, window, buy, order   \n",
       "1  replace, oled, buy, speaker, love, charger, su...   \n",
       "2                                     window, screen   \n",
       "3  error, camera, linux, got, driver, return, ins...   \n",
       "4  slow, run, lag, skin, ram, install, configuration   \n",
       "\n",
       "                                             context  \n",
       "0  xps13 9315 without window hey i want to buy a ...  \n",
       "1  galaxy book 3 ultra or xps 15 oled currently i...  \n",
       "2  how do i disable the proximity sensor on xps 9...  \n",
       "3  ir sensor i ve recently got my hand on a xps 1...  \n",
       "4  dell xps 15 9520 performance issue after ram u...  "
      ]
     },
     "execution_count": 142,
     "metadata": {},
     "output_type": "execute_result"
    }
   ],
   "source": [
    "df['keyword'] = df['context'].str.findall('|'.join(keywords)).apply(set).str.join(', ')\n",
    "df.insert(4, 'keyword', df.pop('keyword'))\n",
    "df.head()"
   ]
  },
  {
   "cell_type": "code",
   "execution_count": 143,
   "metadata": {},
   "outputs": [
    {
     "data": {
      "text/plain": [
       "'xps13 9315 without window hey i want to buy a 9315 with linux and maybe after some time but window on it do i have to give up on any feature which the oem xps ordered with window ha'"
      ]
     },
     "execution_count": 143,
     "metadata": {},
     "output_type": "execute_result"
    }
   ],
   "source": [
    "df['context'][0]"
   ]
  },
  {
   "cell_type": "code",
   "execution_count": 144,
   "metadata": {},
   "outputs": [
    {
     "data": {
      "text/plain": [
       "'linux, window, buy, order'"
      ]
     },
     "execution_count": 144,
     "metadata": {},
     "output_type": "execute_result"
    }
   ],
   "source": [
    "df['keyword'][0]"
   ]
  },
  {
   "cell_type": "markdown",
   "metadata": {},
   "source": [
    "# All prediction"
   ]
  },
  {
   "cell_type": "code",
   "execution_count": 145,
   "metadata": {},
   "outputs": [
    {
     "data": {
      "text/html": [
       "<div>\n",
       "<style scoped>\n",
       "    .dataframe tbody tr th:only-of-type {\n",
       "        vertical-align: middle;\n",
       "    }\n",
       "\n",
       "    .dataframe tbody tr th {\n",
       "        vertical-align: top;\n",
       "    }\n",
       "\n",
       "    .dataframe thead th {\n",
       "        text-align: right;\n",
       "    }\n",
       "</style>\n",
       "<table border=\"1\" class=\"dataframe\">\n",
       "  <thead>\n",
       "    <tr style=\"text-align: right;\">\n",
       "      <th></th>\n",
       "      <th>counter</th>\n",
       "      <th>post date</th>\n",
       "      <th>model</th>\n",
       "      <th>source</th>\n",
       "      <th>label</th>\n",
       "      <th>number of likes</th>\n",
       "      <th>number of comments</th>\n",
       "      <th>title</th>\n",
       "      <th>content</th>\n",
       "      <th>link</th>\n",
       "      <th>combined</th>\n",
       "    </tr>\n",
       "  </thead>\n",
       "  <tbody>\n",
       "    <tr>\n",
       "      <th>0</th>\n",
       "      <td>1</td>\n",
       "      <td>2022-08-04</td>\n",
       "      <td>inspiron 14 5420</td>\n",
       "      <td>inspiron (dell) - reddit</td>\n",
       "      <td>question (technical)</td>\n",
       "      <td>1</td>\n",
       "      <td>0</td>\n",
       "      <td>inspiron 14 vs xps 13 for use with external</td>\n",
       "      <td>my partner has a desktop with three monitors. ...</td>\n",
       "      <td>https://www.reddit.com/r/Dell/comments/wfxclf/...</td>\n",
       "      <td>inspiron 14 vs xps 13 for use with external my...</td>\n",
       "    </tr>\n",
       "    <tr>\n",
       "      <th>1</th>\n",
       "      <td>2</td>\n",
       "      <td>2022-07-31</td>\n",
       "      <td>inspiron 16 plus 7620</td>\n",
       "      <td>inspiron (dell) - reddit</td>\n",
       "      <td>question (technical)</td>\n",
       "      <td>3</td>\n",
       "      <td>6</td>\n",
       "      <td>inspiron 16 plus 7620 battery draining like a</td>\n",
       "      <td>hey all, had my new inspiron 16 plus 7620 a we...</td>\n",
       "      <td>https://www.reddit.com/r/Dell/comments/wcf3xp/...</td>\n",
       "      <td>inspiron 16 plus 7620 battery draining like a ...</td>\n",
       "    </tr>\n",
       "    <tr>\n",
       "      <th>2</th>\n",
       "      <td>3</td>\n",
       "      <td>2022-07-30</td>\n",
       "      <td>inspiron 16 plus 7620</td>\n",
       "      <td>inspiron (dell) - reddit</td>\n",
       "      <td>question (technical)</td>\n",
       "      <td>3</td>\n",
       "      <td>2</td>\n",
       "      <td>dell inspiron 16 plus 7620 bad audio problem with</td>\n",
       "      <td>hello, i recently bought a brand new dell insp...</td>\n",
       "      <td>https://www.reddit.com/r/Dell/comments/wbsdnz/...</td>\n",
       "      <td>dell inspiron 16 plus 7620 bad audio problem w...</td>\n",
       "    </tr>\n",
       "    <tr>\n",
       "      <th>3</th>\n",
       "      <td>4</td>\n",
       "      <td>2022-07-26</td>\n",
       "      <td>inspiron 16 plus 7620</td>\n",
       "      <td>inspiron (dell) - reddit</td>\n",
       "      <td>question (technical)</td>\n",
       "      <td>1</td>\n",
       "      <td>6</td>\n",
       "      <td>bought an inspiron 7620; need ram</td>\n",
       "      <td>i just bought an inspiron 7620 an am so far ex...</td>\n",
       "      <td>https://www.reddit.com/r/Dell/comments/w88xlc/...</td>\n",
       "      <td>bought an inspiron 7620; need ram i just bough...</td>\n",
       "    </tr>\n",
       "    <tr>\n",
       "      <th>4</th>\n",
       "      <td>5</td>\n",
       "      <td>2022-07-23</td>\n",
       "      <td>inspiron 16 plus 7620</td>\n",
       "      <td>inspiron (dell) - reddit</td>\n",
       "      <td>question (technical)</td>\n",
       "      <td>0</td>\n",
       "      <td>4</td>\n",
       "      <td>inspiron 16 plus 7620 - overheating in sleep</td>\n",
       "      <td>hi, just received my new laptop. nice design a...</td>\n",
       "      <td>https://www.reddit.com/r/Dell/comments/w5qk65/...</td>\n",
       "      <td>inspiron 16 plus 7620 - overheating in sleep h...</td>\n",
       "    </tr>\n",
       "  </tbody>\n",
       "</table>\n",
       "</div>"
      ],
      "text/plain": [
       "   counter   post date                  model                    source  \\\n",
       "0        1  2022-08-04       inspiron 14 5420  inspiron (dell) - reddit   \n",
       "1        2  2022-07-31  inspiron 16 plus 7620  inspiron (dell) - reddit   \n",
       "2        3  2022-07-30  inspiron 16 plus 7620  inspiron (dell) - reddit   \n",
       "3        4  2022-07-26  inspiron 16 plus 7620  inspiron (dell) - reddit   \n",
       "4        5  2022-07-23  inspiron 16 plus 7620  inspiron (dell) - reddit   \n",
       "\n",
       "                  label  number of likes  number of comments  \\\n",
       "0  question (technical)                1                   0   \n",
       "1  question (technical)                3                   6   \n",
       "2  question (technical)                3                   2   \n",
       "3  question (technical)                1                   6   \n",
       "4  question (technical)                0                   4   \n",
       "\n",
       "                                               title  \\\n",
       "0        inspiron 14 vs xps 13 for use with external   \n",
       "1      inspiron 16 plus 7620 battery draining like a   \n",
       "2  dell inspiron 16 plus 7620 bad audio problem with   \n",
       "3                  bought an inspiron 7620; need ram   \n",
       "4       inspiron 16 plus 7620 - overheating in sleep   \n",
       "\n",
       "                                             content  \\\n",
       "0  my partner has a desktop with three monitors. ...   \n",
       "1  hey all, had my new inspiron 16 plus 7620 a we...   \n",
       "2  hello, i recently bought a brand new dell insp...   \n",
       "3  i just bought an inspiron 7620 an am so far ex...   \n",
       "4  hi, just received my new laptop. nice design a...   \n",
       "\n",
       "                                                link  \\\n",
       "0  https://www.reddit.com/r/Dell/comments/wfxclf/...   \n",
       "1  https://www.reddit.com/r/Dell/comments/wcf3xp/...   \n",
       "2  https://www.reddit.com/r/Dell/comments/wbsdnz/...   \n",
       "3  https://www.reddit.com/r/Dell/comments/w88xlc/...   \n",
       "4  https://www.reddit.com/r/Dell/comments/w5qk65/...   \n",
       "\n",
       "                                            combined  \n",
       "0  inspiron 14 vs xps 13 for use with external my...  \n",
       "1  inspiron 16 plus 7620 battery draining like a ...  \n",
       "2  dell inspiron 16 plus 7620 bad audio problem w...  \n",
       "3  bought an inspiron 7620; need ram i just bough...  \n",
       "4  inspiron 16 plus 7620 - overheating in sleep h...  "
      ]
     },
     "execution_count": 145,
     "metadata": {},
     "output_type": "execute_result"
    }
   ],
   "source": [
    "import pandas as pd\n",
    "\n",
    "# Load data\n",
    "df = pd.concat(map(pd.read_csv, ['reddit (label inspiron).csv', 'reddit (label vostro).csv','reddit (label dellg15).csv','reddit (label xps) all.csv']))\n",
    "\n",
    "df = df.dropna(axis=0)\n",
    "\n",
    "# combined only list\n",
    "df['combined'] = df['title'] + ' ' + df['content']\n",
    "\n",
    "y = df['label']\n",
    "\n",
    "df.head()"
   ]
  },
  {
   "cell_type": "code",
   "execution_count": 146,
   "metadata": {},
   "outputs": [
    {
     "name": "stdout",
     "output_type": "stream",
     "text": [
      "['i', 'me', 'my', 'myself', 'we', 'our', 'ours', 'ourselves', 'you', \"you're\"]\n"
     ]
    },
    {
     "name": "stderr",
     "output_type": "stream",
     "text": [
      "[nltk_data] Downloading package stopwords to\n",
      "[nltk_data]     C:\\Users\\xup641284\\AppData\\Roaming\\nltk_data...\n",
      "[nltk_data]   Package stopwords is already up-to-date!\n"
     ]
    }
   ],
   "source": [
    "nltk.download('stopwords')\n",
    "\n",
    "stopwordslist = [\"helpxps\", \"dell\", \"xps\", '13', '15', '17', '2','3', '0', '1', '8950', 'vs', '3050', '11', 'm1', 'i7', 'ram','ssd','support',\n",
    "                 '9305', '9310', '9320', '9510', '9520', '9710', '9720', 'running','first', 'inspiron', 'update', 'able', 'well', 'getting', 'plus', 'performance','discussionxps', 'helpdell', 'discussiondell',\n",
    "                 'would', 'around', 'used','find', 'run', 'else', 'machine', 'see', 'gen', 'working','going', 'anything', 'model', 'also', 'know', 'work', 'anyone', 'one', 'tried', 'problem', 'need', 'could', 'use', 'intel','4k',\n",
    "                 'get', 'something', 'better', 'help', 'using', 'really', 'like', 'thanks', 'time', 'buy', '3rd', 'laptop', 'back', 'even','two',\n",
    "                 '4', '5', 'com','hi', 'good', 'however', 'seems', 'sure', 'go', 'lot', 'pro', '10', 'fine', 'bought', \n",
    "                 'right', 'much', 'looking', 'think', '32gb','life', 'want', 'every','https', 'since', 'issue', 'issues',\n",
    "                 'another', 'got', 'new','still', 'will', 'apple', 'across', 'w', 'c', 'pd', 'news', 'known', 'xps13']\n",
    "\n",
    "# Getting the English stop words from nltk\n",
    "sw = nltk.corpus.stopwords.words('english')\n",
    "\n",
    "sw.extend(stopwordslist)\n",
    "\n",
    "# Printing out the first eight stop words\n",
    "print(sw[:10])"
   ]
  },
  {
   "cell_type": "code",
   "execution_count": 147,
   "metadata": {},
   "outputs": [
    {
     "name": "stderr",
     "output_type": "stream",
     "text": [
      "[nltk_data] Downloading package wordnet to\n",
      "[nltk_data]     C:\\Users\\xup641284\\AppData\\Roaming\\nltk_data...\n",
      "[nltk_data]   Package wordnet is already up-to-date!\n"
     ]
    }
   ],
   "source": [
    "# lemmatization\n",
    "import nltk\n",
    "nltk.download('wordnet')\n",
    "from nltk.stem import WordNetLemmatizer\n",
    "lemmatizer = WordNetLemmatizer()\n",
    "df_data = []\n",
    "for i in range(0, len(df)):\n",
    "    review = re.sub('[^a-zA-Z]', ' ', df['combined'].iloc[i])\n",
    "    review = review.split()\n",
    "    review = [lemmatizer.lemmatize(word) for word in review if word not in sw]\n",
    "    review = ' '.join(review)\n",
    "    df_data.append(review)"
   ]
  },
  {
   "cell_type": "code",
   "execution_count": 148,
   "metadata": {},
   "outputs": [],
   "source": [
    "# Split training and testing data, choose between the combined only or lemmatization\n",
    "X_train, X_test, y_train, y_test = train_test_split(df_data, y, random_state=0, test_size=0.2, stratify = y)"
   ]
  },
  {
   "cell_type": "code",
   "execution_count": 149,
   "metadata": {},
   "outputs": [],
   "source": [
    "# Initialize count vectorizer\n",
    "count_vectorizer = CountVectorizer(stop_words=sw, max_df=0.3, min_df=0.001)\n",
    "\n",
    "# Create count train and test variables\n",
    "count_train = count_vectorizer.fit_transform(X_train)\n",
    "count_test = count_vectorizer.transform(X_test)\n",
    "\n",
    "# Initialize tfidf vectorizer\n",
    "tfidf_vectorizer = TfidfVectorizer(stop_words=sw, max_df=0.3, min_df=0.001)\n",
    "\n",
    "# Create tfidf train and test variables\n",
    "tfidf_train = tfidf_vectorizer.fit_transform(X_train)\n",
    "tfidf_test = tfidf_vectorizer.transform(X_test)"
   ]
  },
  {
   "cell_type": "code",
   "execution_count": 150,
   "metadata": {},
   "outputs": [
    {
     "name": "stdout",
     "output_type": "stream",
     "text": [
      "NaiveBayes Tfidf Score:  0.8216216216216217\n",
      "NaiveBayes Count Score:  0.8216216216216217\n"
     ]
    }
   ],
   "source": [
    "# Create a MulitnomialNB model\n",
    "tfidf_nb = MultinomialNB(alpha = 0.1)\n",
    "tfidf_nb.fit(tfidf_train, y_train)\n",
    "\n",
    "# Run predict on your TF-IDF test data to get your predictions\n",
    "tfidf_nb_pred = tfidf_nb.predict(tfidf_test)\n",
    "\n",
    "# Calculate the accuracy of your predictions\n",
    "tfidf_nb_score = metrics.accuracy_score(tfidf_nb_pred, y_test)\n",
    "\n",
    "# Create a MulitnomialNB model\n",
    "count_nb = MultinomialNB(alpha=0.01)\n",
    "count_nb.fit(count_train, y_train)\n",
    "\n",
    "# Run predict on your count test data to get your predictions\n",
    "count_nb_pred = count_nb.predict(count_test)\n",
    "\n",
    "# Calculate the accuracy of your predictions\n",
    "count_nb_score = metrics.accuracy_score(count_nb_pred, y_test)\n",
    "\n",
    "print('NaiveBayes Tfidf Score: ', tfidf_nb_score)\n",
    "print('NaiveBayes Count Score: ', count_nb_score)"
   ]
  },
  {
   "cell_type": "code",
   "execution_count": 151,
   "metadata": {},
   "outputs": [
    {
     "name": "stdout",
     "output_type": "stream",
     "text": [
      "[[  2   0   0   0   0]\n",
      " [  0   0   0   0   0]\n",
      " [  0   0   2   0   1]\n",
      " [  0   0   2  17   4]\n",
      " [ 10   3   7  39 283]]\n"
     ]
    },
    {
     "data": {
      "image/png": "[encoded data removed]",
      "text/plain": [
       "<Figure size 432x288 with 2 Axes>"
      ]
     },
     "metadata": {},
     "output_type": "display_data"
    }
   ],
   "source": [
    "cm=metrics.confusion_matrix(tfidf_nb_pred, y_test)\n",
    "print(cm)\n",
    "cm = pd.DataFrame(cm, index=sorted(y_test.unique()), columns=sorted(y_test.unique()))\n",
    "sns.set(font_scale=1.4) # for label size\n",
    "sns.heatmap(cm, annot=True, cmap=\"Blues\",  annot_kws={\"size\": 16}, fmt='g') # font size\n",
    "\n",
    "plt.show()"
   ]
  },
  {
   "cell_type": "code",
   "execution_count": 152,
   "metadata": {},
   "outputs": [
    {
     "name": "stdout",
     "output_type": "stream",
     "text": [
      "[[  4   0   0   1   3]\n",
      " [  0   0   0   0   1]\n",
      " [  0   0   5   1   0]\n",
      " [  0   0   2  28  17]\n",
      " [  8   3   4  26 267]]\n"
     ]
    },
    {
     "data": {
      "image/png": "[encoded data removed]",
      "text/plain": [
       "<Figure size 432x288 with 2 Axes>"
      ]
     },
     "metadata": {},
     "output_type": "display_data"
    }
   ],
   "source": [
    "cm=metrics.confusion_matrix(count_nb_pred, y_test)\n",
    "print(cm)\n",
    "cm = pd.DataFrame(cm, index=sorted(y_test.unique()), columns=sorted(y_test.unique()))\n",
    "sns.set(font_scale=1.4) # for label size\n",
    "sns.heatmap(cm, annot=True, cmap=\"Blues\",  annot_kws={\"size\": 16}, fmt='g') # font size\n",
    "\n",
    "plt.show()"
   ]
  },
  {
   "cell_type": "code",
   "execution_count": 153,
   "metadata": {},
   "outputs": [],
   "source": [
    "keywords = ['keyboard', 'trackpad', 'audio', 'speaker', 'camera', 'webcam', 'crash', 'track pad', 'freeze', 'display', 'lcd', \n",
    "            'graphic', 'vmware', 'disappointing', 'oled', 'unresponsive', 'hinge', 'touchpad', 'thunderbolt', 'port', 'bad', 'configuration', 'backlit', 'ram', 'fps',  'video', 'cover',\n",
    "            'discontinued', 'recalled', 'selling', 'usb', 'driver', 'drives', 'linux', 'boot', 'hot', 'battery', 'stuttering', 'purchasing',\n",
    "            'stuck', 'frustrating', 'logo', 'mother board', 'motherboard', 'fail', 'sunk', 'sink', 'corner', 'bios', 'firmware', 'kb',\n",
    "            'review' , 'ssd', 'install', 'resolution', 'wifi', 'slow', 'terrible', 'ubuntu', 'monitor', 'adapter', \n",
    "            'shipped', 'shipment', 'ship', 'error', 'sunk', 'sink', 'corner', 'bios', 'firmware', 'refurbished', 'repair', 'repaired', \n",
    "            'charger', 'fan', 'charging', 'charge', 'air', 'cooling', 'disappointed', 'rattle', 'rattling', 'noise', 'buy', \n",
    "            'heat', 'power', 'released','release', 'volume', 'drain', 'missing', 'recall', 'remove', 'doubt', 'gpu', 'dock', 'wobble', 'break', 'touch pen', \n",
    "            'trouble', 'switch', 'overheat', 'cost', 'play', 'pleasant', 'support', 'search', 'disk', 'consider', 'cursor', 'fingerprint', 'overheating', 'throttling', 'throttle', 'thermal', 'warranty', 'flicker', 'against', 'tearing', 'haptic', 'suck', 'hibernate', 'undervolting', 'delay', 'awful', 'hardcase', 'touch', 'disaster', 'driver', 'popping', 'button', 'chassis', 'cracking', \n",
    "            'lid', 'atrocious', 'gorgeous', 'impressed', 'service','decal', 'recommendation', 'lace', 'fps', 'case', 'pixel', 'purchase', 'option', 'happy', 'satisfied', 'dislike', 'safeguard', 'garbage', 'window', 'shutting', 'underwhelmed', 'got', 'skin', 'looking', 'decide', 'recommend', 'difference', 'choosing', 'shutdown', 'saturation', 'stain', 'run', 'order', 'molding', 'temp', 'color', 'oversaturated', 'love', 'store', 'complain','return', 'stuttering', 'microphone', 'desperation', 'headphone', 'buzzing', 'ridiculous', 'worse', 'screen', 'poor', 'low',\n",
    "            'replacement', 'backlight', 'slot', 'compatibility', 'key', 'feedback', 'lagging', 'compare', 'egpu', 'horrible', 'cpu', 'bluetooth', 'dgpu', 'lag', 'retrospective','photo', 'stereo', 'dongle', 'sound']"
   ]
  },
  {
   "cell_type": "code",
   "execution_count": 154,
   "metadata": {},
   "outputs": [
    {
     "data": {
      "text/html": [
       "<div>\n",
       "<style scoped>\n",
       "    .dataframe tbody tr th:only-of-type {\n",
       "        vertical-align: middle;\n",
       "    }\n",
       "\n",
       "    .dataframe tbody tr th {\n",
       "        vertical-align: top;\n",
       "    }\n",
       "\n",
       "    .dataframe thead th {\n",
       "        text-align: right;\n",
       "    }\n",
       "</style>\n",
       "<table border=\"1\" class=\"dataframe\">\n",
       "  <thead>\n",
       "    <tr style=\"text-align: right;\">\n",
       "      <th></th>\n",
       "      <th>counter</th>\n",
       "      <th>post date</th>\n",
       "      <th>model</th>\n",
       "      <th>source</th>\n",
       "      <th>keyword</th>\n",
       "      <th>label</th>\n",
       "      <th>number of likes</th>\n",
       "      <th>number of comments</th>\n",
       "      <th>title</th>\n",
       "      <th>content</th>\n",
       "      <th>link</th>\n",
       "      <th>combined</th>\n",
       "    </tr>\n",
       "  </thead>\n",
       "  <tbody>\n",
       "    <tr>\n",
       "      <th>0</th>\n",
       "      <td>1</td>\n",
       "      <td>2022-08-04</td>\n",
       "      <td>inspiron 14 5420</td>\n",
       "      <td>inspiron (dell) - reddit</td>\n",
       "      <td>run, support, monitor, dock, display, looking,...</td>\n",
       "      <td>question (technical)</td>\n",
       "      <td>1</td>\n",
       "      <td>0</td>\n",
       "      <td>inspiron 14 vs xps 13 for use with external</td>\n",
       "      <td>my partner has a desktop with three monitors. ...</td>\n",
       "      <td>https://www.reddit.com/r/Dell/comments/wfxclf/...</td>\n",
       "      <td>inspiron 14 vs xps 13 for use with external my...</td>\n",
       "    </tr>\n",
       "    <tr>\n",
       "      <th>1</th>\n",
       "      <td>2</td>\n",
       "      <td>2022-07-31</td>\n",
       "      <td>inspiron 16 plus 7620</td>\n",
       "      <td>inspiron (dell) - reddit</td>\n",
       "      <td>suck, power, port, bad, drain, battery, air</td>\n",
       "      <td>question (technical)</td>\n",
       "      <td>3</td>\n",
       "      <td>6</td>\n",
       "      <td>inspiron 16 plus 7620 battery draining like a</td>\n",
       "      <td>hey all, had my new inspiron 16 plus 7620 a we...</td>\n",
       "      <td>https://www.reddit.com/r/Dell/comments/wcf3xp/...</td>\n",
       "      <td>inspiron 16 plus 7620 battery draining like a ...</td>\n",
       "    </tr>\n",
       "    <tr>\n",
       "      <th>2</th>\n",
       "      <td>3</td>\n",
       "      <td>2022-07-30</td>\n",
       "      <td>inspiron 16 plus 7620</td>\n",
       "      <td>inspiron (dell) - reddit</td>\n",
       "      <td>speaker, love, monitor, disappointing, poor, b...</td>\n",
       "      <td>question (technical)</td>\n",
       "      <td>3</td>\n",
       "      <td>2</td>\n",
       "      <td>dell inspiron 16 plus 7620 bad audio problem with</td>\n",
       "      <td>hello, i recently bought a brand new dell insp...</td>\n",
       "      <td>https://www.reddit.com/r/Dell/comments/wbsdnz/...</td>\n",
       "      <td>dell inspiron 16 plus 7620 bad audio problem w...</td>\n",
       "    </tr>\n",
       "    <tr>\n",
       "      <th>3</th>\n",
       "      <td>4</td>\n",
       "      <td>2022-07-26</td>\n",
       "      <td>inspiron 16 plus 7620</td>\n",
       "      <td>inspiron (dell) - reddit</td>\n",
       "      <td>temp, boot, satisfied, ram, purchasing</td>\n",
       "      <td>question (technical)</td>\n",
       "      <td>1</td>\n",
       "      <td>6</td>\n",
       "      <td>bought an inspiron 7620; need ram</td>\n",
       "      <td>i just bought an inspiron 7620 an am so far ex...</td>\n",
       "      <td>https://www.reddit.com/r/Dell/comments/w88xlc/...</td>\n",
       "      <td>bought an inspiron 7620; need ram i just bough...</td>\n",
       "    </tr>\n",
       "    <tr>\n",
       "      <th>4</th>\n",
       "      <td>5</td>\n",
       "      <td>2022-07-23</td>\n",
       "      <td>inspiron 16 plus 7620</td>\n",
       "      <td>inspiron (dell) - reddit</td>\n",
       "      <td>bios, overheat, keyboard, hot</td>\n",
       "      <td>question (technical)</td>\n",
       "      <td>0</td>\n",
       "      <td>4</td>\n",
       "      <td>inspiron 16 plus 7620 - overheating in sleep</td>\n",
       "      <td>hi, just received my new laptop. nice design a...</td>\n",
       "      <td>https://www.reddit.com/r/Dell/comments/w5qk65/...</td>\n",
       "      <td>inspiron 16 plus 7620 - overheating in sleep h...</td>\n",
       "    </tr>\n",
       "  </tbody>\n",
       "</table>\n",
       "</div>"
      ],
      "text/plain": [
       "   counter   post date                  model                    source  \\\n",
       "0        1  2022-08-04       inspiron 14 5420  inspiron (dell) - reddit   \n",
       "1        2  2022-07-31  inspiron 16 plus 7620  inspiron (dell) - reddit   \n",
       "2        3  2022-07-30  inspiron 16 plus 7620  inspiron (dell) - reddit   \n",
       "3        4  2022-07-26  inspiron 16 plus 7620  inspiron (dell) - reddit   \n",
       "4        5  2022-07-23  inspiron 16 plus 7620  inspiron (dell) - reddit   \n",
       "\n",
       "                                             keyword                 label  \\\n",
       "0  run, support, monitor, dock, display, looking,...  question (technical)   \n",
       "1        suck, power, port, bad, drain, battery, air  question (technical)   \n",
       "2  speaker, love, monitor, disappointing, poor, b...  question (technical)   \n",
       "3             temp, boot, satisfied, ram, purchasing  question (technical)   \n",
       "4                      bios, overheat, keyboard, hot  question (technical)   \n",
       "\n",
       "   number of likes  number of comments  \\\n",
       "0                1                   0   \n",
       "1                3                   6   \n",
       "2                3                   2   \n",
       "3                1                   6   \n",
       "4                0                   4   \n",
       "\n",
       "                                               title  \\\n",
       "0        inspiron 14 vs xps 13 for use with external   \n",
       "1      inspiron 16 plus 7620 battery draining like a   \n",
       "2  dell inspiron 16 plus 7620 bad audio problem with   \n",
       "3                  bought an inspiron 7620; need ram   \n",
       "4       inspiron 16 plus 7620 - overheating in sleep   \n",
       "\n",
       "                                             content  \\\n",
       "0  my partner has a desktop with three monitors. ...   \n",
       "1  hey all, had my new inspiron 16 plus 7620 a we...   \n",
       "2  hello, i recently bought a brand new dell insp...   \n",
       "3  i just bought an inspiron 7620 an am so far ex...   \n",
       "4  hi, just received my new laptop. nice design a...   \n",
       "\n",
       "                                                link  \\\n",
       "0  https://www.reddit.com/r/Dell/comments/wfxclf/...   \n",
       "1  https://www.reddit.com/r/Dell/comments/wcf3xp/...   \n",
       "2  https://www.reddit.com/r/Dell/comments/wbsdnz/...   \n",
       "3  https://www.reddit.com/r/Dell/comments/w88xlc/...   \n",
       "4  https://www.reddit.com/r/Dell/comments/w5qk65/...   \n",
       "\n",
       "                                            combined  \n",
       "0  inspiron 14 vs xps 13 for use with external my...  \n",
       "1  inspiron 16 plus 7620 battery draining like a ...  \n",
       "2  dell inspiron 16 plus 7620 bad audio problem w...  \n",
       "3  bought an inspiron 7620; need ram i just bough...  \n",
       "4  inspiron 16 plus 7620 - overheating in sleep h...  "
      ]
     },
     "execution_count": 154,
     "metadata": {},
     "output_type": "execute_result"
    }
   ],
   "source": [
    "df['keyword'] = df['combined'].str.findall('|'.join(keywords)).apply(set).str.join(', ')\n",
    "df.insert(4, 'keyword', df.pop('keyword'))\n",
    "df.head()"
   ]
  },
  {
   "cell_type": "code",
   "execution_count": 155,
   "metadata": {},
   "outputs": [
    {
     "name": "stdout",
     "output_type": "stream",
     "text": [
      "LinearSVC tfidf Score:   0.851\n"
     ]
    }
   ],
   "source": [
    "# Create a LinearSVM model\n",
    "tfidf_svc = LinearSVC(C=1)\n",
    "tfidf_svc.fit(tfidf_train, y_train)\n",
    "\n",
    "# Run predict on your tfidf test data to get your predictions\n",
    "tfidf_svc_pred = tfidf_svc.predict(tfidf_test)\n",
    "\n",
    "# Calculate your accuracy using the metrics module\n",
    "tfidf_svc_score = metrics.accuracy_score(tfidf_svc_pred, y_test)\n",
    "\n",
    "\n",
    "print(\"LinearSVC tfidf Score:   %0.3f\" % tfidf_svc_score)"
   ]
  },
  {
   "cell_type": "code",
   "execution_count": 156,
   "metadata": {},
   "outputs": [
    {
     "name": "stdout",
     "output_type": "stream",
     "text": [
      "LinearSVC count Score:   0.838\n"
     ]
    }
   ],
   "source": [
    "# Create a LinearSVM model\n",
    "count_svc = LinearSVC(C=0.1)\n",
    "count_svc.fit(count_train, y_train)\n",
    "\n",
    "# Run predict on your tfidf test data to get your predictions\n",
    "count_svc_pred = count_svc.predict(count_test)\n",
    "\n",
    "# Calculate your accuracy using the metrics module\n",
    "count_svc_score = metrics.accuracy_score(count_svc_pred, y_test)\n",
    "\n",
    "\n",
    "print(\"LinearSVC count Score:   %0.3f\" % count_svc_score)"
   ]
  },
  {
   "cell_type": "markdown",
   "metadata": {},
   "source": [
    "# XPS Prediction "
   ]
  },
  {
   "cell_type": "code",
   "execution_count": 157,
   "metadata": {},
   "outputs": [
    {
     "data": {
      "text/html": [
       "<div>\n",
       "<style scoped>\n",
       "    .dataframe tbody tr th:only-of-type {\n",
       "        vertical-align: middle;\n",
       "    }\n",
       "\n",
       "    .dataframe tbody tr th {\n",
       "        vertical-align: top;\n",
       "    }\n",
       "\n",
       "    .dataframe thead th {\n",
       "        text-align: right;\n",
       "    }\n",
       "</style>\n",
       "<table border=\"1\" class=\"dataframe\">\n",
       "  <thead>\n",
       "    <tr style=\"text-align: right;\">\n",
       "      <th></th>\n",
       "      <th>counter</th>\n",
       "      <th>post date</th>\n",
       "      <th>model</th>\n",
       "      <th>source</th>\n",
       "      <th>number of likes</th>\n",
       "      <th>number of comments</th>\n",
       "      <th>title</th>\n",
       "      <th>content</th>\n",
       "      <th>link</th>\n",
       "      <th>label</th>\n",
       "    </tr>\n",
       "  </thead>\n",
       "  <tbody>\n",
       "    <tr>\n",
       "      <th>0</th>\n",
       "      <td>1</td>\n",
       "      <td>2023-02-15</td>\n",
       "      <td>xps 13 9315</td>\n",
       "      <td>xps - reddit</td>\n",
       "      <td>0</td>\n",
       "      <td>1</td>\n",
       "      <td>xps13 9315 without windows</td>\n",
       "      <td>hey i want to buy a 9315 with linux, and maybe...</td>\n",
       "      <td>https://www.reddit.com/r/XPS/comments/1130y8l/...</td>\n",
       "      <td>NaN</td>\n",
       "    </tr>\n",
       "    <tr>\n",
       "      <th>1</th>\n",
       "      <td>2</td>\n",
       "      <td>2023-02-09</td>\n",
       "      <td>xps 15 9510</td>\n",
       "      <td>xps - reddit</td>\n",
       "      <td>1</td>\n",
       "      <td>0</td>\n",
       "      <td>galaxy book 3 ultra or xps 15 oled</td>\n",
       "      <td>currently i have a xps 15 9510 1080p model. fo...</td>\n",
       "      <td>https://www.reddit.com/r/XPS/comments/10xotyn/...</td>\n",
       "      <td>NaN</td>\n",
       "    </tr>\n",
       "    <tr>\n",
       "      <th>2</th>\n",
       "      <td>3</td>\n",
       "      <td>2023-02-08</td>\n",
       "      <td>xps 15 9520</td>\n",
       "      <td>xps - reddit</td>\n",
       "      <td>1</td>\n",
       "      <td>2</td>\n",
       "      <td>how do i disable the proximity sensor on xps 9...</td>\n",
       "      <td>everytime i walk away from my computer to go d...</td>\n",
       "      <td>https://www.reddit.com/r/XPS/comments/10xb6vy/...</td>\n",
       "      <td>NaN</td>\n",
       "    </tr>\n",
       "    <tr>\n",
       "      <th>3</th>\n",
       "      <td>4</td>\n",
       "      <td>2023-02-07</td>\n",
       "      <td>xps 13 9310</td>\n",
       "      <td>xps - reddit</td>\n",
       "      <td>1</td>\n",
       "      <td>2</td>\n",
       "      <td>ir sensor</td>\n",
       "      <td>i've recently got my hands on a xps 13 9310 an...</td>\n",
       "      <td>https://www.reddit.com/r/XPS/comments/10w80wz/...</td>\n",
       "      <td>NaN</td>\n",
       "    </tr>\n",
       "    <tr>\n",
       "      <th>4</th>\n",
       "      <td>5</td>\n",
       "      <td>2023-02-02</td>\n",
       "      <td>xps 15 9520</td>\n",
       "      <td>xps - reddit</td>\n",
       "      <td>3</td>\n",
       "      <td>6</td>\n",
       "      <td>dell xps 15 9520 performance issue after ram u...</td>\n",
       "      <td>hey guys, i upgraded my ram from 32gb to 64gb ...</td>\n",
       "      <td>https://www.reddit.com/r/XPS/comments/10rmcwm/...</td>\n",
       "      <td>NaN</td>\n",
       "    </tr>\n",
       "  </tbody>\n",
       "</table>\n",
       "</div>"
      ],
      "text/plain": [
       "   counter  post date        model        source  number of likes  \\\n",
       "0        1 2023-02-15  xps 13 9315  xps - reddit                0   \n",
       "1        2 2023-02-09  xps 15 9510  xps - reddit                1   \n",
       "2        3 2023-02-08  xps 15 9520  xps - reddit                1   \n",
       "3        4 2023-02-07  xps 13 9310  xps - reddit                1   \n",
       "4        5 2023-02-02  xps 15 9520  xps - reddit                3   \n",
       "\n",
       "   number of comments                                              title  \\\n",
       "0                   1                         xps13 9315 without windows   \n",
       "1                   0                 galaxy book 3 ultra or xps 15 oled   \n",
       "2                   2  how do i disable the proximity sensor on xps 9...   \n",
       "3                   2                                          ir sensor   \n",
       "4                   6  dell xps 15 9520 performance issue after ram u...   \n",
       "\n",
       "                                             content  \\\n",
       "0  hey i want to buy a 9315 with linux, and maybe...   \n",
       "1  currently i have a xps 15 9510 1080p model. fo...   \n",
       "2  everytime i walk away from my computer to go d...   \n",
       "3  i've recently got my hands on a xps 13 9310 an...   \n",
       "4  hey guys, i upgraded my ram from 32gb to 64gb ...   \n",
       "\n",
       "                                                link label  \n",
       "0  https://www.reddit.com/r/XPS/comments/1130y8l/...   NaN  \n",
       "1  https://www.reddit.com/r/XPS/comments/10xotyn/...   NaN  \n",
       "2  https://www.reddit.com/r/XPS/comments/10xb6vy/...   NaN  \n",
       "3  https://www.reddit.com/r/XPS/comments/10w80wz/...   NaN  \n",
       "4  https://www.reddit.com/r/XPS/comments/10rmcwm/...   NaN  "
      ]
     },
     "execution_count": 157,
     "metadata": {},
     "output_type": "execute_result"
    }
   ],
   "source": [
    "df = pd.concat(map(pd.read_csv, ['reddit (xps filtered).csv', 'reddit (label xps) all.csv']), sort=False)\n",
    "df = df.drop('counter', axis = 1)\n",
    "df['post date']=pd.to_datetime(df['post date'])\n",
    "df = df.drop_duplicates(subset=['link'])\n",
    "df = df.sort_values(by=['post date','source'], ascending = False)\n",
    "df.insert(0,'counter',range(1, len(df) + 1))\n",
    "df.to_csv('reddit (label xps) 1.csv', encoding='utf_8_sig', index=False)\n",
    "df.head()"
   ]
  },
  {
   "cell_type": "code",
   "execution_count": 158,
   "metadata": {},
   "outputs": [
    {
     "data": {
      "text/html": [
       "<div>\n",
       "<style scoped>\n",
       "    .dataframe tbody tr th:only-of-type {\n",
       "        vertical-align: middle;\n",
       "    }\n",
       "\n",
       "    .dataframe tbody tr th {\n",
       "        vertical-align: top;\n",
       "    }\n",
       "\n",
       "    .dataframe thead th {\n",
       "        text-align: right;\n",
       "    }\n",
       "</style>\n",
       "<table border=\"1\" class=\"dataframe\">\n",
       "  <thead>\n",
       "    <tr style=\"text-align: right;\">\n",
       "      <th></th>\n",
       "      <th>counter</th>\n",
       "      <th>post date</th>\n",
       "      <th>model</th>\n",
       "      <th>source</th>\n",
       "      <th>number of likes</th>\n",
       "      <th>number of comments</th>\n",
       "      <th>title</th>\n",
       "      <th>content</th>\n",
       "      <th>link</th>\n",
       "      <th>label</th>\n",
       "      <th>combined</th>\n",
       "    </tr>\n",
       "  </thead>\n",
       "  <tbody>\n",
       "    <tr>\n",
       "      <th>0</th>\n",
       "      <td>1</td>\n",
       "      <td>2023-02-15</td>\n",
       "      <td>xps 13 9315</td>\n",
       "      <td>xps - reddit</td>\n",
       "      <td>0</td>\n",
       "      <td>1</td>\n",
       "      <td>xps13 9315 without windows</td>\n",
       "      <td>hey i want to buy a 9315 with linux, and maybe...</td>\n",
       "      <td>https://www.reddit.com/r/XPS/comments/1130y8l/...</td>\n",
       "      <td>NaN</td>\n",
       "      <td>xps13 9315 without windows hey i want to buy a...</td>\n",
       "    </tr>\n",
       "    <tr>\n",
       "      <th>1</th>\n",
       "      <td>2</td>\n",
       "      <td>2023-02-09</td>\n",
       "      <td>xps 15 9510</td>\n",
       "      <td>xps - reddit</td>\n",
       "      <td>1</td>\n",
       "      <td>0</td>\n",
       "      <td>galaxy book 3 ultra or xps 15 oled</td>\n",
       "      <td>currently i have a xps 15 9510 1080p model. fo...</td>\n",
       "      <td>https://www.reddit.com/r/XPS/comments/10xotyn/...</td>\n",
       "      <td>NaN</td>\n",
       "      <td>galaxy book 3 ultra or xps 15 oled currently i...</td>\n",
       "    </tr>\n",
       "    <tr>\n",
       "      <th>2</th>\n",
       "      <td>3</td>\n",
       "      <td>2023-02-08</td>\n",
       "      <td>xps 15 9520</td>\n",
       "      <td>xps - reddit</td>\n",
       "      <td>1</td>\n",
       "      <td>2</td>\n",
       "      <td>how do i disable the proximity sensor on xps 9...</td>\n",
       "      <td>everytime i walk away from my computer to go d...</td>\n",
       "      <td>https://www.reddit.com/r/XPS/comments/10xb6vy/...</td>\n",
       "      <td>NaN</td>\n",
       "      <td>how do i disable the proximity sensor on xps 9...</td>\n",
       "    </tr>\n",
       "    <tr>\n",
       "      <th>3</th>\n",
       "      <td>4</td>\n",
       "      <td>2023-02-07</td>\n",
       "      <td>xps 13 9310</td>\n",
       "      <td>xps - reddit</td>\n",
       "      <td>1</td>\n",
       "      <td>2</td>\n",
       "      <td>ir sensor</td>\n",
       "      <td>i've recently got my hands on a xps 13 9310 an...</td>\n",
       "      <td>https://www.reddit.com/r/XPS/comments/10w80wz/...</td>\n",
       "      <td>NaN</td>\n",
       "      <td>ir sensor i've recently got my hands on a xps ...</td>\n",
       "    </tr>\n",
       "    <tr>\n",
       "      <th>4</th>\n",
       "      <td>5</td>\n",
       "      <td>2023-02-02</td>\n",
       "      <td>xps 15 9520</td>\n",
       "      <td>xps - reddit</td>\n",
       "      <td>3</td>\n",
       "      <td>6</td>\n",
       "      <td>dell xps 15 9520 performance issue after ram u...</td>\n",
       "      <td>hey guys, i upgraded my ram from 32gb to 64gb ...</td>\n",
       "      <td>https://www.reddit.com/r/XPS/comments/10rmcwm/...</td>\n",
       "      <td>NaN</td>\n",
       "      <td>dell xps 15 9520 performance issue after ram u...</td>\n",
       "    </tr>\n",
       "  </tbody>\n",
       "</table>\n",
       "</div>"
      ],
      "text/plain": [
       "   counter   post date        model        source  number of likes  \\\n",
       "0        1  2023-02-15  xps 13 9315  xps - reddit                0   \n",
       "1        2  2023-02-09  xps 15 9510  xps - reddit                1   \n",
       "2        3  2023-02-08  xps 15 9520  xps - reddit                1   \n",
       "3        4  2023-02-07  xps 13 9310  xps - reddit                1   \n",
       "4        5  2023-02-02  xps 15 9520  xps - reddit                3   \n",
       "\n",
       "   number of comments                                              title  \\\n",
       "0                   1                         xps13 9315 without windows   \n",
       "1                   0                 galaxy book 3 ultra or xps 15 oled   \n",
       "2                   2  how do i disable the proximity sensor on xps 9...   \n",
       "3                   2                                          ir sensor   \n",
       "4                   6  dell xps 15 9520 performance issue after ram u...   \n",
       "\n",
       "                                             content  \\\n",
       "0  hey i want to buy a 9315 with linux, and maybe...   \n",
       "1  currently i have a xps 15 9510 1080p model. fo...   \n",
       "2  everytime i walk away from my computer to go d...   \n",
       "3  i've recently got my hands on a xps 13 9310 an...   \n",
       "4  hey guys, i upgraded my ram from 32gb to 64gb ...   \n",
       "\n",
       "                                                link label  \\\n",
       "0  https://www.reddit.com/r/XPS/comments/1130y8l/...   NaN   \n",
       "1  https://www.reddit.com/r/XPS/comments/10xotyn/...   NaN   \n",
       "2  https://www.reddit.com/r/XPS/comments/10xb6vy/...   NaN   \n",
       "3  https://www.reddit.com/r/XPS/comments/10w80wz/...   NaN   \n",
       "4  https://www.reddit.com/r/XPS/comments/10rmcwm/...   NaN   \n",
       "\n",
       "                                            combined  \n",
       "0  xps13 9315 without windows hey i want to buy a...  \n",
       "1  galaxy book 3 ultra or xps 15 oled currently i...  \n",
       "2  how do i disable the proximity sensor on xps 9...  \n",
       "3  ir sensor i've recently got my hands on a xps ...  \n",
       "4  dell xps 15 9520 performance issue after ram u...  "
      ]
     },
     "execution_count": 158,
     "metadata": {},
     "output_type": "execute_result"
    }
   ],
   "source": [
    "import pandas as pd\n",
    "\n",
    "# Load data\n",
    "df = pd.read_csv('reddit (label xps) 1.csv')\n",
    "\n",
    "df = df[df.isna().any(axis=1)]\n",
    "# combined only list\n",
    "df['combined'] = df['title'] + ' ' + df['content']\n",
    "\n",
    "Xnew = list(df['combined'])\n",
    "df.head()"
   ]
  },
  {
   "cell_type": "code",
   "execution_count": 159,
   "metadata": {},
   "outputs": [
    {
     "data": {
      "text/plain": [
       "array(['question (technical)', 'question (purchasing)',\n",
       "       'question (technical)', ..., 'question (technical)',\n",
       "       'question (technical)', 'question (technical)'], dtype=object)"
      ]
     },
     "execution_count": 159,
     "metadata": {},
     "output_type": "execute_result"
    }
   ],
   "source": [
    "tfidf_test2 = tfidf_vectorizer.transform(Xnew)\n",
    "tfidf_test2\n",
    "\n",
    "# Run predict on your tfidf test data to get your predictions\n",
    "tfidf_svc_pred2 = tfidf_svc.predict(tfidf_test2)\n",
    "tfidf_svc_pred2"
   ]
  },
  {
   "cell_type": "code",
   "execution_count": 160,
   "metadata": {},
   "outputs": [
    {
     "data": {
      "text/html": [
       "<div>\n",
       "<style scoped>\n",
       "    .dataframe tbody tr th:only-of-type {\n",
       "        vertical-align: middle;\n",
       "    }\n",
       "\n",
       "    .dataframe tbody tr th {\n",
       "        vertical-align: top;\n",
       "    }\n",
       "\n",
       "    .dataframe thead th {\n",
       "        text-align: right;\n",
       "    }\n",
       "</style>\n",
       "<table border=\"1\" class=\"dataframe\">\n",
       "  <thead>\n",
       "    <tr style=\"text-align: right;\">\n",
       "      <th></th>\n",
       "      <th>counter</th>\n",
       "      <th>post date</th>\n",
       "      <th>model</th>\n",
       "      <th>source</th>\n",
       "      <th>number of likes</th>\n",
       "      <th>number of comments</th>\n",
       "      <th>title</th>\n",
       "      <th>content</th>\n",
       "      <th>link</th>\n",
       "      <th>label</th>\n",
       "    </tr>\n",
       "  </thead>\n",
       "  <tbody>\n",
       "    <tr>\n",
       "      <th>0</th>\n",
       "      <td>1</td>\n",
       "      <td>2023-02-15</td>\n",
       "      <td>xps 13 9315</td>\n",
       "      <td>xps - reddit</td>\n",
       "      <td>0</td>\n",
       "      <td>1</td>\n",
       "      <td>xps13 9315 without windows</td>\n",
       "      <td>hey i want to buy a 9315 with linux, and maybe...</td>\n",
       "      <td>https://www.reddit.com/r/XPS/comments/1130y8l/...</td>\n",
       "      <td>question (technical)</td>\n",
       "    </tr>\n",
       "    <tr>\n",
       "      <th>1</th>\n",
       "      <td>2</td>\n",
       "      <td>2023-02-09</td>\n",
       "      <td>xps 15 9510</td>\n",
       "      <td>xps - reddit</td>\n",
       "      <td>1</td>\n",
       "      <td>0</td>\n",
       "      <td>galaxy book 3 ultra or xps 15 oled</td>\n",
       "      <td>currently i have a xps 15 9510 1080p model. fo...</td>\n",
       "      <td>https://www.reddit.com/r/XPS/comments/10xotyn/...</td>\n",
       "      <td>question (purchasing)</td>\n",
       "    </tr>\n",
       "    <tr>\n",
       "      <th>2</th>\n",
       "      <td>3</td>\n",
       "      <td>2023-02-08</td>\n",
       "      <td>xps 15 9520</td>\n",
       "      <td>xps - reddit</td>\n",
       "      <td>1</td>\n",
       "      <td>2</td>\n",
       "      <td>how do i disable the proximity sensor on xps 9...</td>\n",
       "      <td>everytime i walk away from my computer to go d...</td>\n",
       "      <td>https://www.reddit.com/r/XPS/comments/10xb6vy/...</td>\n",
       "      <td>question (technical)</td>\n",
       "    </tr>\n",
       "    <tr>\n",
       "      <th>3</th>\n",
       "      <td>4</td>\n",
       "      <td>2023-02-07</td>\n",
       "      <td>xps 13 9310</td>\n",
       "      <td>xps - reddit</td>\n",
       "      <td>1</td>\n",
       "      <td>2</td>\n",
       "      <td>ir sensor</td>\n",
       "      <td>i've recently got my hands on a xps 13 9310 an...</td>\n",
       "      <td>https://www.reddit.com/r/XPS/comments/10w80wz/...</td>\n",
       "      <td>question (technical)</td>\n",
       "    </tr>\n",
       "    <tr>\n",
       "      <th>4</th>\n",
       "      <td>5</td>\n",
       "      <td>2023-02-02</td>\n",
       "      <td>xps 15 9520</td>\n",
       "      <td>xps - reddit</td>\n",
       "      <td>3</td>\n",
       "      <td>6</td>\n",
       "      <td>dell xps 15 9520 performance issue after ram u...</td>\n",
       "      <td>hey guys, i upgraded my ram from 32gb to 64gb ...</td>\n",
       "      <td>https://www.reddit.com/r/XPS/comments/10rmcwm/...</td>\n",
       "      <td>question (technical)</td>\n",
       "    </tr>\n",
       "  </tbody>\n",
       "</table>\n",
       "</div>"
      ],
      "text/plain": [
       "   counter   post date        model        source  number of likes  \\\n",
       "0        1  2023-02-15  xps 13 9315  xps - reddit                0   \n",
       "1        2  2023-02-09  xps 15 9510  xps - reddit                1   \n",
       "2        3  2023-02-08  xps 15 9520  xps - reddit                1   \n",
       "3        4  2023-02-07  xps 13 9310  xps - reddit                1   \n",
       "4        5  2023-02-02  xps 15 9520  xps - reddit                3   \n",
       "\n",
       "   number of comments                                              title  \\\n",
       "0                   1                         xps13 9315 without windows   \n",
       "1                   0                 galaxy book 3 ultra or xps 15 oled   \n",
       "2                   2  how do i disable the proximity sensor on xps 9...   \n",
       "3                   2                                          ir sensor   \n",
       "4                   6  dell xps 15 9520 performance issue after ram u...   \n",
       "\n",
       "                                             content  \\\n",
       "0  hey i want to buy a 9315 with linux, and maybe...   \n",
       "1  currently i have a xps 15 9510 1080p model. fo...   \n",
       "2  everytime i walk away from my computer to go d...   \n",
       "3  i've recently got my hands on a xps 13 9310 an...   \n",
       "4  hey guys, i upgraded my ram from 32gb to 64gb ...   \n",
       "\n",
       "                                                link                  label  \n",
       "0  https://www.reddit.com/r/XPS/comments/1130y8l/...   question (technical)  \n",
       "1  https://www.reddit.com/r/XPS/comments/10xotyn/...  question (purchasing)  \n",
       "2  https://www.reddit.com/r/XPS/comments/10xb6vy/...   question (technical)  \n",
       "3  https://www.reddit.com/r/XPS/comments/10w80wz/...   question (technical)  \n",
       "4  https://www.reddit.com/r/XPS/comments/10rmcwm/...   question (technical)  "
      ]
     },
     "execution_count": 160,
     "metadata": {},
     "output_type": "execute_result"
    }
   ],
   "source": [
    "df['label'] = tfidf_svc_pred2\n",
    "df = df.drop('combined', axis =1)\n",
    "df.to_csv('reddit (label xps) updated.csv', encoding='utf_8_sig', index=False)\n",
    "df.head()"
   ]
  },
  {
   "cell_type": "code",
   "execution_count": 161,
   "metadata": {},
   "outputs": [
    {
     "data": {
      "text/html": [
       "<div>\n",
       "<style scoped>\n",
       "    .dataframe tbody tr th:only-of-type {\n",
       "        vertical-align: middle;\n",
       "    }\n",
       "\n",
       "    .dataframe tbody tr th {\n",
       "        vertical-align: top;\n",
       "    }\n",
       "\n",
       "    .dataframe thead th {\n",
       "        text-align: right;\n",
       "    }\n",
       "</style>\n",
       "<table border=\"1\" class=\"dataframe\">\n",
       "  <thead>\n",
       "    <tr style=\"text-align: right;\">\n",
       "      <th></th>\n",
       "      <th>counter</th>\n",
       "      <th>post date</th>\n",
       "      <th>model</th>\n",
       "      <th>source</th>\n",
       "      <th>number of likes</th>\n",
       "      <th>number of comments</th>\n",
       "      <th>title</th>\n",
       "      <th>content</th>\n",
       "      <th>link</th>\n",
       "      <th>label</th>\n",
       "    </tr>\n",
       "  </thead>\n",
       "  <tbody>\n",
       "    <tr>\n",
       "      <th>0</th>\n",
       "      <td>1</td>\n",
       "      <td>2023-02-15</td>\n",
       "      <td>xps 13 9315</td>\n",
       "      <td>xps - reddit</td>\n",
       "      <td>0</td>\n",
       "      <td>1</td>\n",
       "      <td>xps13 9315 without windows</td>\n",
       "      <td>hey i want to buy a 9315 with linux, and maybe...</td>\n",
       "      <td>https://www.reddit.com/r/XPS/comments/1130y8l/...</td>\n",
       "      <td>question (technical)</td>\n",
       "    </tr>\n",
       "    <tr>\n",
       "      <th>1</th>\n",
       "      <td>2</td>\n",
       "      <td>2023-02-09</td>\n",
       "      <td>xps 15 9510</td>\n",
       "      <td>xps - reddit</td>\n",
       "      <td>1</td>\n",
       "      <td>0</td>\n",
       "      <td>galaxy book 3 ultra or xps 15 oled</td>\n",
       "      <td>currently i have a xps 15 9510 1080p model. fo...</td>\n",
       "      <td>https://www.reddit.com/r/XPS/comments/10xotyn/...</td>\n",
       "      <td>question (purchasing)</td>\n",
       "    </tr>\n",
       "    <tr>\n",
       "      <th>2</th>\n",
       "      <td>3</td>\n",
       "      <td>2023-02-08</td>\n",
       "      <td>xps 15 9520</td>\n",
       "      <td>xps - reddit</td>\n",
       "      <td>1</td>\n",
       "      <td>2</td>\n",
       "      <td>how do i disable the proximity sensor on xps 9...</td>\n",
       "      <td>everytime i walk away from my computer to go d...</td>\n",
       "      <td>https://www.reddit.com/r/XPS/comments/10xb6vy/...</td>\n",
       "      <td>question (technical)</td>\n",
       "    </tr>\n",
       "    <tr>\n",
       "      <th>3</th>\n",
       "      <td>4</td>\n",
       "      <td>2023-02-07</td>\n",
       "      <td>xps 13 9310</td>\n",
       "      <td>xps - reddit</td>\n",
       "      <td>1</td>\n",
       "      <td>2</td>\n",
       "      <td>ir sensor</td>\n",
       "      <td>i've recently got my hands on a xps 13 9310 an...</td>\n",
       "      <td>https://www.reddit.com/r/XPS/comments/10w80wz/...</td>\n",
       "      <td>question (technical)</td>\n",
       "    </tr>\n",
       "    <tr>\n",
       "      <th>4</th>\n",
       "      <td>5</td>\n",
       "      <td>2023-02-02</td>\n",
       "      <td>xps 15 9520</td>\n",
       "      <td>xps - reddit</td>\n",
       "      <td>3</td>\n",
       "      <td>6</td>\n",
       "      <td>dell xps 15 9520 performance issue after ram u...</td>\n",
       "      <td>hey guys, i upgraded my ram from 32gb to 64gb ...</td>\n",
       "      <td>https://www.reddit.com/r/XPS/comments/10rmcwm/...</td>\n",
       "      <td>question (technical)</td>\n",
       "    </tr>\n",
       "  </tbody>\n",
       "</table>\n",
       "</div>"
      ],
      "text/plain": [
       "   counter  post date        model        source  number of likes  \\\n",
       "0        1 2023-02-15  xps 13 9315  xps - reddit                0   \n",
       "1        2 2023-02-09  xps 15 9510  xps - reddit                1   \n",
       "2        3 2023-02-08  xps 15 9520  xps - reddit                1   \n",
       "3        4 2023-02-07  xps 13 9310  xps - reddit                1   \n",
       "4        5 2023-02-02  xps 15 9520  xps - reddit                3   \n",
       "\n",
       "   number of comments                                              title  \\\n",
       "0                   1                         xps13 9315 without windows   \n",
       "1                   0                 galaxy book 3 ultra or xps 15 oled   \n",
       "2                   2  how do i disable the proximity sensor on xps 9...   \n",
       "3                   2                                          ir sensor   \n",
       "4                   6  dell xps 15 9520 performance issue after ram u...   \n",
       "\n",
       "                                             content  \\\n",
       "0  hey i want to buy a 9315 with linux, and maybe...   \n",
       "1  currently i have a xps 15 9510 1080p model. fo...   \n",
       "2  everytime i walk away from my computer to go d...   \n",
       "3  i've recently got my hands on a xps 13 9310 an...   \n",
       "4  hey guys, i upgraded my ram from 32gb to 64gb ...   \n",
       "\n",
       "                                                link                  label  \n",
       "0  https://www.reddit.com/r/XPS/comments/1130y8l/...   question (technical)  \n",
       "1  https://www.reddit.com/r/XPS/comments/10xotyn/...  question (purchasing)  \n",
       "2  https://www.reddit.com/r/XPS/comments/10xb6vy/...   question (technical)  \n",
       "3  https://www.reddit.com/r/XPS/comments/10w80wz/...   question (technical)  \n",
       "4  https://www.reddit.com/r/XPS/comments/10rmcwm/...   question (technical)  "
      ]
     },
     "execution_count": 161,
     "metadata": {},
     "output_type": "execute_result"
    }
   ],
   "source": [
    "# Load data\n",
    "df = pd.concat(map(pd.read_csv, ['reddit (label xps) updated.csv', 'reddit (label xps) all.csv']))\n",
    "df = df.drop('counter', axis = 1)\n",
    "df['post date']=pd.to_datetime(df['post date'])\n",
    "df = df.drop_duplicates(subset=['link'])\n",
    "df = df.sort_values(by=['post date','source'], ascending = False)\n",
    "df.insert(0,'counter',range(1, len(df) + 1))\n",
    "df.to_csv('reddit (label xps) all.csv', encoding='utf_8_sig', index=False)\n",
    "df.head()"
   ]
  },
  {
   "cell_type": "markdown",
   "metadata": {},
   "source": [
    "# Inspiron new data"
   ]
  },
  {
   "cell_type": "code",
   "execution_count": 162,
   "metadata": {},
   "outputs": [],
   "source": [
    "import pandas as pd\n",
    "\n",
    "# Load data\n",
    "df = pd.read_csv('reddit (inspiron filtered).csv')\n",
    "\n",
    "df = df.dropna(axis=0)\n",
    "\n",
    "# combined only list\n",
    "df['combined'] = df['title'] + ' ' + df['content']\n",
    "\n",
    "Xnew = list(df['combined'])"
   ]
  },
  {
   "cell_type": "code",
   "execution_count": 163,
   "metadata": {},
   "outputs": [
    {
     "data": {
      "text/plain": [
       "array(['question (technical)', 'question (technical)',\n",
       "       'question (technical)', 'question (technical)',\n",
       "       'question (technical)', 'question (technical)',\n",
       "       'question (technical)', 'question (technical)',\n",
       "       'question (purchasing)', 'question (purchasing)',\n",
       "       'question (technical)', 'question (purchasing)',\n",
       "       'question (technical)', 'question (technical)',\n",
       "       'question (purchasing)', 'question (purchasing)',\n",
       "       'question (technical)', 'question (technical)',\n",
       "       'question (technical)'], dtype=object)"
      ]
     },
     "execution_count": 163,
     "metadata": {},
     "output_type": "execute_result"
    }
   ],
   "source": [
    "tfidf_test2 = tfidf_vectorizer.transform(Xnew)\n",
    "tfidf_test2\n",
    "\n",
    "# Run predict on your count test data to get your predictions\n",
    "tfidf_svc_pred2 = tfidf_svc.predict(tfidf_test2)\n",
    "tfidf_svc_pred2"
   ]
  },
  {
   "cell_type": "code",
   "execution_count": 164,
   "metadata": {},
   "outputs": [
    {
     "data": {
      "text/html": [
       "<div>\n",
       "<style scoped>\n",
       "    .dataframe tbody tr th:only-of-type {\n",
       "        vertical-align: middle;\n",
       "    }\n",
       "\n",
       "    .dataframe tbody tr th {\n",
       "        vertical-align: top;\n",
       "    }\n",
       "\n",
       "    .dataframe thead th {\n",
       "        text-align: right;\n",
       "    }\n",
       "</style>\n",
       "<table border=\"1\" class=\"dataframe\">\n",
       "  <thead>\n",
       "    <tr style=\"text-align: right;\">\n",
       "      <th></th>\n",
       "      <th>counter</th>\n",
       "      <th>post date</th>\n",
       "      <th>model</th>\n",
       "      <th>source</th>\n",
       "      <th>label</th>\n",
       "      <th>number of likes</th>\n",
       "      <th>number of comments</th>\n",
       "      <th>title</th>\n",
       "      <th>content</th>\n",
       "      <th>link</th>\n",
       "    </tr>\n",
       "  </thead>\n",
       "  <tbody>\n",
       "    <tr>\n",
       "      <th>0</th>\n",
       "      <td>1</td>\n",
       "      <td>2022-08-04</td>\n",
       "      <td>inspiron 14 5420</td>\n",
       "      <td>inspiron (dell) - reddit</td>\n",
       "      <td>question (technical)</td>\n",
       "      <td>1</td>\n",
       "      <td>0</td>\n",
       "      <td>inspiron 14 vs xps 13 for use with external</td>\n",
       "      <td>my partner has a desktop with three monitors. ...</td>\n",
       "      <td>https://www.reddit.com/r/Dell/comments/wfxclf/...</td>\n",
       "    </tr>\n",
       "    <tr>\n",
       "      <th>1</th>\n",
       "      <td>2</td>\n",
       "      <td>2022-07-31</td>\n",
       "      <td>inspiron 16 plus 7620</td>\n",
       "      <td>inspiron (dell) - reddit</td>\n",
       "      <td>question (technical)</td>\n",
       "      <td>3</td>\n",
       "      <td>6</td>\n",
       "      <td>inspiron 16 plus 7620 battery draining like a</td>\n",
       "      <td>hey all, had my new inspiron 16 plus 7620 a we...</td>\n",
       "      <td>https://www.reddit.com/r/Dell/comments/wcf3xp/...</td>\n",
       "    </tr>\n",
       "    <tr>\n",
       "      <th>2</th>\n",
       "      <td>3</td>\n",
       "      <td>2022-07-30</td>\n",
       "      <td>inspiron 16 plus 7620</td>\n",
       "      <td>inspiron (dell) - reddit</td>\n",
       "      <td>question (technical)</td>\n",
       "      <td>3</td>\n",
       "      <td>2</td>\n",
       "      <td>dell inspiron 16 plus 7620 bad audio problem with</td>\n",
       "      <td>hello, i recently bought a brand new dell insp...</td>\n",
       "      <td>https://www.reddit.com/r/Dell/comments/wbsdnz/...</td>\n",
       "    </tr>\n",
       "    <tr>\n",
       "      <th>3</th>\n",
       "      <td>4</td>\n",
       "      <td>2022-07-26</td>\n",
       "      <td>inspiron 16 plus 7620</td>\n",
       "      <td>inspiron (dell) - reddit</td>\n",
       "      <td>question (technical)</td>\n",
       "      <td>1</td>\n",
       "      <td>6</td>\n",
       "      <td>bought an inspiron 7620; need ram</td>\n",
       "      <td>i just bought an inspiron 7620 an am so far ex...</td>\n",
       "      <td>https://www.reddit.com/r/Dell/comments/w88xlc/...</td>\n",
       "    </tr>\n",
       "    <tr>\n",
       "      <th>4</th>\n",
       "      <td>5</td>\n",
       "      <td>2022-07-23</td>\n",
       "      <td>inspiron 16 plus 7620</td>\n",
       "      <td>inspiron (dell) - reddit</td>\n",
       "      <td>question (technical)</td>\n",
       "      <td>0</td>\n",
       "      <td>4</td>\n",
       "      <td>inspiron 16 plus 7620 - overheating in sleep</td>\n",
       "      <td>hi, just received my new laptop. nice design a...</td>\n",
       "      <td>https://www.reddit.com/r/Dell/comments/w5qk65/...</td>\n",
       "    </tr>\n",
       "  </tbody>\n",
       "</table>\n",
       "</div>"
      ],
      "text/plain": [
       "   counter   post date                  model                    source  \\\n",
       "0        1  2022-08-04       inspiron 14 5420  inspiron (dell) - reddit   \n",
       "1        2  2022-07-31  inspiron 16 plus 7620  inspiron (dell) - reddit   \n",
       "2        3  2022-07-30  inspiron 16 plus 7620  inspiron (dell) - reddit   \n",
       "3        4  2022-07-26  inspiron 16 plus 7620  inspiron (dell) - reddit   \n",
       "4        5  2022-07-23  inspiron 16 plus 7620  inspiron (dell) - reddit   \n",
       "\n",
       "                  label  number of likes  number of comments  \\\n",
       "0  question (technical)                1                   0   \n",
       "1  question (technical)                3                   6   \n",
       "2  question (technical)                3                   2   \n",
       "3  question (technical)                1                   6   \n",
       "4  question (technical)                0                   4   \n",
       "\n",
       "                                               title  \\\n",
       "0        inspiron 14 vs xps 13 for use with external   \n",
       "1      inspiron 16 plus 7620 battery draining like a   \n",
       "2  dell inspiron 16 plus 7620 bad audio problem with   \n",
       "3                  bought an inspiron 7620; need ram   \n",
       "4       inspiron 16 plus 7620 - overheating in sleep   \n",
       "\n",
       "                                             content  \\\n",
       "0  my partner has a desktop with three monitors. ...   \n",
       "1  hey all, had my new inspiron 16 plus 7620 a we...   \n",
       "2  hello, i recently bought a brand new dell insp...   \n",
       "3  i just bought an inspiron 7620 an am so far ex...   \n",
       "4  hi, just received my new laptop. nice design a...   \n",
       "\n",
       "                                                link  \n",
       "0  https://www.reddit.com/r/Dell/comments/wfxclf/...  \n",
       "1  https://www.reddit.com/r/Dell/comments/wcf3xp/...  \n",
       "2  https://www.reddit.com/r/Dell/comments/wbsdnz/...  \n",
       "3  https://www.reddit.com/r/Dell/comments/w88xlc/...  \n",
       "4  https://www.reddit.com/r/Dell/comments/w5qk65/...  "
      ]
     },
     "execution_count": 164,
     "metadata": {},
     "output_type": "execute_result"
    }
   ],
   "source": [
    "df.insert(4,'label',tfidf_svc_pred2)\n",
    "df = df.drop('combined', axis =1)\n",
    "df.to_csv('reddit (label inspiron).csv', encoding='utf_8_sig', index=False)\n",
    "df.head()"
   ]
  },
  {
   "cell_type": "markdown",
   "metadata": {},
   "source": [
    "# G15 new data"
   ]
  },
  {
   "cell_type": "code",
   "execution_count": 165,
   "metadata": {},
   "outputs": [],
   "source": [
    "import pandas as pd\n",
    "\n",
    "# Load data\n",
    "df = pd.read_csv('reddit (dellg15 filtered).csv')\n",
    "\n",
    "df = df.dropna(axis=0)\n",
    "\n",
    "# combined only list\n",
    "df['combined'] = df['title'] + ' ' + df['content']\n",
    "\n",
    "Xnew = list(df['combined'])"
   ]
  },
  {
   "cell_type": "code",
   "execution_count": 166,
   "metadata": {},
   "outputs": [
    {
     "data": {
      "text/plain": [
       "array(['question (technical)', 'question (technical)',\n",
       "       'question (technical)', 'question (technical)',\n",
       "       'question (technical)', 'question (purchasing)',\n",
       "       'question (purchasing)', 'question (technical)',\n",
       "       'question (purchasing)', 'question (purchasing)',\n",
       "       'question (technical)', 'question (technical)',\n",
       "       'question (technical)', 'question (technical)',\n",
       "       'question (technical)'], dtype=object)"
      ]
     },
     "execution_count": 166,
     "metadata": {},
     "output_type": "execute_result"
    }
   ],
   "source": [
    "tfidf_test2 = tfidf_vectorizer.transform(Xnew)\n",
    "tfidf_test2\n",
    "\n",
    "# Run predict on your count test data to get your predictions\n",
    "tfidf_svc_pred2 = tfidf_svc.predict(tfidf_test2)\n",
    "tfidf_svc_pred2"
   ]
  },
  {
   "cell_type": "code",
   "execution_count": 167,
   "metadata": {},
   "outputs": [
    {
     "data": {
      "text/html": [
       "<div>\n",
       "<style scoped>\n",
       "    .dataframe tbody tr th:only-of-type {\n",
       "        vertical-align: middle;\n",
       "    }\n",
       "\n",
       "    .dataframe tbody tr th {\n",
       "        vertical-align: top;\n",
       "    }\n",
       "\n",
       "    .dataframe thead th {\n",
       "        text-align: right;\n",
       "    }\n",
       "</style>\n",
       "<table border=\"1\" class=\"dataframe\">\n",
       "  <thead>\n",
       "    <tr style=\"text-align: right;\">\n",
       "      <th></th>\n",
       "      <th>counter</th>\n",
       "      <th>post date</th>\n",
       "      <th>model</th>\n",
       "      <th>source</th>\n",
       "      <th>label</th>\n",
       "      <th>number of likes</th>\n",
       "      <th>number of comments</th>\n",
       "      <th>title</th>\n",
       "      <th>content</th>\n",
       "      <th>link</th>\n",
       "    </tr>\n",
       "  </thead>\n",
       "  <tbody>\n",
       "    <tr>\n",
       "      <th>0</th>\n",
       "      <td>1</td>\n",
       "      <td>2022-08-07</td>\n",
       "      <td>dell g15 5520</td>\n",
       "      <td>dellg15 (gaming) - reddit</td>\n",
       "      <td>question (technical)</td>\n",
       "      <td>2</td>\n",
       "      <td>7</td>\n",
       "      <td>discussiondell g15 5520 vbios update tgp chang...</td>\n",
       "      <td>what’s weird?</td>\n",
       "      <td>https://www.reddit.com/r/GamingLaptops/comment...</td>\n",
       "    </tr>\n",
       "    <tr>\n",
       "      <th>1</th>\n",
       "      <td>2</td>\n",
       "      <td>2022-08-03</td>\n",
       "      <td>dell g15 5520</td>\n",
       "      <td>dellg15 (gaming) - reddit</td>\n",
       "      <td>question (technical)</td>\n",
       "      <td>2</td>\n",
       "      <td>5</td>\n",
       "      <td>discussiondell g15 5520 what do you think of</td>\n",
       "      <td>i want to buy dell g15 5520 12700h 16gb ddr5 r...</td>\n",
       "      <td>https://www.reddit.com/r/GamingLaptops/comment...</td>\n",
       "    </tr>\n",
       "    <tr>\n",
       "      <th>2</th>\n",
       "      <td>3</td>\n",
       "      <td>2022-08-03</td>\n",
       "      <td>dell g15 5520</td>\n",
       "      <td>dellg15 (gaming) - reddit</td>\n",
       "      <td>question (technical)</td>\n",
       "      <td>1</td>\n",
       "      <td>6</td>\n",
       "      <td>tech supportbought new dell g15 5520 3050ti la...</td>\n",
       "      <td>inb4 my issue is that i bought a dell</td>\n",
       "      <td>https://www.reddit.com/r/GamingLaptops/comment...</td>\n",
       "    </tr>\n",
       "    <tr>\n",
       "      <th>3</th>\n",
       "      <td>4</td>\n",
       "      <td>2022-08-02</td>\n",
       "      <td>dell g15 5520</td>\n",
       "      <td>dellg15 (gaming) - reddit</td>\n",
       "      <td>question (technical)</td>\n",
       "      <td>6</td>\n",
       "      <td>7</td>\n",
       "      <td>tech supportneed help with dell g15 5520</td>\n",
       "      <td>hi, i just got my dell g15 5520 today and was ...</td>\n",
       "      <td>https://www.reddit.com/r/GamingLaptops/comment...</td>\n",
       "    </tr>\n",
       "    <tr>\n",
       "      <th>4</th>\n",
       "      <td>5</td>\n",
       "      <td>2022-08-02</td>\n",
       "      <td>dell g15 5525</td>\n",
       "      <td>dellg15 (gaming) - reddit</td>\n",
       "      <td>question (technical)</td>\n",
       "      <td>4</td>\n",
       "      <td>2</td>\n",
       "      <td>discussionis displayport on dell g15 5525 (680...</td>\n",
       "      <td>i'm looking for a new laptop with 6800h and i ...</td>\n",
       "      <td>https://www.reddit.com/r/GamingLaptops/comment...</td>\n",
       "    </tr>\n",
       "  </tbody>\n",
       "</table>\n",
       "</div>"
      ],
      "text/plain": [
       "   counter   post date          model                     source  \\\n",
       "0        1  2022-08-07  dell g15 5520  dellg15 (gaming) - reddit   \n",
       "1        2  2022-08-03  dell g15 5520  dellg15 (gaming) - reddit   \n",
       "2        3  2022-08-03  dell g15 5520  dellg15 (gaming) - reddit   \n",
       "3        4  2022-08-02  dell g15 5520  dellg15 (gaming) - reddit   \n",
       "4        5  2022-08-02  dell g15 5525  dellg15 (gaming) - reddit   \n",
       "\n",
       "                  label  number of likes  number of comments  \\\n",
       "0  question (technical)                2                   7   \n",
       "1  question (technical)                2                   5   \n",
       "2  question (technical)                1                   6   \n",
       "3  question (technical)                6                   7   \n",
       "4  question (technical)                4                   2   \n",
       "\n",
       "                                               title  \\\n",
       "0  discussiondell g15 5520 vbios update tgp chang...   \n",
       "1       discussiondell g15 5520 what do you think of   \n",
       "2  tech supportbought new dell g15 5520 3050ti la...   \n",
       "3           tech supportneed help with dell g15 5520   \n",
       "4  discussionis displayport on dell g15 5525 (680...   \n",
       "\n",
       "                                             content  \\\n",
       "0                                      what’s weird?   \n",
       "1  i want to buy dell g15 5520 12700h 16gb ddr5 r...   \n",
       "2              inb4 my issue is that i bought a dell   \n",
       "3  hi, i just got my dell g15 5520 today and was ...   \n",
       "4  i'm looking for a new laptop with 6800h and i ...   \n",
       "\n",
       "                                                link  \n",
       "0  https://www.reddit.com/r/GamingLaptops/comment...  \n",
       "1  https://www.reddit.com/r/GamingLaptops/comment...  \n",
       "2  https://www.reddit.com/r/GamingLaptops/comment...  \n",
       "3  https://www.reddit.com/r/GamingLaptops/comment...  \n",
       "4  https://www.reddit.com/r/GamingLaptops/comment...  "
      ]
     },
     "execution_count": 167,
     "metadata": {},
     "output_type": "execute_result"
    }
   ],
   "source": [
    "df.insert(4,'label',tfidf_svc_pred2)\n",
    "df = df.drop('combined', axis =1)\n",
    "df.to_csv('reddit (label dellg15).csv', encoding='utf_8_sig', index=False)\n",
    "df.head()"
   ]
  },
  {
   "cell_type": "markdown",
   "metadata": {},
   "source": [
    "# Vostro new data"
   ]
  },
  {
   "cell_type": "code",
   "execution_count": 168,
   "metadata": {},
   "outputs": [],
   "source": [
    "import pandas as pd\n",
    "\n",
    "# Load data\n",
    "df = pd.read_csv('reddit (vostro filtered).csv')\n",
    "\n",
    "df = df.dropna(axis=0)\n",
    "\n",
    "# combined only list\n",
    "df['combined'] = df['title'] + ' ' + df['content']\n",
    "\n",
    "Xnew = list(df['combined'])"
   ]
  },
  {
   "cell_type": "code",
   "execution_count": 169,
   "metadata": {},
   "outputs": [
    {
     "data": {
      "text/plain": [
       "array(['question (technical)', 'question (technical)',\n",
       "       'question (technical)', 'question (purchasing)',\n",
       "       'question (technical)'], dtype=object)"
      ]
     },
     "execution_count": 169,
     "metadata": {},
     "output_type": "execute_result"
    }
   ],
   "source": [
    "tfidf_test2 = tfidf_vectorizer.transform(Xnew)\n",
    "tfidf_test2\n",
    "\n",
    "# Run predict on your count test data to get your predictions\n",
    "tfidf_svc_pred2 = tfidf_svc.predict(tfidf_test2)\n",
    "tfidf_svc_pred2"
   ]
  },
  {
   "cell_type": "code",
   "execution_count": 170,
   "metadata": {},
   "outputs": [
    {
     "data": {
      "text/html": [
       "<div>\n",
       "<style scoped>\n",
       "    .dataframe tbody tr th:only-of-type {\n",
       "        vertical-align: middle;\n",
       "    }\n",
       "\n",
       "    .dataframe tbody tr th {\n",
       "        vertical-align: top;\n",
       "    }\n",
       "\n",
       "    .dataframe thead th {\n",
       "        text-align: right;\n",
       "    }\n",
       "</style>\n",
       "<table border=\"1\" class=\"dataframe\">\n",
       "  <thead>\n",
       "    <tr style=\"text-align: right;\">\n",
       "      <th></th>\n",
       "      <th>counter</th>\n",
       "      <th>post date</th>\n",
       "      <th>model</th>\n",
       "      <th>source</th>\n",
       "      <th>label</th>\n",
       "      <th>number of likes</th>\n",
       "      <th>number of comments</th>\n",
       "      <th>title</th>\n",
       "      <th>content</th>\n",
       "      <th>link</th>\n",
       "    </tr>\n",
       "  </thead>\n",
       "  <tbody>\n",
       "    <tr>\n",
       "      <th>0</th>\n",
       "      <td>1</td>\n",
       "      <td>2022-07-13</td>\n",
       "      <td>vostro 7620</td>\n",
       "      <td>vostro (dell) - reddit</td>\n",
       "      <td>question (technical)</td>\n",
       "      <td>0</td>\n",
       "      <td>2</td>\n",
       "      <td>i'm fed up with this dell trash: vostro 7620 i...</td>\n",
       "      <td>i do not understand how they haven't figured o...</td>\n",
       "      <td>https://www.reddit.com/r/Dell/comments/vybhbf/...</td>\n",
       "    </tr>\n",
       "    <tr>\n",
       "      <th>1</th>\n",
       "      <td>2</td>\n",
       "      <td>2022-07-10</td>\n",
       "      <td>vostro 7620</td>\n",
       "      <td>vostro (dell) - reddit</td>\n",
       "      <td>question (technical)</td>\n",
       "      <td>3</td>\n",
       "      <td>6</td>\n",
       "      <td>vostro 7620</td>\n",
       "      <td>i haven't seen one yet, so here is mine: it fr...</td>\n",
       "      <td>https://www.reddit.com/r/Dell/comments/vvw919/...</td>\n",
       "    </tr>\n",
       "    <tr>\n",
       "      <th>2</th>\n",
       "      <td>3</td>\n",
       "      <td>2022-07-07</td>\n",
       "      <td>vostro 5620</td>\n",
       "      <td>vostro (dell) - reddit</td>\n",
       "      <td>question (technical)</td>\n",
       "      <td>1</td>\n",
       "      <td>0</td>\n",
       "      <td>dell vostro 5620, windows 11 stuck at 48fps, b...</td>\n",
       "      <td>model: dell vostro 5620 cpu: i7-1260p gpu: iri...</td>\n",
       "      <td>https://www.reddit.com/r/Dell/comments/vtkb2j/...</td>\n",
       "    </tr>\n",
       "    <tr>\n",
       "      <th>3</th>\n",
       "      <td>4</td>\n",
       "      <td>2022-06-10</td>\n",
       "      <td>vostro 7620</td>\n",
       "      <td>vostro (dell) - reddit</td>\n",
       "      <td>question (purchasing)</td>\n",
       "      <td>6</td>\n",
       "      <td>13</td>\n",
       "      <td>new dell inspiron 16 plus and vostro 7620 lapt...</td>\n",
       "      <td>i can't wait for this three laptops come to us...</td>\n",
       "      <td>https://www.reddit.com/r/Dell/comments/v9b05b/...</td>\n",
       "    </tr>\n",
       "    <tr>\n",
       "      <th>4</th>\n",
       "      <td>5</td>\n",
       "      <td>2022-05-28</td>\n",
       "      <td>vostro 5620</td>\n",
       "      <td>vostro (dell) - reddit</td>\n",
       "      <td>question (technical)</td>\n",
       "      <td>1</td>\n",
       "      <td>6</td>\n",
       "      <td>vostro 5620 throttling at low</td>\n",
       "      <td>hey, just got a 5620 with an i7-1260p, i don't...</td>\n",
       "      <td>https://www.reddit.com/r/Dell/comments/uzqdtv/...</td>\n",
       "    </tr>\n",
       "  </tbody>\n",
       "</table>\n",
       "</div>"
      ],
      "text/plain": [
       "   counter   post date        model                  source  \\\n",
       "0        1  2022-07-13  vostro 7620  vostro (dell) - reddit   \n",
       "1        2  2022-07-10  vostro 7620  vostro (dell) - reddit   \n",
       "2        3  2022-07-07  vostro 5620  vostro (dell) - reddit   \n",
       "3        4  2022-06-10  vostro 7620  vostro (dell) - reddit   \n",
       "4        5  2022-05-28  vostro 5620  vostro (dell) - reddit   \n",
       "\n",
       "                   label  number of likes  number of comments  \\\n",
       "0   question (technical)                0                   2   \n",
       "1   question (technical)                3                   6   \n",
       "2   question (technical)                1                   0   \n",
       "3  question (purchasing)                6                  13   \n",
       "4   question (technical)                1                   6   \n",
       "\n",
       "                                               title  \\\n",
       "0  i'm fed up with this dell trash: vostro 7620 i...   \n",
       "1                                        vostro 7620   \n",
       "2  dell vostro 5620, windows 11 stuck at 48fps, b...   \n",
       "3  new dell inspiron 16 plus and vostro 7620 lapt...   \n",
       "4                      vostro 5620 throttling at low   \n",
       "\n",
       "                                             content  \\\n",
       "0  i do not understand how they haven't figured o...   \n",
       "1  i haven't seen one yet, so here is mine: it fr...   \n",
       "2  model: dell vostro 5620 cpu: i7-1260p gpu: iri...   \n",
       "3  i can't wait for this three laptops come to us...   \n",
       "4  hey, just got a 5620 with an i7-1260p, i don't...   \n",
       "\n",
       "                                                link  \n",
       "0  https://www.reddit.com/r/Dell/comments/vybhbf/...  \n",
       "1  https://www.reddit.com/r/Dell/comments/vvw919/...  \n",
       "2  https://www.reddit.com/r/Dell/comments/vtkb2j/...  \n",
       "3  https://www.reddit.com/r/Dell/comments/v9b05b/...  \n",
       "4  https://www.reddit.com/r/Dell/comments/uzqdtv/...  "
      ]
     },
     "execution_count": 170,
     "metadata": {},
     "output_type": "execute_result"
    }
   ],
   "source": [
    "df.insert(4,'label',tfidf_svc_pred2)\n",
    "df = df.drop('combined', axis =1)\n",
    "df.to_csv('reddit (label vostro).csv', encoding='utf_8_sig', index=False)\n",
    "df.head()"
   ]
  },
  {
   "cell_type": "markdown",
   "metadata": {},
   "source": [
    "# XPS odm new data"
   ]
  },
  {
   "cell_type": "code",
   "execution_count": 171,
   "metadata": {},
   "outputs": [],
   "source": [
    "import pandas as pd\n",
    "\n",
    "# Load data\n",
    "df = pd.read_csv('reddit (xps odm filtered).csv')\n",
    "\n",
    "df = df.dropna(axis=0)\n",
    "\n",
    "# combined only list\n",
    "df['combined'] = df['title'] + ' ' + df['content']\n",
    "\n",
    "Xnew = list(df['combined'])"
   ]
  },
  {
   "cell_type": "code",
   "execution_count": 172,
   "metadata": {},
   "outputs": [
    {
     "data": {
      "text/plain": [
       "array(['question (technical)', 'question (technical)',\n",
       "       'question (technical)', 'question (technical)',\n",
       "       'question (technical)', 'question (purchasing)',\n",
       "       'question (technical)', 'question (technical)',\n",
       "       'question (technical)', 'question (technical)',\n",
       "       'question (technical)', 'question (technical)',\n",
       "       'question (technical)', 'question (technical)',\n",
       "       'question (technical)', 'question (technical)',\n",
       "       'question (technical)', 'question (technical)',\n",
       "       'question (technical)', 'question (technical)',\n",
       "       'question (technical)', 'question (technical)',\n",
       "       'question (technical)', 'question (technical)',\n",
       "       'question (technical)', 'dislike', 'question (technical)',\n",
       "       'question (technical)', 'dislike', 'question (technical)',\n",
       "       'question (technical)', 'question (technical)',\n",
       "       'question (purchasing)', 'like', 'question (purchasing)',\n",
       "       'question (technical)', 'question (purchasing)',\n",
       "       'question (technical)', 'question (technical)',\n",
       "       'question (technical)', 'question (technical)', 'dislike',\n",
       "       'question (technical)', 'question (technical)',\n",
       "       'question (technical)', 'question (technical)',\n",
       "       'question (technical)', 'question (purchasing)', 'dislike',\n",
       "       'question (technical)', 'question (operations)',\n",
       "       'question (technical)', 'question (technical)',\n",
       "       'question (purchasing)', 'question (technical)',\n",
       "       'question (technical)', 'question (technical)',\n",
       "       'question (purchasing)', 'question (technical)',\n",
       "       'question (purchasing)', 'question (purchasing)',\n",
       "       'question (technical)', 'question (purchasing)',\n",
       "       'question (purchasing)', 'question (technical)',\n",
       "       'question (technical)', 'question (technical)',\n",
       "       'question (technical)', 'question (technical)',\n",
       "       'question (technical)', 'question (technical)',\n",
       "       'question (purchasing)', 'question (technical)',\n",
       "       'question (technical)', 'question (technical)',\n",
       "       'question (technical)', 'question (technical)',\n",
       "       'question (technical)', 'question (purchasing)',\n",
       "       'question (technical)', 'question (technical)',\n",
       "       'question (technical)', 'question (technical)',\n",
       "       'question (technical)', 'question (technical)',\n",
       "       'question (technical)', 'question (purchasing)',\n",
       "       'question (technical)', 'question (technical)',\n",
       "       'question (technical)', 'question (technical)',\n",
       "       'question (technical)', 'question (technical)',\n",
       "       'question (technical)', 'question (technical)',\n",
       "       'question (technical)', 'question (technical)',\n",
       "       'question (technical)', 'question (technical)',\n",
       "       'question (technical)', 'question (technical)',\n",
       "       'question (purchasing)', 'question (technical)',\n",
       "       'question (technical)', 'question (technical)',\n",
       "       'question (technical)', 'question (technical)',\n",
       "       'question (technical)', 'question (purchasing)',\n",
       "       'question (technical)', 'question (technical)',\n",
       "       'question (technical)', 'question (purchasing)',\n",
       "       'question (technical)', 'question (technical)',\n",
       "       'question (technical)', 'question (technical)',\n",
       "       'question (technical)', 'question (technical)',\n",
       "       'question (technical)', 'question (technical)',\n",
       "       'question (technical)', 'question (technical)',\n",
       "       'question (technical)', 'question (technical)',\n",
       "       'question (technical)', 'question (technical)',\n",
       "       'question (technical)', 'question (technical)',\n",
       "       'question (technical)', 'question (technical)',\n",
       "       'question (purchasing)', 'question (purchasing)',\n",
       "       'question (technical)', 'question (technical)',\n",
       "       'question (technical)', 'question (technical)',\n",
       "       'question (technical)', 'question (technical)',\n",
       "       'question (technical)', 'question (technical)',\n",
       "       'question (technical)', 'question (technical)',\n",
       "       'question (technical)', 'question (technical)',\n",
       "       'question (technical)', 'question (technical)',\n",
       "       'question (technical)', 'question (purchasing)',\n",
       "       'question (technical)', 'question (technical)',\n",
       "       'question (purchasing)', 'question (technical)',\n",
       "       'question (purchasing)', 'question (purchasing)',\n",
       "       'question (technical)', 'question (technical)',\n",
       "       'question (purchasing)', 'question (technical)',\n",
       "       'question (technical)', 'question (technical)',\n",
       "       'question (technical)', 'question (technical)',\n",
       "       'question (technical)', 'question (technical)',\n",
       "       'question (technical)', 'question (technical)',\n",
       "       'question (technical)', 'question (technical)',\n",
       "       'question (technical)', 'question (technical)',\n",
       "       'question (technical)', 'question (technical)',\n",
       "       'question (technical)', 'question (technical)',\n",
       "       'question (technical)', 'question (technical)',\n",
       "       'question (technical)', 'question (technical)',\n",
       "       'question (operations)', 'question (technical)',\n",
       "       'question (technical)', 'question (technical)',\n",
       "       'question (technical)', 'question (technical)',\n",
       "       'question (technical)', 'question (technical)',\n",
       "       'question (technical)', 'question (technical)',\n",
       "       'question (technical)', 'question (technical)',\n",
       "       'question (technical)', 'question (technical)',\n",
       "       'question (technical)', 'question (technical)',\n",
       "       'question (technical)', 'question (technical)',\n",
       "       'question (technical)', 'question (technical)',\n",
       "       'question (technical)', 'question (technical)',\n",
       "       'question (technical)', 'question (technical)',\n",
       "       'question (technical)', 'question (technical)',\n",
       "       'question (purchasing)', 'question (technical)',\n",
       "       'question (technical)', 'like', 'question (technical)',\n",
       "       'question (technical)', 'question (technical)',\n",
       "       'question (technical)', 'question (technical)',\n",
       "       'question (operations)', 'question (technical)',\n",
       "       'question (technical)', 'question (technical)',\n",
       "       'question (operations)', 'question (purchasing)',\n",
       "       'question (technical)', 'question (purchasing)',\n",
       "       'question (technical)', 'question (technical)',\n",
       "       'question (technical)', 'question (technical)',\n",
       "       'question (purchasing)', 'question (purchasing)',\n",
       "       'question (technical)', 'question (technical)',\n",
       "       'question (technical)', 'question (technical)',\n",
       "       'question (technical)', 'question (technical)',\n",
       "       'question (technical)', 'question (technical)',\n",
       "       'question (technical)', 'question (technical)',\n",
       "       'question (technical)', 'question (technical)',\n",
       "       'question (technical)', 'question (technical)',\n",
       "       'question (technical)', 'question (technical)',\n",
       "       'question (technical)', 'question (technical)',\n",
       "       'question (technical)', 'question (technical)',\n",
       "       'question (technical)', 'question (technical)',\n",
       "       'question (technical)', 'question (purchasing)',\n",
       "       'question (technical)', 'question (technical)',\n",
       "       'question (technical)', 'question (technical)',\n",
       "       'question (technical)', 'question (technical)',\n",
       "       'question (technical)', 'question (technical)',\n",
       "       'question (technical)', 'question (technical)',\n",
       "       'question (technical)', 'question (technical)',\n",
       "       'question (technical)', 'question (technical)',\n",
       "       'question (technical)', 'question (technical)',\n",
       "       'question (technical)', 'question (technical)',\n",
       "       'question (technical)', 'question (technical)',\n",
       "       'question (purchasing)', 'question (technical)',\n",
       "       'question (technical)', 'question (technical)',\n",
       "       'question (technical)', 'question (technical)',\n",
       "       'question (purchasing)', 'question (technical)',\n",
       "       'question (purchasing)', 'question (purchasing)',\n",
       "       'question (technical)', 'question (technical)',\n",
       "       'question (technical)', 'question (technical)',\n",
       "       'question (technical)', 'question (technical)',\n",
       "       'question (technical)', 'question (technical)',\n",
       "       'question (technical)', 'question (operations)',\n",
       "       'question (purchasing)', 'question (technical)',\n",
       "       'question (technical)', 'question (technical)',\n",
       "       'question (technical)', 'question (technical)',\n",
       "       'question (technical)', 'question (technical)', 'dislike',\n",
       "       'question (technical)', 'question (operations)',\n",
       "       'question (technical)', 'question (technical)',\n",
       "       'question (technical)', 'question (operations)',\n",
       "       'question (technical)', 'question (technical)',\n",
       "       'question (operations)', 'question (technical)',\n",
       "       'question (technical)', 'question (technical)',\n",
       "       'question (purchasing)', 'question (technical)',\n",
       "       'question (technical)', 'question (technical)',\n",
       "       'question (technical)', 'question (purchasing)',\n",
       "       'question (technical)', 'question (purchasing)',\n",
       "       'question (technical)', 'question (technical)',\n",
       "       'question (technical)', 'question (technical)',\n",
       "       'question (technical)', 'question (purchasing)',\n",
       "       'question (technical)', 'question (purchasing)',\n",
       "       'question (technical)', 'question (technical)',\n",
       "       'question (technical)', 'question (purchasing)',\n",
       "       'question (technical)', 'question (technical)',\n",
       "       'question (technical)', 'question (technical)',\n",
       "       'question (technical)', 'question (technical)',\n",
       "       'question (technical)', 'question (technical)',\n",
       "       'question (technical)', 'question (technical)',\n",
       "       'question (technical)', 'question (technical)',\n",
       "       'question (technical)', 'like', 'question (technical)',\n",
       "       'question (technical)', 'question (technical)',\n",
       "       'question (technical)', 'question (purchasing)',\n",
       "       'question (purchasing)', 'question (technical)',\n",
       "       'question (technical)', 'question (technical)',\n",
       "       'question (technical)', 'question (technical)',\n",
       "       'question (technical)', 'question (technical)',\n",
       "       'question (technical)', 'question (purchasing)',\n",
       "       'question (purchasing)', 'question (purchasing)',\n",
       "       'question (technical)', 'question (technical)',\n",
       "       'question (technical)', 'question (technical)',\n",
       "       'question (technical)', 'question (technical)',\n",
       "       'question (technical)', 'question (technical)',\n",
       "       'question (purchasing)', 'question (technical)',\n",
       "       'question (purchasing)', 'question (technical)',\n",
       "       'question (operations)', 'question (technical)',\n",
       "       'question (technical)', 'question (technical)',\n",
       "       'question (purchasing)', 'question (purchasing)',\n",
       "       'question (operations)', 'question (technical)',\n",
       "       'question (technical)', 'question (operations)',\n",
       "       'question (technical)', 'question (technical)',\n",
       "       'question (technical)', 'question (purchasing)',\n",
       "       'question (purchasing)', 'question (technical)',\n",
       "       'question (purchasing)', 'question (purchasing)',\n",
       "       'question (technical)', 'question (technical)',\n",
       "       'question (technical)', 'question (technical)',\n",
       "       'question (technical)', 'question (technical)',\n",
       "       'question (purchasing)', 'question (technical)',\n",
       "       'question (technical)', 'question (technical)',\n",
       "       'question (technical)', 'question (purchasing)',\n",
       "       'question (technical)', 'question (purchasing)',\n",
       "       'question (purchasing)', 'question (technical)', 'dislike',\n",
       "       'question (technical)', 'question (technical)',\n",
       "       'question (technical)', 'question (technical)',\n",
       "       'question (technical)', 'question (technical)',\n",
       "       'question (technical)', 'question (technical)',\n",
       "       'question (technical)', 'question (technical)',\n",
       "       'question (technical)', 'question (purchasing)',\n",
       "       'question (technical)', 'question (technical)',\n",
       "       'question (technical)', 'question (purchasing)',\n",
       "       'question (operations)', 'question (technical)',\n",
       "       'question (technical)', 'question (purchasing)',\n",
       "       'question (technical)', 'question (technical)',\n",
       "       'question (technical)', 'question (technical)',\n",
       "       'question (technical)', 'question (technical)',\n",
       "       'question (technical)', 'question (technical)',\n",
       "       'question (purchasing)', 'question (technical)',\n",
       "       'question (technical)', 'question (technical)',\n",
       "       'question (technical)', 'question (technical)',\n",
       "       'question (technical)', 'question (technical)',\n",
       "       'question (technical)', 'question (technical)',\n",
       "       'question (operations)', 'dislike', 'question (technical)',\n",
       "       'question (technical)', 'question (technical)',\n",
       "       'question (technical)', 'question (technical)',\n",
       "       'question (technical)', 'question (technical)',\n",
       "       'question (technical)', 'question (technical)',\n",
       "       'question (technical)', 'question (purchasing)',\n",
       "       'question (technical)', 'question (purchasing)',\n",
       "       'question (technical)', 'question (technical)',\n",
       "       'question (purchasing)', 'question (technical)',\n",
       "       'question (technical)', 'question (technical)',\n",
       "       'question (operations)', 'question (operations)',\n",
       "       'question (purchasing)', 'question (purchasing)', 'like',\n",
       "       'question (purchasing)', 'question (technical)',\n",
       "       'question (technical)', 'question (technical)',\n",
       "       'question (operations)', 'question (technical)',\n",
       "       'question (technical)', 'question (technical)',\n",
       "       'question (operations)', 'dislike', 'dislike', 'dislike',\n",
       "       'question (purchasing)', 'question (operations)',\n",
       "       'question (purchasing)', 'question (purchasing)',\n",
       "       'question (operations)', 'question (technical)',\n",
       "       'question (technical)', 'question (technical)',\n",
       "       'question (technical)', 'question (operations)',\n",
       "       'question (technical)', 'question (technical)',\n",
       "       'question (technical)', 'question (operations)',\n",
       "       'question (purchasing)', 'question (technical)',\n",
       "       'question (technical)', 'question (technical)',\n",
       "       'question (technical)', 'question (technical)',\n",
       "       'question (technical)', 'question (technical)',\n",
       "       'question (operations)', 'question (technical)',\n",
       "       'question (technical)', 'question (purchasing)',\n",
       "       'question (purchasing)'], dtype=object)"
      ]
     },
     "execution_count": 172,
     "metadata": {},
     "output_type": "execute_result"
    }
   ],
   "source": [
    "tfidf_test2 = tfidf_vectorizer.transform(Xnew)\n",
    "tfidf_test2\n",
    "\n",
    "# Run predict on your count test data to get your predictions\n",
    "tfidf_svc_pred2 = tfidf_svc.predict(tfidf_test2)\n",
    "tfidf_svc_pred2"
   ]
  },
  {
   "cell_type": "code",
   "execution_count": 173,
   "metadata": {},
   "outputs": [
    {
     "data": {
      "text/html": [
       "<div>\n",
       "<style scoped>\n",
       "    .dataframe tbody tr th:only-of-type {\n",
       "        vertical-align: middle;\n",
       "    }\n",
       "\n",
       "    .dataframe tbody tr th {\n",
       "        vertical-align: top;\n",
       "    }\n",
       "\n",
       "    .dataframe thead th {\n",
       "        text-align: right;\n",
       "    }\n",
       "</style>\n",
       "<table border=\"1\" class=\"dataframe\">\n",
       "  <thead>\n",
       "    <tr style=\"text-align: right;\">\n",
       "      <th></th>\n",
       "      <th>counter</th>\n",
       "      <th>post date</th>\n",
       "      <th>model</th>\n",
       "      <th>family grandparent</th>\n",
       "      <th>source</th>\n",
       "      <th>label</th>\n",
       "      <th>number of likes</th>\n",
       "      <th>number of comments</th>\n",
       "      <th>title</th>\n",
       "      <th>content</th>\n",
       "      <th>link</th>\n",
       "    </tr>\n",
       "  </thead>\n",
       "  <tbody>\n",
       "    <tr>\n",
       "      <th>0</th>\n",
       "      <td>1</td>\n",
       "      <td>2023-02-15</td>\n",
       "      <td>xps 13 9315</td>\n",
       "      <td>Portofino ADL</td>\n",
       "      <td>xps - reddit</td>\n",
       "      <td>question (technical)</td>\n",
       "      <td>0</td>\n",
       "      <td>1</td>\n",
       "      <td>xps13 9315 without windows</td>\n",
       "      <td>hey i want to buy a 9315 with linux, and maybe...</td>\n",
       "      <td>https://www.reddit.com/r/XPS/comments/1130y8l/...</td>\n",
       "    </tr>\n",
       "    <tr>\n",
       "      <th>1</th>\n",
       "      <td>2</td>\n",
       "      <td>2023-02-08</td>\n",
       "      <td>xps 15 9520</td>\n",
       "      <td>Fiorano ADL</td>\n",
       "      <td>xps - reddit</td>\n",
       "      <td>question (technical)</td>\n",
       "      <td>1</td>\n",
       "      <td>2</td>\n",
       "      <td>how do i disable the proximity sensor on xps 9...</td>\n",
       "      <td>everytime i walk away from my computer to go d...</td>\n",
       "      <td>https://www.reddit.com/r/XPS/comments/10xb6vy/...</td>\n",
       "    </tr>\n",
       "    <tr>\n",
       "      <th>2</th>\n",
       "      <td>3</td>\n",
       "      <td>2023-02-02</td>\n",
       "      <td>xps 15 9520</td>\n",
       "      <td>Fiorano ADL</td>\n",
       "      <td>xps - reddit</td>\n",
       "      <td>question (technical)</td>\n",
       "      <td>3</td>\n",
       "      <td>6</td>\n",
       "      <td>dell xps 15 9520 performance issue after ram u...</td>\n",
       "      <td>hey guys, i upgraded my ram from 32gb to 64gb ...</td>\n",
       "      <td>https://www.reddit.com/r/XPS/comments/10rmcwm/...</td>\n",
       "    </tr>\n",
       "    <tr>\n",
       "      <th>3</th>\n",
       "      <td>4</td>\n",
       "      <td>2023-01-27</td>\n",
       "      <td>xps 13 plus 9320</td>\n",
       "      <td>Tributo ADL</td>\n",
       "      <td>xps - reddit</td>\n",
       "      <td>question (technical)</td>\n",
       "      <td>2</td>\n",
       "      <td>4</td>\n",
       "      <td>xps 13 plus 9320 i7 1280p tdp</td>\n",
       "      <td>hi everyone. today i’ve discovered something t...</td>\n",
       "      <td>https://www.reddit.com/r/XPS/comments/10mpwqu/...</td>\n",
       "    </tr>\n",
       "    <tr>\n",
       "      <th>4</th>\n",
       "      <td>5</td>\n",
       "      <td>2023-01-25</td>\n",
       "      <td>xps 13 plus 9320</td>\n",
       "      <td>Tributo ADL</td>\n",
       "      <td>xps - reddit</td>\n",
       "      <td>question (technical)</td>\n",
       "      <td>1</td>\n",
       "      <td>1</td>\n",
       "      <td>received from dell outlet an xps 13 plus 9320 ...</td>\n",
       "      <td>is it normal for the non-touch screen model to...</td>\n",
       "      <td>https://www.reddit.com/r/XPS/comments/10ky1pi/...</td>\n",
       "    </tr>\n",
       "  </tbody>\n",
       "</table>\n",
       "</div>"
      ],
      "text/plain": [
       "   counter   post date             model family grandparent        source  \\\n",
       "0        1  2023-02-15       xps 13 9315      Portofino ADL  xps - reddit   \n",
       "1        2  2023-02-08       xps 15 9520        Fiorano ADL  xps - reddit   \n",
       "2        3  2023-02-02       xps 15 9520        Fiorano ADL  xps - reddit   \n",
       "3        4  2023-01-27  xps 13 plus 9320        Tributo ADL  xps - reddit   \n",
       "4        5  2023-01-25  xps 13 plus 9320        Tributo ADL  xps - reddit   \n",
       "\n",
       "                  label  number of likes  number of comments  \\\n",
       "0  question (technical)                0                   1   \n",
       "1  question (technical)                1                   2   \n",
       "2  question (technical)                3                   6   \n",
       "3  question (technical)                2                   4   \n",
       "4  question (technical)                1                   1   \n",
       "\n",
       "                                               title  \\\n",
       "0                         xps13 9315 without windows   \n",
       "1  how do i disable the proximity sensor on xps 9...   \n",
       "2  dell xps 15 9520 performance issue after ram u...   \n",
       "3                      xps 13 plus 9320 i7 1280p tdp   \n",
       "4  received from dell outlet an xps 13 plus 9320 ...   \n",
       "\n",
       "                                             content  \\\n",
       "0  hey i want to buy a 9315 with linux, and maybe...   \n",
       "1  everytime i walk away from my computer to go d...   \n",
       "2  hey guys, i upgraded my ram from 32gb to 64gb ...   \n",
       "3  hi everyone. today i’ve discovered something t...   \n",
       "4  is it normal for the non-touch screen model to...   \n",
       "\n",
       "                                                link  \n",
       "0  https://www.reddit.com/r/XPS/comments/1130y8l/...  \n",
       "1  https://www.reddit.com/r/XPS/comments/10xb6vy/...  \n",
       "2  https://www.reddit.com/r/XPS/comments/10rmcwm/...  \n",
       "3  https://www.reddit.com/r/XPS/comments/10mpwqu/...  \n",
       "4  https://www.reddit.com/r/XPS/comments/10ky1pi/...  "
      ]
     },
     "execution_count": 173,
     "metadata": {},
     "output_type": "execute_result"
    }
   ],
   "source": [
    "df.insert(5,'label',tfidf_svc_pred2)\n",
    "df = df.drop('combined', axis =1)\n",
    "df.to_csv('reddit (label odm xps).csv', encoding='utf_8_sig', index=False)\n",
    "df.head()"
   ]
  },
  {
   "cell_type": "markdown",
   "metadata": {},
   "source": [
    "# Inspiron odm new data"
   ]
  },
  {
   "cell_type": "code",
   "execution_count": 174,
   "metadata": {},
   "outputs": [],
   "source": [
    "import pandas as pd\n",
    "\n",
    "# Load data\n",
    "df = pd.read_csv('reddit (inspiron odm filtered).csv')\n",
    "\n",
    "df = df.dropna(axis=0)\n",
    "\n",
    "# combined only list\n",
    "df['combined'] = df['title'] + ' ' + df['content']\n",
    "\n",
    "Xnew = list(df['combined'])"
   ]
  },
  {
   "cell_type": "code",
   "execution_count": 175,
   "metadata": {},
   "outputs": [
    {
     "data": {
      "text/plain": [
       "array(['question (technical)', 'question (technical)',\n",
       "       'question (technical)', 'question (technical)',\n",
       "       'question (technical)', 'question (technical)',\n",
       "       'question (technical)', 'question (technical)',\n",
       "       'question (technical)', 'question (purchasing)',\n",
       "       'question (purchasing)', 'question (technical)',\n",
       "       'question (purchasing)', 'question (technical)',\n",
       "       'question (technical)', 'question (technical)',\n",
       "       'question (purchasing)', 'question (purchasing)',\n",
       "       'question (technical)', 'question (technical)',\n",
       "       'question (technical)', 'question (technical)'], dtype=object)"
      ]
     },
     "execution_count": 175,
     "metadata": {},
     "output_type": "execute_result"
    }
   ],
   "source": [
    "tfidf_test2 = tfidf_vectorizer.transform(Xnew)\n",
    "tfidf_test2\n",
    "\n",
    "# Run predict on your count test data to get your predictions\n",
    "tfidf_svc_pred2 = tfidf_svc.predict(tfidf_test2)\n",
    "tfidf_svc_pred2"
   ]
  },
  {
   "cell_type": "code",
   "execution_count": 176,
   "metadata": {},
   "outputs": [
    {
     "data": {
      "text/html": [
       "<div>\n",
       "<style scoped>\n",
       "    .dataframe tbody tr th:only-of-type {\n",
       "        vertical-align: middle;\n",
       "    }\n",
       "\n",
       "    .dataframe tbody tr th {\n",
       "        vertical-align: top;\n",
       "    }\n",
       "\n",
       "    .dataframe thead th {\n",
       "        text-align: right;\n",
       "    }\n",
       "</style>\n",
       "<table border=\"1\" class=\"dataframe\">\n",
       "  <thead>\n",
       "    <tr style=\"text-align: right;\">\n",
       "      <th></th>\n",
       "      <th>counter</th>\n",
       "      <th>post date</th>\n",
       "      <th>model</th>\n",
       "      <th>family grandparent</th>\n",
       "      <th>source</th>\n",
       "      <th>label</th>\n",
       "      <th>number of likes</th>\n",
       "      <th>number of comments</th>\n",
       "      <th>title</th>\n",
       "      <th>content</th>\n",
       "      <th>link</th>\n",
       "    </tr>\n",
       "  </thead>\n",
       "  <tbody>\n",
       "    <tr>\n",
       "      <th>0</th>\n",
       "      <td>1</td>\n",
       "      <td>2022-08-04</td>\n",
       "      <td>inspiron 14 5420</td>\n",
       "      <td>Odin N5 14 ADL</td>\n",
       "      <td>inspiron (dell) - reddit</td>\n",
       "      <td>question (technical)</td>\n",
       "      <td>1</td>\n",
       "      <td>0</td>\n",
       "      <td>inspiron 14 vs xps 13 for use with external</td>\n",
       "      <td>my partner has a desktop with three monitors. ...</td>\n",
       "      <td>https://www.reddit.com/r/Dell/comments/wfxclf/...</td>\n",
       "    </tr>\n",
       "    <tr>\n",
       "      <th>1</th>\n",
       "      <td>2</td>\n",
       "      <td>2022-07-31</td>\n",
       "      <td>inspiron 16 plus 7620</td>\n",
       "      <td>Odin N 16 ADL-H</td>\n",
       "      <td>inspiron (dell) - reddit</td>\n",
       "      <td>question (technical)</td>\n",
       "      <td>3</td>\n",
       "      <td>6</td>\n",
       "      <td>inspiron 16 plus 7620 battery draining like a</td>\n",
       "      <td>hey all, had my new inspiron 16 plus 7620 a we...</td>\n",
       "      <td>https://www.reddit.com/r/Dell/comments/wcf3xp/...</td>\n",
       "    </tr>\n",
       "    <tr>\n",
       "      <th>2</th>\n",
       "      <td>3</td>\n",
       "      <td>2022-07-30</td>\n",
       "      <td>inspiron 16 plus 7620</td>\n",
       "      <td>Odin N 16 ADL-H</td>\n",
       "      <td>inspiron (dell) - reddit</td>\n",
       "      <td>question (technical)</td>\n",
       "      <td>3</td>\n",
       "      <td>2</td>\n",
       "      <td>dell inspiron 16 plus 7620 bad audio problem with</td>\n",
       "      <td>hello, i recently bought a brand new dell insp...</td>\n",
       "      <td>https://www.reddit.com/r/Dell/comments/wbsdnz/...</td>\n",
       "    </tr>\n",
       "    <tr>\n",
       "      <th>3</th>\n",
       "      <td>4</td>\n",
       "      <td>2022-07-26</td>\n",
       "      <td>inspiron 16 plus 7620</td>\n",
       "      <td>Odin N 16 ADL-H</td>\n",
       "      <td>inspiron (dell) - reddit</td>\n",
       "      <td>question (technical)</td>\n",
       "      <td>1</td>\n",
       "      <td>6</td>\n",
       "      <td>bought an inspiron 7620; need ram</td>\n",
       "      <td>i just bought an inspiron 7620 an am so far ex...</td>\n",
       "      <td>https://www.reddit.com/r/Dell/comments/w88xlc/...</td>\n",
       "    </tr>\n",
       "    <tr>\n",
       "      <th>4</th>\n",
       "      <td>5</td>\n",
       "      <td>2022-07-23</td>\n",
       "      <td>inspiron 16 plus 7620</td>\n",
       "      <td>Odin N 16 ADL-H</td>\n",
       "      <td>inspiron (dell) - reddit</td>\n",
       "      <td>question (technical)</td>\n",
       "      <td>0</td>\n",
       "      <td>4</td>\n",
       "      <td>inspiron 16 plus 7620 - overheating in sleep</td>\n",
       "      <td>hi, just received my new laptop. nice design a...</td>\n",
       "      <td>https://www.reddit.com/r/Dell/comments/w5qk65/...</td>\n",
       "    </tr>\n",
       "  </tbody>\n",
       "</table>\n",
       "</div>"
      ],
      "text/plain": [
       "   counter   post date                  model family grandparent  \\\n",
       "0        1  2022-08-04       inspiron 14 5420     Odin N5 14 ADL   \n",
       "1        2  2022-07-31  inspiron 16 plus 7620    Odin N 16 ADL-H   \n",
       "2        3  2022-07-30  inspiron 16 plus 7620    Odin N 16 ADL-H   \n",
       "3        4  2022-07-26  inspiron 16 plus 7620    Odin N 16 ADL-H   \n",
       "4        5  2022-07-23  inspiron 16 plus 7620    Odin N 16 ADL-H   \n",
       "\n",
       "                     source                 label  number of likes  \\\n",
       "0  inspiron (dell) - reddit  question (technical)                1   \n",
       "1  inspiron (dell) - reddit  question (technical)                3   \n",
       "2  inspiron (dell) - reddit  question (technical)                3   \n",
       "3  inspiron (dell) - reddit  question (technical)                1   \n",
       "4  inspiron (dell) - reddit  question (technical)                0   \n",
       "\n",
       "   number of comments                                              title  \\\n",
       "0                   0        inspiron 14 vs xps 13 for use with external   \n",
       "1                   6      inspiron 16 plus 7620 battery draining like a   \n",
       "2                   2  dell inspiron 16 plus 7620 bad audio problem with   \n",
       "3                   6                  bought an inspiron 7620; need ram   \n",
       "4                   4       inspiron 16 plus 7620 - overheating in sleep   \n",
       "\n",
       "                                             content  \\\n",
       "0  my partner has a desktop with three monitors. ...   \n",
       "1  hey all, had my new inspiron 16 plus 7620 a we...   \n",
       "2  hello, i recently bought a brand new dell insp...   \n",
       "3  i just bought an inspiron 7620 an am so far ex...   \n",
       "4  hi, just received my new laptop. nice design a...   \n",
       "\n",
       "                                                link  \n",
       "0  https://www.reddit.com/r/Dell/comments/wfxclf/...  \n",
       "1  https://www.reddit.com/r/Dell/comments/wcf3xp/...  \n",
       "2  https://www.reddit.com/r/Dell/comments/wbsdnz/...  \n",
       "3  https://www.reddit.com/r/Dell/comments/w88xlc/...  \n",
       "4  https://www.reddit.com/r/Dell/comments/w5qk65/...  "
      ]
     },
     "execution_count": 176,
     "metadata": {},
     "output_type": "execute_result"
    }
   ],
   "source": [
    "df.insert(5,'label',tfidf_svc_pred2)\n",
    "df = df.drop('combined', axis =1)\n",
    "df.to_csv('reddit (label odm inspiron).csv', encoding='utf_8_sig', index=False)\n",
    "df.head()"
   ]
  },
  {
   "cell_type": "markdown",
   "metadata": {},
   "source": [
    "# Vostro odm new data"
   ]
  },
  {
   "cell_type": "code",
   "execution_count": 177,
   "metadata": {},
   "outputs": [],
   "source": [
    "import pandas as pd\n",
    "\n",
    "# Load data\n",
    "df = pd.read_csv('reddit (vostro odm filtered).csv')\n",
    "\n",
    "df = df.dropna(axis=0)\n",
    "\n",
    "# combined only list\n",
    "df['combined'] = df['title'] + ' ' + df['content']\n",
    "\n",
    "Xnew = list(df['combined'])"
   ]
  },
  {
   "cell_type": "code",
   "execution_count": 178,
   "metadata": {},
   "outputs": [
    {
     "data": {
      "text/plain": [
       "array(['question (technical)', 'question (technical)',\n",
       "       'question (technical)'], dtype=object)"
      ]
     },
     "execution_count": 178,
     "metadata": {},
     "output_type": "execute_result"
    }
   ],
   "source": [
    "tfidf_test2 = tfidf_vectorizer.transform(Xnew)\n",
    "tfidf_test2\n",
    "\n",
    "# Run predict on your count test data to get your predictions\n",
    "tfidf_svc_pred2 = tfidf_svc.predict(tfidf_test2)\n",
    "tfidf_svc_pred2"
   ]
  },
  {
   "cell_type": "code",
   "execution_count": 179,
   "metadata": {},
   "outputs": [
    {
     "data": {
      "text/html": [
       "<div>\n",
       "<style scoped>\n",
       "    .dataframe tbody tr th:only-of-type {\n",
       "        vertical-align: middle;\n",
       "    }\n",
       "\n",
       "    .dataframe tbody tr th {\n",
       "        vertical-align: top;\n",
       "    }\n",
       "\n",
       "    .dataframe thead th {\n",
       "        text-align: right;\n",
       "    }\n",
       "</style>\n",
       "<table border=\"1\" class=\"dataframe\">\n",
       "  <thead>\n",
       "    <tr style=\"text-align: right;\">\n",
       "      <th></th>\n",
       "      <th>counter</th>\n",
       "      <th>post date</th>\n",
       "      <th>model</th>\n",
       "      <th>family grandparent</th>\n",
       "      <th>source</th>\n",
       "      <th>label</th>\n",
       "      <th>number of likes</th>\n",
       "      <th>number of comments</th>\n",
       "      <th>title</th>\n",
       "      <th>content</th>\n",
       "      <th>link</th>\n",
       "    </tr>\n",
       "  </thead>\n",
       "  <tbody>\n",
       "    <tr>\n",
       "      <th>0</th>\n",
       "      <td>1</td>\n",
       "      <td>2022-07-07</td>\n",
       "      <td>vostro 5620</td>\n",
       "      <td>Odin V5 16 ADL</td>\n",
       "      <td>vostro (dell) - reddit</td>\n",
       "      <td>question (technical)</td>\n",
       "      <td>1</td>\n",
       "      <td>0</td>\n",
       "      <td>dell vostro 5620, windows 11 stuck at 48fps, b...</td>\n",
       "      <td>model: dell vostro 5620 cpu: i7-1260p gpu: iri...</td>\n",
       "      <td>https://www.reddit.com/r/Dell/comments/vtkb2j/...</td>\n",
       "    </tr>\n",
       "    <tr>\n",
       "      <th>1</th>\n",
       "      <td>2</td>\n",
       "      <td>2022-05-28</td>\n",
       "      <td>vostro 5620</td>\n",
       "      <td>Odin V5 16 ADL</td>\n",
       "      <td>vostro (dell) - reddit</td>\n",
       "      <td>question (technical)</td>\n",
       "      <td>1</td>\n",
       "      <td>6</td>\n",
       "      <td>vostro 5620 throttling at low</td>\n",
       "      <td>hey, just got a 5620 with an i7-1260p, i don't...</td>\n",
       "      <td>https://www.reddit.com/r/Dell/comments/uzqdtv/...</td>\n",
       "    </tr>\n",
       "    <tr>\n",
       "      <th>2</th>\n",
       "      <td>3</td>\n",
       "      <td>2022-05-24</td>\n",
       "      <td>vostro 5320</td>\n",
       "      <td>Odin 13 V ADL</td>\n",
       "      <td>vostro (dell) - reddit</td>\n",
       "      <td>question (technical)</td>\n",
       "      <td>5</td>\n",
       "      <td>13</td>\n",
       "      <td>is the new inspiron 14\" with an i7-1255u good ...</td>\n",
       "      <td>howdy all! i am looking forward to buying a ne...</td>\n",
       "      <td>https://www.reddit.com/r/Dell/comments/uwmymc/...</td>\n",
       "    </tr>\n",
       "  </tbody>\n",
       "</table>\n",
       "</div>"
      ],
      "text/plain": [
       "   counter   post date        model family grandparent  \\\n",
       "0        1  2022-07-07  vostro 5620     Odin V5 16 ADL   \n",
       "1        2  2022-05-28  vostro 5620     Odin V5 16 ADL   \n",
       "2        3  2022-05-24  vostro 5320      Odin 13 V ADL   \n",
       "\n",
       "                   source                 label  number of likes  \\\n",
       "0  vostro (dell) - reddit  question (technical)                1   \n",
       "1  vostro (dell) - reddit  question (technical)                1   \n",
       "2  vostro (dell) - reddit  question (technical)                5   \n",
       "\n",
       "   number of comments                                              title  \\\n",
       "0                   0  dell vostro 5620, windows 11 stuck at 48fps, b...   \n",
       "1                   6                      vostro 5620 throttling at low   \n",
       "2                  13  is the new inspiron 14\" with an i7-1255u good ...   \n",
       "\n",
       "                                             content  \\\n",
       "0  model: dell vostro 5620 cpu: i7-1260p gpu: iri...   \n",
       "1  hey, just got a 5620 with an i7-1260p, i don't...   \n",
       "2  howdy all! i am looking forward to buying a ne...   \n",
       "\n",
       "                                                link  \n",
       "0  https://www.reddit.com/r/Dell/comments/vtkb2j/...  \n",
       "1  https://www.reddit.com/r/Dell/comments/uzqdtv/...  \n",
       "2  https://www.reddit.com/r/Dell/comments/uwmymc/...  "
      ]
     },
     "execution_count": 179,
     "metadata": {},
     "output_type": "execute_result"
    }
   ],
   "source": [
    "df.insert(5,'label',tfidf_svc_pred2)\n",
    "df = df.drop('combined', axis =1)\n",
    "df.to_csv('reddit (label odm vostro).csv', encoding='utf_8_sig', index=False)\n",
    "df.head()"
   ]
  },
  {
   "cell_type": "markdown",
   "metadata": {},
   "source": [
    "# XPS odm comment data"
   ]
  },
  {
   "cell_type": "code",
   "execution_count": 180,
   "metadata": {},
   "outputs": [],
   "source": [
    "import pandas as pd\n",
    "\n",
    "# Load data\n",
    "df = pd.read_csv('reddit (xps odm comment filtered).csv')\n",
    "\n",
    "df = df.dropna(axis=0)\n",
    "\n",
    "# combined only list\n",
    "df['combined'] = df['title'] + ' ' + df['content']\n",
    "\n",
    "Xnew = list(df['combined'])"
   ]
  },
  {
   "cell_type": "code",
   "execution_count": 181,
   "metadata": {},
   "outputs": [
    {
     "data": {
      "text/plain": [
       "array(['question (technical)', 'question (technical)',\n",
       "       'question (purchasing)', 'question (technical)',\n",
       "       'question (purchasing)', 'question (technical)',\n",
       "       'question (purchasing)', 'question (purchasing)',\n",
       "       'question (technical)', 'question (technical)',\n",
       "       'question (technical)', 'question (technical)',\n",
       "       'question (technical)', 'question (technical)',\n",
       "       'question (technical)', 'question (purchasing)',\n",
       "       'question (technical)', 'question (technical)',\n",
       "       'question (technical)', 'question (technical)',\n",
       "       'question (technical)', 'question (technical)',\n",
       "       'question (purchasing)', 'question (technical)',\n",
       "       'question (technical)', 'question (technical)',\n",
       "       'question (technical)', 'question (technical)',\n",
       "       'question (technical)', 'question (technical)',\n",
       "       'question (purchasing)', 'question (technical)',\n",
       "       'question (technical)', 'question (technical)',\n",
       "       'question (technical)', 'question (technical)',\n",
       "       'question (technical)', 'question (technical)',\n",
       "       'question (technical)', 'question (technical)',\n",
       "       'question (technical)', 'question (technical)',\n",
       "       'question (technical)', 'question (technical)',\n",
       "       'question (technical)', 'question (purchasing)',\n",
       "       'question (technical)', 'question (technical)',\n",
       "       'question (technical)', 'question (technical)',\n",
       "       'question (technical)', 'question (technical)',\n",
       "       'question (purchasing)', 'question (technical)',\n",
       "       'question (technical)', 'question (technical)',\n",
       "       'question (purchasing)', 'question (technical)',\n",
       "       'question (technical)', 'question (technical)',\n",
       "       'question (technical)', 'question (technical)',\n",
       "       'question (technical)', 'question (technical)',\n",
       "       'question (technical)', 'question (technical)',\n",
       "       'question (technical)', 'question (technical)',\n",
       "       'question (technical)', 'question (technical)',\n",
       "       'question (technical)', 'question (technical)',\n",
       "       'question (technical)', 'question (technical)',\n",
       "       'question (technical)', 'question (purchasing)',\n",
       "       'question (purchasing)', 'question (technical)',\n",
       "       'question (technical)', 'question (technical)',\n",
       "       'question (technical)', 'question (technical)',\n",
       "       'question (technical)', 'question (technical)',\n",
       "       'question (technical)', 'question (technical)',\n",
       "       'question (technical)', 'question (technical)',\n",
       "       'question (technical)', 'question (technical)',\n",
       "       'question (technical)', 'question (technical)',\n",
       "       'question (purchasing)', 'question (technical)',\n",
       "       'question (technical)', 'question (purchasing)',\n",
       "       'question (technical)', 'question (purchasing)',\n",
       "       'question (purchasing)', 'question (technical)',\n",
       "       'question (technical)', 'question (purchasing)',\n",
       "       'question (technical)', 'question (technical)',\n",
       "       'question (technical)', 'question (technical)',\n",
       "       'question (technical)', 'question (technical)',\n",
       "       'question (technical)', 'question (technical)',\n",
       "       'question (technical)', 'question (technical)',\n",
       "       'question (technical)', 'question (technical)',\n",
       "       'question (technical)', 'question (technical)',\n",
       "       'question (technical)', 'question (technical)',\n",
       "       'question (technical)', 'question (technical)',\n",
       "       'question (technical)', 'question (technical)',\n",
       "       'question (technical)', 'question (operations)',\n",
       "       'question (technical)', 'question (technical)',\n",
       "       'question (technical)', 'question (technical)',\n",
       "       'question (technical)', 'question (technical)',\n",
       "       'question (technical)', 'question (technical)',\n",
       "       'question (technical)', 'question (technical)',\n",
       "       'question (technical)', 'question (technical)',\n",
       "       'question (technical)', 'question (technical)',\n",
       "       'question (technical)', 'question (technical)',\n",
       "       'question (technical)', 'question (technical)',\n",
       "       'question (technical)', 'question (technical)',\n",
       "       'question (technical)', 'question (technical)',\n",
       "       'question (technical)', 'question (technical)',\n",
       "       'question (technical)', 'question (purchasing)',\n",
       "       'question (technical)', 'question (technical)', 'like',\n",
       "       'question (technical)', 'question (technical)',\n",
       "       'question (technical)', 'question (technical)',\n",
       "       'question (technical)', 'question (operations)',\n",
       "       'question (technical)', 'question (technical)',\n",
       "       'question (technical)', 'question (operations)',\n",
       "       'question (purchasing)', 'question (technical)',\n",
       "       'question (purchasing)', 'question (technical)',\n",
       "       'question (technical)', 'question (technical)',\n",
       "       'question (technical)', 'question (purchasing)',\n",
       "       'question (purchasing)', 'question (technical)',\n",
       "       'question (technical)', 'question (technical)',\n",
       "       'question (technical)', 'question (technical)',\n",
       "       'question (technical)', 'question (technical)',\n",
       "       'question (technical)', 'question (technical)',\n",
       "       'question (technical)', 'question (technical)',\n",
       "       'question (technical)', 'question (technical)',\n",
       "       'question (technical)', 'question (technical)',\n",
       "       'question (technical)', 'question (technical)',\n",
       "       'question (technical)', 'question (technical)',\n",
       "       'question (technical)', 'question (technical)',\n",
       "       'question (technical)', 'question (technical)',\n",
       "       'question (purchasing)', 'question (technical)',\n",
       "       'question (technical)', 'question (technical)',\n",
       "       'question (technical)', 'question (technical)',\n",
       "       'question (technical)', 'question (technical)',\n",
       "       'question (technical)', 'question (technical)',\n",
       "       'question (technical)', 'question (technical)',\n",
       "       'question (technical)', 'question (technical)',\n",
       "       'question (technical)', 'question (technical)',\n",
       "       'question (technical)', 'question (technical)',\n",
       "       'question (technical)', 'question (technical)',\n",
       "       'question (technical)', 'question (purchasing)',\n",
       "       'question (technical)', 'question (technical)',\n",
       "       'question (technical)', 'question (technical)',\n",
       "       'question (technical)', 'question (purchasing)',\n",
       "       'question (technical)', 'question (purchasing)',\n",
       "       'question (purchasing)', 'question (technical)',\n",
       "       'question (technical)', 'question (technical)',\n",
       "       'question (technical)', 'question (technical)',\n",
       "       'question (technical)', 'question (technical)',\n",
       "       'question (technical)', 'question (technical)',\n",
       "       'question (operations)', 'question (purchasing)',\n",
       "       'question (technical)', 'question (technical)',\n",
       "       'question (technical)', 'question (technical)',\n",
       "       'question (technical)', 'question (technical)',\n",
       "       'question (technical)', 'dislike', 'question (technical)',\n",
       "       'question (operations)', 'question (technical)',\n",
       "       'question (technical)', 'question (technical)',\n",
       "       'question (operations)', 'question (technical)',\n",
       "       'question (technical)', 'question (operations)',\n",
       "       'question (technical)', 'question (technical)',\n",
       "       'question (technical)', 'question (purchasing)',\n",
       "       'question (technical)', 'question (technical)',\n",
       "       'question (technical)', 'question (technical)',\n",
       "       'question (purchasing)', 'question (technical)',\n",
       "       'question (purchasing)', 'question (technical)',\n",
       "       'question (technical)', 'question (technical)',\n",
       "       'question (technical)', 'question (technical)',\n",
       "       'question (purchasing)', 'question (technical)',\n",
       "       'question (purchasing)', 'question (technical)',\n",
       "       'question (technical)', 'question (technical)',\n",
       "       'question (purchasing)', 'question (technical)',\n",
       "       'question (technical)', 'question (technical)',\n",
       "       'question (technical)', 'question (technical)',\n",
       "       'question (technical)', 'question (technical)',\n",
       "       'question (technical)', 'question (technical)',\n",
       "       'question (technical)', 'question (technical)',\n",
       "       'question (technical)', 'like', 'question (technical)',\n",
       "       'question (technical)', 'question (technical)',\n",
       "       'question (technical)', 'question (purchasing)',\n",
       "       'question (purchasing)', 'question (technical)',\n",
       "       'question (technical)', 'question (technical)',\n",
       "       'question (technical)', 'question (technical)',\n",
       "       'question (technical)', 'question (technical)',\n",
       "       'question (technical)', 'question (purchasing)',\n",
       "       'question (purchasing)', 'question (purchasing)',\n",
       "       'question (technical)', 'question (technical)',\n",
       "       'question (technical)', 'question (technical)',\n",
       "       'question (technical)', 'question (technical)',\n",
       "       'question (technical)', 'question (technical)',\n",
       "       'question (purchasing)', 'question (technical)',\n",
       "       'question (purchasing)', 'question (technical)',\n",
       "       'question (operations)', 'question (technical)',\n",
       "       'question (technical)', 'question (technical)',\n",
       "       'question (purchasing)', 'question (purchasing)',\n",
       "       'question (operations)', 'question (technical)',\n",
       "       'question (technical)', 'question (operations)',\n",
       "       'question (technical)', 'question (technical)',\n",
       "       'question (technical)', 'question (purchasing)',\n",
       "       'question (purchasing)', 'question (technical)',\n",
       "       'question (purchasing)', 'question (purchasing)',\n",
       "       'question (technical)', 'question (technical)',\n",
       "       'question (technical)', 'question (technical)',\n",
       "       'question (technical)', 'question (technical)',\n",
       "       'question (purchasing)', 'question (technical)',\n",
       "       'question (technical)', 'question (technical)',\n",
       "       'question (technical)', 'question (purchasing)',\n",
       "       'question (technical)', 'question (purchasing)',\n",
       "       'question (purchasing)', 'question (technical)', 'dislike',\n",
       "       'question (technical)', 'question (technical)',\n",
       "       'question (technical)', 'question (technical)',\n",
       "       'question (technical)', 'question (technical)',\n",
       "       'question (technical)', 'question (technical)',\n",
       "       'question (technical)', 'question (technical)',\n",
       "       'question (technical)', 'question (purchasing)',\n",
       "       'question (technical)', 'question (technical)',\n",
       "       'question (technical)', 'question (purchasing)',\n",
       "       'question (operations)', 'question (technical)',\n",
       "       'question (technical)', 'question (purchasing)',\n",
       "       'question (technical)', 'question (technical)',\n",
       "       'question (technical)', 'question (technical)',\n",
       "       'question (technical)', 'question (technical)',\n",
       "       'question (technical)', 'question (technical)',\n",
       "       'question (purchasing)', 'question (technical)',\n",
       "       'question (technical)', 'question (technical)',\n",
       "       'question (technical)', 'question (technical)',\n",
       "       'question (technical)', 'question (technical)',\n",
       "       'question (technical)', 'question (technical)',\n",
       "       'question (operations)', 'dislike', 'question (technical)',\n",
       "       'question (technical)', 'question (technical)',\n",
       "       'question (technical)', 'question (technical)',\n",
       "       'question (technical)', 'question (technical)',\n",
       "       'question (technical)', 'question (technical)',\n",
       "       'question (technical)', 'question (purchasing)',\n",
       "       'question (technical)', 'question (purchasing)',\n",
       "       'question (technical)', 'question (technical)',\n",
       "       'question (purchasing)', 'question (technical)',\n",
       "       'question (technical)', 'question (technical)',\n",
       "       'question (operations)', 'question (operations)',\n",
       "       'question (purchasing)', 'question (purchasing)', 'like',\n",
       "       'question (purchasing)', 'question (technical)',\n",
       "       'question (technical)', 'question (technical)',\n",
       "       'question (operations)', 'question (technical)',\n",
       "       'question (technical)', 'question (technical)',\n",
       "       'question (operations)', 'dislike', 'dislike', 'dislike',\n",
       "       'question (purchasing)', 'question (operations)',\n",
       "       'question (purchasing)', 'question (purchasing)',\n",
       "       'question (operations)', 'question (technical)',\n",
       "       'question (technical)', 'question (technical)',\n",
       "       'question (technical)', 'question (operations)',\n",
       "       'question (technical)', 'question (technical)',\n",
       "       'question (technical)', 'question (operations)',\n",
       "       'question (purchasing)', 'question (technical)',\n",
       "       'question (technical)', 'question (technical)',\n",
       "       'question (technical)', 'question (technical)',\n",
       "       'question (technical)', 'question (technical)',\n",
       "       'question (operations)', 'question (technical)',\n",
       "       'question (technical)', 'question (purchasing)',\n",
       "       'question (purchasing)'], dtype=object)"
      ]
     },
     "execution_count": 181,
     "metadata": {},
     "output_type": "execute_result"
    }
   ],
   "source": [
    "tfidf_test2 = tfidf_vectorizer.transform(Xnew)\n",
    "tfidf_test2\n",
    "\n",
    "# Run predict on your count test data to get your predictions\n",
    "tfidf_svc_pred2 = tfidf_svc.predict(tfidf_test2)\n",
    "tfidf_svc_pred2"
   ]
  },
  {
   "cell_type": "code",
   "execution_count": 182,
   "metadata": {},
   "outputs": [
    {
     "data": {
      "text/html": [
       "<div>\n",
       "<style scoped>\n",
       "    .dataframe tbody tr th:only-of-type {\n",
       "        vertical-align: middle;\n",
       "    }\n",
       "\n",
       "    .dataframe tbody tr th {\n",
       "        vertical-align: top;\n",
       "    }\n",
       "\n",
       "    .dataframe thead th {\n",
       "        text-align: right;\n",
       "    }\n",
       "</style>\n",
       "<table border=\"1\" class=\"dataframe\">\n",
       "  <thead>\n",
       "    <tr style=\"text-align: right;\">\n",
       "      <th></th>\n",
       "      <th>counter</th>\n",
       "      <th>post date</th>\n",
       "      <th>model</th>\n",
       "      <th>family grandparent</th>\n",
       "      <th>source</th>\n",
       "      <th>label</th>\n",
       "      <th>number of likes</th>\n",
       "      <th>number of comments</th>\n",
       "      <th>title</th>\n",
       "      <th>content</th>\n",
       "      <th>link</th>\n",
       "      <th>content of comment</th>\n",
       "    </tr>\n",
       "  </thead>\n",
       "  <tbody>\n",
       "    <tr>\n",
       "      <th>0</th>\n",
       "      <td>1</td>\n",
       "      <td>2022-08-08</td>\n",
       "      <td>xps 13 plus 9320</td>\n",
       "      <td>Tributo ADL</td>\n",
       "      <td>dellxps - reddit</td>\n",
       "      <td>question (technical)</td>\n",
       "      <td>0</td>\n",
       "      <td>1</td>\n",
       "      <td>xps 13 plus charging</td>\n",
       "      <td>hello everyone finally got my laptop. its so g...</td>\n",
       "      <td>https://www.reddit.com/r/DellXPS/comments/wiuw...</td>\n",
       "      <td>(0 children)Just time it yourself and see who ...</td>\n",
       "    </tr>\n",
       "    <tr>\n",
       "      <th>1</th>\n",
       "      <td>2</td>\n",
       "      <td>2022-08-07</td>\n",
       "      <td>xps 13 plus 9320</td>\n",
       "      <td>Tributo ADL</td>\n",
       "      <td>dellxps - reddit</td>\n",
       "      <td>question (technical)</td>\n",
       "      <td>4</td>\n",
       "      <td>24</td>\n",
       "      <td>is dells qc actually that bad, or is it just t...</td>\n",
       "      <td>i just ordered my xps 13 plus 9320 for univers...</td>\n",
       "      <td>https://www.reddit.com/r/DellXPS/comments/wii7...</td>\n",
       "      <td>(6 children)The overwhelming majority of custo...</td>\n",
       "    </tr>\n",
       "    <tr>\n",
       "      <th>2</th>\n",
       "      <td>3</td>\n",
       "      <td>2022-08-07</td>\n",
       "      <td>xps 13 plus 9320</td>\n",
       "      <td>Tributo ADL</td>\n",
       "      <td>dellxps - reddit</td>\n",
       "      <td>question (purchasing)</td>\n",
       "      <td>1</td>\n",
       "      <td>4</td>\n",
       "      <td>what’s the best dock for my new xps 13 plus?</td>\n",
       "      <td>i ordered my xps 13 plus the other day, and ju...</td>\n",
       "      <td>https://www.reddit.com/r/DellXPS/comments/winy...</td>\n",
       "      <td>(2 children)a) Those are DisplayLink docks. Ge...</td>\n",
       "    </tr>\n",
       "    <tr>\n",
       "      <th>3</th>\n",
       "      <td>4</td>\n",
       "      <td>2022-08-07</td>\n",
       "      <td>xps 13 plus 9320</td>\n",
       "      <td>Tributo ADL</td>\n",
       "      <td>dellxps - reddit</td>\n",
       "      <td>question (technical)</td>\n",
       "      <td>1</td>\n",
       "      <td>0</td>\n",
       "      <td>dell xps 13 plus keyboard backlight strobing a...</td>\n",
       "      <td>so my dell xps 13 plus running ubuntu 22.04 ra...</td>\n",
       "      <td>https://www.reddit.com/r/DellXPS/comments/wi2y...</td>\n",
       "      <td>No comments</td>\n",
       "    </tr>\n",
       "    <tr>\n",
       "      <th>4</th>\n",
       "      <td>5</td>\n",
       "      <td>2022-08-06</td>\n",
       "      <td>xps 13 plus 9320</td>\n",
       "      <td>Tributo ADL</td>\n",
       "      <td>dellxps - reddit</td>\n",
       "      <td>question (purchasing)</td>\n",
       "      <td>2</td>\n",
       "      <td>1</td>\n",
       "      <td>is the xps 13 7390 a good option?im going into...</td>\n",
       "      <td>i had one until upgrading to an xps 13 plus. i...</td>\n",
       "      <td>https://www.reddit.com/r/DellXPS/comments/wi1o...</td>\n",
       "      <td>(0 children)I had one until upgrading to an xp...</td>\n",
       "    </tr>\n",
       "  </tbody>\n",
       "</table>\n",
       "</div>"
      ],
      "text/plain": [
       "   counter   post date             model family grandparent            source  \\\n",
       "0        1  2022-08-08  xps 13 plus 9320        Tributo ADL  dellxps - reddit   \n",
       "1        2  2022-08-07  xps 13 plus 9320        Tributo ADL  dellxps - reddit   \n",
       "2        3  2022-08-07  xps 13 plus 9320        Tributo ADL  dellxps - reddit   \n",
       "3        4  2022-08-07  xps 13 plus 9320        Tributo ADL  dellxps - reddit   \n",
       "4        5  2022-08-06  xps 13 plus 9320        Tributo ADL  dellxps - reddit   \n",
       "\n",
       "                   label  number of likes  number of comments  \\\n",
       "0   question (technical)                0                   1   \n",
       "1   question (technical)                4                  24   \n",
       "2  question (purchasing)                1                   4   \n",
       "3   question (technical)                1                   0   \n",
       "4  question (purchasing)                2                   1   \n",
       "\n",
       "                                               title  \\\n",
       "0                               xps 13 plus charging   \n",
       "1  is dells qc actually that bad, or is it just t...   \n",
       "2       what’s the best dock for my new xps 13 plus?   \n",
       "3  dell xps 13 plus keyboard backlight strobing a...   \n",
       "4  is the xps 13 7390 a good option?im going into...   \n",
       "\n",
       "                                             content  \\\n",
       "0  hello everyone finally got my laptop. its so g...   \n",
       "1  i just ordered my xps 13 plus 9320 for univers...   \n",
       "2  i ordered my xps 13 plus the other day, and ju...   \n",
       "3  so my dell xps 13 plus running ubuntu 22.04 ra...   \n",
       "4  i had one until upgrading to an xps 13 plus. i...   \n",
       "\n",
       "                                                link  \\\n",
       "0  https://www.reddit.com/r/DellXPS/comments/wiuw...   \n",
       "1  https://www.reddit.com/r/DellXPS/comments/wii7...   \n",
       "2  https://www.reddit.com/r/DellXPS/comments/winy...   \n",
       "3  https://www.reddit.com/r/DellXPS/comments/wi2y...   \n",
       "4  https://www.reddit.com/r/DellXPS/comments/wi1o...   \n",
       "\n",
       "                                  content of comment  \n",
       "0  (0 children)Just time it yourself and see who ...  \n",
       "1  (6 children)The overwhelming majority of custo...  \n",
       "2  (2 children)a) Those are DisplayLink docks. Ge...  \n",
       "3                                        No comments  \n",
       "4  (0 children)I had one until upgrading to an xp...  "
      ]
     },
     "execution_count": 182,
     "metadata": {},
     "output_type": "execute_result"
    }
   ],
   "source": [
    "df.insert(5,'label',tfidf_svc_pred2)\n",
    "df = df.drop('combined', axis =1)\n",
    "df.to_csv('reddit (label odm comment xps).csv', encoding='utf_8_sig', index=False)\n",
    "df.head()"
   ]
  },
  {
   "cell_type": "markdown",
   "metadata": {},
   "source": [
    "# Inspiron odm comment data"
   ]
  },
  {
   "cell_type": "code",
   "execution_count": 183,
   "metadata": {},
   "outputs": [],
   "source": [
    "import pandas as pd\n",
    "\n",
    "# Load data\n",
    "df = pd.read_csv('reddit (inspiron odm comment filtered).csv')\n",
    "\n",
    "df = df.dropna(axis=0)\n",
    "\n",
    "# combined only list\n",
    "df['combined'] = df['title'] + ' ' + df['content']\n",
    "\n",
    "Xnew = list(df['combined'])"
   ]
  },
  {
   "cell_type": "code",
   "execution_count": 184,
   "metadata": {},
   "outputs": [
    {
     "data": {
      "text/plain": [
       "array(['question (technical)', 'question (technical)',\n",
       "       'question (technical)', 'question (technical)',\n",
       "       'question (technical)', 'question (technical)',\n",
       "       'question (technical)', 'question (technical)',\n",
       "       'question (technical)', 'question (purchasing)',\n",
       "       'question (purchasing)', 'question (technical)',\n",
       "       'question (purchasing)', 'question (technical)',\n",
       "       'question (technical)', 'question (technical)',\n",
       "       'question (purchasing)', 'question (purchasing)',\n",
       "       'question (technical)', 'question (technical)',\n",
       "       'question (technical)', 'question (technical)'], dtype=object)"
      ]
     },
     "execution_count": 184,
     "metadata": {},
     "output_type": "execute_result"
    }
   ],
   "source": [
    "tfidf_test2 = tfidf_vectorizer.transform(Xnew)\n",
    "tfidf_test2\n",
    "\n",
    "# Run predict on your count test data to get your predictions\n",
    "tfidf_svc_pred2 = tfidf_svc.predict(tfidf_test2)\n",
    "tfidf_svc_pred2"
   ]
  },
  {
   "cell_type": "code",
   "execution_count": 185,
   "metadata": {},
   "outputs": [
    {
     "data": {
      "text/html": [
       "<div>\n",
       "<style scoped>\n",
       "    .dataframe tbody tr th:only-of-type {\n",
       "        vertical-align: middle;\n",
       "    }\n",
       "\n",
       "    .dataframe tbody tr th {\n",
       "        vertical-align: top;\n",
       "    }\n",
       "\n",
       "    .dataframe thead th {\n",
       "        text-align: right;\n",
       "    }\n",
       "</style>\n",
       "<table border=\"1\" class=\"dataframe\">\n",
       "  <thead>\n",
       "    <tr style=\"text-align: right;\">\n",
       "      <th></th>\n",
       "      <th>counter</th>\n",
       "      <th>post date</th>\n",
       "      <th>model</th>\n",
       "      <th>family grandparent</th>\n",
       "      <th>source</th>\n",
       "      <th>label</th>\n",
       "      <th>number of likes</th>\n",
       "      <th>number of comments</th>\n",
       "      <th>title</th>\n",
       "      <th>content</th>\n",
       "      <th>link</th>\n",
       "      <th>content of comment</th>\n",
       "    </tr>\n",
       "  </thead>\n",
       "  <tbody>\n",
       "    <tr>\n",
       "      <th>0</th>\n",
       "      <td>1</td>\n",
       "      <td>2022-08-04</td>\n",
       "      <td>inspiron 14 5420</td>\n",
       "      <td>Odin N5 14 ADL</td>\n",
       "      <td>inspiron (dell) - reddit</td>\n",
       "      <td>question (technical)</td>\n",
       "      <td>1.0</td>\n",
       "      <td>0.0</td>\n",
       "      <td>inspiron 14 vs xps 13 for use with external</td>\n",
       "      <td>my partner has a desktop with three monitors. ...</td>\n",
       "      <td>https://www.reddit.com/r/Dell/comments/wfxclf/...</td>\n",
       "      <td>No comments</td>\n",
       "    </tr>\n",
       "    <tr>\n",
       "      <th>1</th>\n",
       "      <td>2</td>\n",
       "      <td>2022-07-31</td>\n",
       "      <td>inspiron 16 plus 7620</td>\n",
       "      <td>Odin N 16 ADL-H</td>\n",
       "      <td>inspiron (dell) - reddit</td>\n",
       "      <td>question (technical)</td>\n",
       "      <td>3.0</td>\n",
       "      <td>6.0</td>\n",
       "      <td>inspiron 16 plus 7620 battery draining like a</td>\n",
       "      <td>hey all, had my new inspiron 16 plus 7620 a we...</td>\n",
       "      <td>https://www.reddit.com/r/Dell/comments/wcf3xp/...</td>\n",
       "      <td>(1 child)I'm also finding battery life unpredi...</td>\n",
       "    </tr>\n",
       "    <tr>\n",
       "      <th>2</th>\n",
       "      <td>3</td>\n",
       "      <td>2022-07-30</td>\n",
       "      <td>inspiron 16 plus 7620</td>\n",
       "      <td>Odin N 16 ADL-H</td>\n",
       "      <td>inspiron (dell) - reddit</td>\n",
       "      <td>question (technical)</td>\n",
       "      <td>3.0</td>\n",
       "      <td>2.0</td>\n",
       "      <td>dell inspiron 16 plus 7620 bad audio problem with</td>\n",
       "      <td>hello, i recently bought a brand new dell insp...</td>\n",
       "      <td>https://www.reddit.com/r/Dell/comments/wbsdnz/...</td>\n",
       "      <td>(1 child)Just for you, I dug out a pair of Sku...</td>\n",
       "    </tr>\n",
       "    <tr>\n",
       "      <th>3</th>\n",
       "      <td>4</td>\n",
       "      <td>2022-07-26</td>\n",
       "      <td>inspiron 16 plus 7620</td>\n",
       "      <td>Odin N 16 ADL-H</td>\n",
       "      <td>inspiron (dell) - reddit</td>\n",
       "      <td>question (technical)</td>\n",
       "      <td>1.0</td>\n",
       "      <td>6.0</td>\n",
       "      <td>bought an inspiron 7620; need ram</td>\n",
       "      <td>i just bought an inspiron 7620 an am so far ex...</td>\n",
       "      <td>https://www.reddit.com/r/Dell/comments/w88xlc/...</td>\n",
       "      <td>(4 children)If it maxes at 32, probs can’t go ...</td>\n",
       "    </tr>\n",
       "    <tr>\n",
       "      <th>4</th>\n",
       "      <td>5</td>\n",
       "      <td>2022-07-23</td>\n",
       "      <td>inspiron 16 plus 7620</td>\n",
       "      <td>Odin N 16 ADL-H</td>\n",
       "      <td>inspiron (dell) - reddit</td>\n",
       "      <td>question (technical)</td>\n",
       "      <td>0.0</td>\n",
       "      <td>4.0</td>\n",
       "      <td>inspiron 16 plus 7620 - overheating in sleep</td>\n",
       "      <td>hi, just received my new laptop. nice design a...</td>\n",
       "      <td>https://www.reddit.com/r/Dell/comments/w5qk65/...</td>\n",
       "      <td>(0 children)I have the new 7620 2 in 1. Same i...</td>\n",
       "    </tr>\n",
       "  </tbody>\n",
       "</table>\n",
       "</div>"
      ],
      "text/plain": [
       "   counter   post date                  model family grandparent  \\\n",
       "0        1  2022-08-04       inspiron 14 5420     Odin N5 14 ADL   \n",
       "1        2  2022-07-31  inspiron 16 plus 7620    Odin N 16 ADL-H   \n",
       "2        3  2022-07-30  inspiron 16 plus 7620    Odin N 16 ADL-H   \n",
       "3        4  2022-07-26  inspiron 16 plus 7620    Odin N 16 ADL-H   \n",
       "4        5  2022-07-23  inspiron 16 plus 7620    Odin N 16 ADL-H   \n",
       "\n",
       "                     source                 label  number of likes  \\\n",
       "0  inspiron (dell) - reddit  question (technical)              1.0   \n",
       "1  inspiron (dell) - reddit  question (technical)              3.0   \n",
       "2  inspiron (dell) - reddit  question (technical)              3.0   \n",
       "3  inspiron (dell) - reddit  question (technical)              1.0   \n",
       "4  inspiron (dell) - reddit  question (technical)              0.0   \n",
       "\n",
       "   number of comments                                              title  \\\n",
       "0                 0.0        inspiron 14 vs xps 13 for use with external   \n",
       "1                 6.0      inspiron 16 plus 7620 battery draining like a   \n",
       "2                 2.0  dell inspiron 16 plus 7620 bad audio problem with   \n",
       "3                 6.0                  bought an inspiron 7620; need ram   \n",
       "4                 4.0       inspiron 16 plus 7620 - overheating in sleep   \n",
       "\n",
       "                                             content  \\\n",
       "0  my partner has a desktop with three monitors. ...   \n",
       "1  hey all, had my new inspiron 16 plus 7620 a we...   \n",
       "2  hello, i recently bought a brand new dell insp...   \n",
       "3  i just bought an inspiron 7620 an am so far ex...   \n",
       "4  hi, just received my new laptop. nice design a...   \n",
       "\n",
       "                                                link  \\\n",
       "0  https://www.reddit.com/r/Dell/comments/wfxclf/...   \n",
       "1  https://www.reddit.com/r/Dell/comments/wcf3xp/...   \n",
       "2  https://www.reddit.com/r/Dell/comments/wbsdnz/...   \n",
       "3  https://www.reddit.com/r/Dell/comments/w88xlc/...   \n",
       "4  https://www.reddit.com/r/Dell/comments/w5qk65/...   \n",
       "\n",
       "                                  content of comment  \n",
       "0                                        No comments  \n",
       "1  (1 child)I'm also finding battery life unpredi...  \n",
       "2  (1 child)Just for you, I dug out a pair of Sku...  \n",
       "3  (4 children)If it maxes at 32, probs can’t go ...  \n",
       "4  (0 children)I have the new 7620 2 in 1. Same i...  "
      ]
     },
     "execution_count": 185,
     "metadata": {},
     "output_type": "execute_result"
    }
   ],
   "source": [
    "df.insert(5,'label',tfidf_svc_pred2)\n",
    "df = df.drop('combined', axis =1)\n",
    "df.to_csv('reddit (label odm comment inspiron).csv', encoding='utf_8_sig', index=False)\n",
    "df.head()"
   ]
  },
  {
   "cell_type": "markdown",
   "metadata": {},
   "source": [
    "# Vostro odm comment data"
   ]
  },
  {
   "cell_type": "code",
   "execution_count": 186,
   "metadata": {},
   "outputs": [],
   "source": [
    "import pandas as pd\n",
    "\n",
    "# Load data\n",
    "df = pd.read_csv('reddit (vostro odm comment filtered).csv')\n",
    "\n",
    "df = df.dropna(axis=0)\n",
    "\n",
    "# combined only list\n",
    "df['combined'] = df['title'] + ' ' + df['content']\n",
    "\n",
    "Xnew = list(df['combined'])"
   ]
  },
  {
   "cell_type": "code",
   "execution_count": 187,
   "metadata": {},
   "outputs": [
    {
     "data": {
      "text/plain": [
       "array(['question (technical)', 'question (technical)',\n",
       "       'question (technical)'], dtype=object)"
      ]
     },
     "execution_count": 187,
     "metadata": {},
     "output_type": "execute_result"
    }
   ],
   "source": [
    "tfidf_test2 = tfidf_vectorizer.transform(Xnew)\n",
    "tfidf_test2\n",
    "\n",
    "# Run predict on your count test data to get your predictions\n",
    "tfidf_svc_pred2 = tfidf_svc.predict(tfidf_test2)\n",
    "tfidf_svc_pred2"
   ]
  },
  {
   "cell_type": "code",
   "execution_count": 188,
   "metadata": {},
   "outputs": [
    {
     "data": {
      "text/html": [
       "<div>\n",
       "<style scoped>\n",
       "    .dataframe tbody tr th:only-of-type {\n",
       "        vertical-align: middle;\n",
       "    }\n",
       "\n",
       "    .dataframe tbody tr th {\n",
       "        vertical-align: top;\n",
       "    }\n",
       "\n",
       "    .dataframe thead th {\n",
       "        text-align: right;\n",
       "    }\n",
       "</style>\n",
       "<table border=\"1\" class=\"dataframe\">\n",
       "  <thead>\n",
       "    <tr style=\"text-align: right;\">\n",
       "      <th></th>\n",
       "      <th>counter</th>\n",
       "      <th>post date</th>\n",
       "      <th>model</th>\n",
       "      <th>family grandparent</th>\n",
       "      <th>source</th>\n",
       "      <th>label</th>\n",
       "      <th>number of likes</th>\n",
       "      <th>number of comments</th>\n",
       "      <th>title</th>\n",
       "      <th>content</th>\n",
       "      <th>link</th>\n",
       "      <th>content of comment</th>\n",
       "    </tr>\n",
       "  </thead>\n",
       "  <tbody>\n",
       "    <tr>\n",
       "      <th>0</th>\n",
       "      <td>1</td>\n",
       "      <td>2022-07-07</td>\n",
       "      <td>vostro 5620</td>\n",
       "      <td>Odin V5 16 ADL</td>\n",
       "      <td>vostro (dell) - reddit</td>\n",
       "      <td>question (technical)</td>\n",
       "      <td>1</td>\n",
       "      <td>0</td>\n",
       "      <td>dell vostro 5620, windows 11 stuck at 48fps, b...</td>\n",
       "      <td>model: dell vostro 5620 cpu: i7-1260p gpu: iri...</td>\n",
       "      <td>https://www.reddit.com/r/Dell/comments/vtkb2j/...</td>\n",
       "      <td>No comments</td>\n",
       "    </tr>\n",
       "    <tr>\n",
       "      <th>1</th>\n",
       "      <td>2</td>\n",
       "      <td>2022-05-28</td>\n",
       "      <td>vostro 5620</td>\n",
       "      <td>Odin V5 16 ADL</td>\n",
       "      <td>vostro (dell) - reddit</td>\n",
       "      <td>question (technical)</td>\n",
       "      <td>1</td>\n",
       "      <td>6</td>\n",
       "      <td>vostro 5620 throttling at low</td>\n",
       "      <td>hey, just got a 5620 with an i7-1260p, i don't...</td>\n",
       "      <td>https://www.reddit.com/r/Dell/comments/uzqdtv/...</td>\n",
       "      <td>(4 children)Looking at the photos for the 5620...</td>\n",
       "    </tr>\n",
       "    <tr>\n",
       "      <th>2</th>\n",
       "      <td>3</td>\n",
       "      <td>2022-05-24</td>\n",
       "      <td>vostro 5320</td>\n",
       "      <td>Odin 13 V ADL</td>\n",
       "      <td>vostro (dell) - reddit</td>\n",
       "      <td>question (technical)</td>\n",
       "      <td>5</td>\n",
       "      <td>13</td>\n",
       "      <td>is the new inspiron 14\" with an i7-1255u good ...</td>\n",
       "      <td>howdy all! i am looking forward to buying a ne...</td>\n",
       "      <td>https://www.reddit.com/r/Dell/comments/uwmymc/...</td>\n",
       "      <td>(1 child)I have the inspiron 14 with the ryzen...</td>\n",
       "    </tr>\n",
       "  </tbody>\n",
       "</table>\n",
       "</div>"
      ],
      "text/plain": [
       "   counter   post date        model family grandparent  \\\n",
       "0        1  2022-07-07  vostro 5620     Odin V5 16 ADL   \n",
       "1        2  2022-05-28  vostro 5620     Odin V5 16 ADL   \n",
       "2        3  2022-05-24  vostro 5320      Odin 13 V ADL   \n",
       "\n",
       "                   source                 label  number of likes  \\\n",
       "0  vostro (dell) - reddit  question (technical)                1   \n",
       "1  vostro (dell) - reddit  question (technical)                1   \n",
       "2  vostro (dell) - reddit  question (technical)                5   \n",
       "\n",
       "   number of comments                                              title  \\\n",
       "0                   0  dell vostro 5620, windows 11 stuck at 48fps, b...   \n",
       "1                   6                      vostro 5620 throttling at low   \n",
       "2                  13  is the new inspiron 14\" with an i7-1255u good ...   \n",
       "\n",
       "                                             content  \\\n",
       "0  model: dell vostro 5620 cpu: i7-1260p gpu: iri...   \n",
       "1  hey, just got a 5620 with an i7-1260p, i don't...   \n",
       "2  howdy all! i am looking forward to buying a ne...   \n",
       "\n",
       "                                                link  \\\n",
       "0  https://www.reddit.com/r/Dell/comments/vtkb2j/...   \n",
       "1  https://www.reddit.com/r/Dell/comments/uzqdtv/...   \n",
       "2  https://www.reddit.com/r/Dell/comments/uwmymc/...   \n",
       "\n",
       "                                  content of comment  \n",
       "0                                        No comments  \n",
       "1  (4 children)Looking at the photos for the 5620...  \n",
       "2  (1 child)I have the inspiron 14 with the ryzen...  "
      ]
     },
     "execution_count": 188,
     "metadata": {},
     "output_type": "execute_result"
    }
   ],
   "source": [
    "df.insert(5,'label',tfidf_svc_pred2)\n",
    "df = df.drop('combined', axis =1)\n",
    "df.to_csv('reddit (label odm comment vostro).csv', encoding='utf_8_sig', index=False)\n",
    "df.head()"
   ]
  },
  {
   "cell_type": "code",
   "execution_count": null,
   "metadata": {},
   "outputs": [],
   "source": []
  }
 ],
 "metadata": {
  "kernelspec": {
   "display_name": "Python 3",
   "language": "python",
   "name": "python3"
  },
  "language_info": {
   "codemirror_mode": {
    "name": "ipython",
    "version": 3
   },
   "file_extension": ".py",
   "mimetype": "text/x-python",
   "name": "python",
   "nbconvert_exporter": "python",
   "pygments_lexer": "ipython3",
   "version": "3.7.1"
  }
 },
 "nbformat": 4,
 "nbformat_minor": 5
}
