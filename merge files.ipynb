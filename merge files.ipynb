{
 "cells": [
  {
   "cell_type": "code",
   "execution_count": 1,
   "metadata": {},
   "outputs": [],
   "source": [
    "import requests\n",
    "import pandas as pd\n",
    "import numpy as np\n",
    "import re\n",
    "import sys\n",
    "from fake_useragent import UserAgent\n",
    "import csv\n",
    "import os\n",
    "import time\n",
    "import bs4 "
   ]
  },
  {
   "cell_type": "markdown",
   "metadata": {},
   "source": [
    "# AQE compile files after scraping data for all platforms"
   ]
  },
  {
   "cell_type": "markdown",
   "metadata": {},
   "source": [
    "## XPS"
   ]
  },
  {
   "cell_type": "code",
   "execution_count": 4,
   "metadata": {},
   "outputs": [],
   "source": [
    "import packaging.version\n",
    "import pandas\n",
    "import pandas.io.formats.excel\n",
    "\n",
    "df1 = pd.read_csv('reddit (xps filtered).csv')\n",
    "df1['post date']=pd.to_datetime(df1['post date'])\n",
    "\n",
    "df2 = pd.read_csv('dell.community (xps filtered).csv')\n",
    "df2['post date']=pd.to_datetime(df2['post date'])\n",
    "\n",
    "df3 = pd.read_csv('youtube (xps filtered).csv')\n",
    "df3['post date']=pd.to_datetime(df3['post date'])\n",
    "\n",
    "with pd.ExcelWriter('social media data (xps).xlsx', options={'strings_to_urls': False}, datetime_format='mm/dd/yyyy') as writer:\n",
    "    pd.io.formats.excel.ExcelFormatter.header_style = None\n",
    "    workbook  = writer.book\n",
    "    header_fmt = workbook.add_format({'bold': True})\n",
    "    df1.to_excel(writer, sheet_name='reddit (xps)', index = False)\n",
    "    df2.to_excel(writer, sheet_name='dell.com (xps)', index = False)\n",
    "    df3.to_excel(writer, sheet_name='youtube (xps)', index = False)\n",
    "    \n",
    "    worksheet1 = writer.sheets['reddit (xps)']\n",
    "    worksheet1.autofilter(0, 0, df1.shape[0], df1.shape[1]-1)\n",
    "    worksheet2 = writer.sheets['dell.com (xps)']\n",
    "    worksheet2.autofilter(0, 0, df2.shape[0], df2.shape[1]-1)\n",
    "    worksheet3 = writer.sheets['youtube (xps)']\n",
    "    worksheet3.autofilter(0, 0, df3.shape[0], df3.shape[1]-1)\n"
   ]
  },
  {
   "cell_type": "markdown",
   "metadata": {},
   "source": [
    "## Alienware"
   ]
  },
  {
   "cell_type": "code",
   "execution_count": 5,
   "metadata": {},
   "outputs": [],
   "source": [
    "df1 = pd.read_csv('reddit (alienware filtered).csv')\n",
    "df1['post date']=pd.to_datetime(df1['post date'])\n",
    "\n",
    "df2 = pd.read_csv('dell.community (alienware filtered).csv')\n",
    "df2['post date']=pd.to_datetime(df2['post date'])\n",
    "\n",
    "df3 = pd.read_csv('youtube (alienware filtered).csv')\n",
    "df3['post date']=pd.to_datetime(df3['post date'])\n",
    "\n",
    "with pd.ExcelWriter('social media data (alienware).xlsx', options={'strings_to_urls': False}, datetime_format='mm/dd/yyyy') as writer:\n",
    "    pd.io.formats.excel.ExcelFormatter.header_style = None\n",
    "    workbook  = writer.book\n",
    "    header_fmt = workbook.add_format({'bold': True})\n",
    "    df1.to_excel(writer, sheet_name='reddit (alienware)', index = False)\n",
    "    df2.to_excel(writer, sheet_name='dell.com (alienware)', index = False)\n",
    "    df3.to_excel(writer, sheet_name='youtube (alienware)', index = False)\n",
    "    \n",
    "    worksheet1 = writer.sheets['reddit (alienware)']\n",
    "    worksheet1.autofilter(0, 0, df1.shape[0], df1.shape[1]-1)\n",
    "    worksheet2 = writer.sheets['dell.com (alienware)']\n",
    "    worksheet2.autofilter(0, 0, df2.shape[0], df2.shape[1]-1)\n",
    "    worksheet3 = writer.sheets['youtube (alienware)']\n",
    "    worksheet3.autofilter(0, 0, df3.shape[0], df3.shape[1]-1)\n"
   ]
  },
  {
   "cell_type": "markdown",
   "metadata": {},
   "source": [
    "## Dell G15"
   ]
  },
  {
   "cell_type": "code",
   "execution_count": 6,
   "metadata": {},
   "outputs": [],
   "source": [
    "df1 = pd.read_csv('reddit (dellg15 filtered).csv')\n",
    "df1['post date']=pd.to_datetime(df1['post date'])\n",
    "\n",
    "df2 = pd.read_csv('dell.community (dellg15 filtered).csv')\n",
    "df2['post date']=pd.to_datetime(df2['post date'])\n",
    "\n",
    "df3 = pd.read_csv('youtube (dellg15 filtered).csv')\n",
    "df3['post date']=pd.to_datetime(df3['post date'])\n",
    "\n",
    "with pd.ExcelWriter('social media data (dellg15).xlsx', options={'strings_to_urls': False}, datetime_format='mm/dd/yyyy') as writer:\n",
    "    pd.io.formats.excel.ExcelFormatter.header_style = None\n",
    "    workbook  = writer.book\n",
    "    header_fmt = workbook.add_format({'bold': True})\n",
    "    df1.to_excel(writer, sheet_name='reddit (dellg15)', index = False)\n",
    "    df2.to_excel(writer, sheet_name='dell.com (dellg15)', index = False)\n",
    "    df3.to_excel(writer, sheet_name='youtube (dellg15)', index = False)\n",
    "    \n",
    "    worksheet1 = writer.sheets['reddit (dellg15)']\n",
    "    worksheet1.autofilter(0, 0, df1.shape[0], df1.shape[1])\n",
    "    worksheet2 = writer.sheets['dell.com (dellg15)']\n",
    "    worksheet2.autofilter(0, 0, df2.shape[0], df2.shape[1]-1)\n",
    "    worksheet3 = writer.sheets['youtube (dellg15)']\n",
    "    worksheet3.autofilter(0, 0, df3.shape[0], df3.shape[1]-1)\n"
   ]
  },
  {
   "cell_type": "markdown",
   "metadata": {},
   "source": [
    "## Inspiron"
   ]
  },
  {
   "cell_type": "code",
   "execution_count": 7,
   "metadata": {},
   "outputs": [],
   "source": [
    "df1 = pd.read_csv('reddit (inspiron filtered).csv')\n",
    "df1['post date']=pd.to_datetime(df1['post date'])\n",
    "\n",
    "df2 = pd.read_csv('dell.community (inspiron filtered).csv')\n",
    "df2['post date']=pd.to_datetime(df2['post date'])\n",
    "\n",
    "df3 = pd.read_csv('youtube (inspiron filtered).csv')\n",
    "df3['post date']=pd.to_datetime(df3['post date'])\n",
    "\n",
    "with pd.ExcelWriter('social media data (inspiron).xlsx', options={'strings_to_urls': False}, datetime_format='mm/dd/yyyy') as writer:\n",
    "    pd.io.formats.excel.ExcelFormatter.header_style = None\n",
    "    workbook  = writer.book\n",
    "    header_fmt = workbook.add_format({'bold': True})\n",
    "    df1.to_excel(writer, sheet_name='reddit (inspiron)', index = False)\n",
    "    df2.to_excel(writer, sheet_name='dell.com (inspiron)', index = False)\n",
    "    df3.to_excel(writer, sheet_name='youtube (inspiron)', index = False)\n",
    "    \n",
    "    worksheet1 = writer.sheets['reddit (inspiron)']\n",
    "    worksheet1.autofilter(0, 0, df1.shape[0], df1.shape[1])\n",
    "    worksheet2 = writer.sheets['dell.com (inspiron)']\n",
    "    worksheet2.autofilter(0, 0, df2.shape[0], df2.shape[1]-1)\n",
    "    worksheet3 = writer.sheets['youtube (inspiron)']\n",
    "    worksheet3.autofilter(0, 0, df3.shape[0], df3.shape[1]-1)\n"
   ]
  },
  {
   "cell_type": "markdown",
   "metadata": {},
   "source": [
    "## Vostro"
   ]
  },
  {
   "cell_type": "code",
   "execution_count": 8,
   "metadata": {},
   "outputs": [],
   "source": [
    "df1 = pd.read_csv('reddit (vostro filtered).csv')\n",
    "df1['post date']=pd.to_datetime(df1['post date'])\n",
    "\n",
    "df2 = pd.read_csv('dell.community (vostro filtered).csv')\n",
    "df2['post date']=pd.to_datetime(df2['post date'])\n",
    "\n",
    "df3 = pd.read_csv('youtube (vostro filtered).csv')\n",
    "df3['post date']=pd.to_datetime(df3['post date'])\n",
    "\n",
    "with pd.ExcelWriter('social media data (vostro).xlsx', options={'strings_to_urls': False}, datetime_format='mm/dd/yyyy') as writer:\n",
    "    pd.io.formats.excel.ExcelFormatter.header_style = None\n",
    "    workbook  = writer.book\n",
    "    header_fmt = workbook.add_format({'bold': True})\n",
    "    df1.to_excel(writer, sheet_name='reddit (vostro)', index = False)\n",
    "    df2.to_excel(writer, sheet_name='dell.com (vostro)', index = False)\n",
    "    df3.to_excel(writer, sheet_name='youtube (vostro)', index = False)\n",
    "    \n",
    "    worksheet1 = writer.sheets['reddit (vostro)']\n",
    "    worksheet1.autofilter(0, 0, df1.shape[0], df1.shape[1])\n",
    "    worksheet2 = writer.sheets['dell.com (vostro)']\n",
    "    worksheet2.autofilter(0, 0, df2.shape[0], df2.shape[1]-1)\n",
    "    worksheet3 = writer.sheets['youtube (vostro)']\n",
    "    worksheet3.autofilter(0, 0, df3.shape[0], df3.shape[1]-1)\n"
   ]
  },
  {
   "cell_type": "markdown",
   "metadata": {},
   "source": [
    "# ML classification "
   ]
  },
  {
   "cell_type": "markdown",
   "metadata": {},
   "source": [
    "# odm"
   ]
  },
  {
   "cell_type": "markdown",
   "metadata": {},
   "source": [
    "## XPS odm (comment) prediction"
   ]
  },
  {
   "cell_type": "code",
   "execution_count": 2,
   "metadata": {},
   "outputs": [
    {
     "name": "stderr",
     "output_type": "stream",
     "text": [
      "C:\\Users\\Ian_Lin1\\AppData\\Local\\Temp/ipykernel_23168/2402488672.py:10: FutureWarning: Use of **kwargs is deprecated, use engine_kwargs instead.\n",
      "  with pd.ExcelWriter('social media (xps comments) prediction.xlsx', options={'strings_to_urls': False}, datetime_format='mm/dd/yyyy') as writer:\n"
     ]
    }
   ],
   "source": [
    "df1 = pd.read_csv('reddit (label odm comment xps).csv')\n",
    "df1['post date']=pd.to_datetime(df1['post date'])\n",
    "\n",
    "df2 = pd.read_csv('dell.community (xps odm filtered).csv')\n",
    "df2['post date']=pd.to_datetime(df2['post date'])\n",
    "\n",
    "df3 = pd.read_csv('youtube (xps odm filtered).csv')\n",
    "df3['post date']=pd.to_datetime(df3['post date'])\n",
    "\n",
    "with pd.ExcelWriter('social media (xps comments) prediction.xlsx', options={'strings_to_urls': False}, datetime_format='mm/dd/yyyy') as writer:\n",
    "    pd.io.formats.excel.ExcelFormatter.header_style = None\n",
    "    workbook  = writer.book\n",
    "    header_fmt = workbook.add_format({'bold': True})\n",
    "    df1.to_excel(writer, sheet_name='reddit (xps)', index = False)\n",
    "    df2.to_excel(writer, sheet_name='dell.com (xps)', index = False)\n",
    "    df3.to_excel(writer, sheet_name='youtube (xps)', index = False)\n",
    "    \n",
    "    worksheet1 = writer.sheets['reddit (xps)']\n",
    "    worksheet1.autofilter(0, 0, df1.shape[0], df1.shape[1]-1)\n",
    "    worksheet2 = writer.sheets['dell.com (xps)']\n",
    "    worksheet2.autofilter(0, 0, df2.shape[0], df2.shape[1]-1)\n",
    "    worksheet3 = writer.sheets['youtube (xps)']\n",
    "    worksheet3.autofilter(0, 0, df3.shape[0], df3.shape[1]-1)\n"
   ]
  },
  {
   "cell_type": "markdown",
   "metadata": {},
   "source": [
    "## XPS odm prediction "
   ]
  },
  {
   "cell_type": "code",
   "execution_count": 3,
   "metadata": {},
   "outputs": [
    {
     "name": "stderr",
     "output_type": "stream",
     "text": [
      "C:\\Users\\Ian_Lin1\\AppData\\Local\\Temp/ipykernel_23168/1952830199.py:10: FutureWarning: Use of **kwargs is deprecated, use engine_kwargs instead.\n",
      "  with pd.ExcelWriter('social media (xps) prediction.xlsx', options={'strings_to_urls': False}, datetime_format='mm/dd/yyyy') as writer:\n"
     ]
    }
   ],
   "source": [
    "df1 = pd.read_csv('reddit (label odm xps).csv')\n",
    "df1['post date']=pd.to_datetime(df1['post date'])\n",
    "\n",
    "df2 = pd.read_csv('dell.community (xps odm filtered).csv')\n",
    "df2['post date']=pd.to_datetime(df2['post date'])\n",
    "\n",
    "df3 = pd.read_csv('youtube (xps odm filtered).csv')\n",
    "df3['post date']=pd.to_datetime(df3['post date'])\n",
    "\n",
    "with pd.ExcelWriter('social media (xps) prediction.xlsx', options={'strings_to_urls': False}, datetime_format='mm/dd/yyyy') as writer:\n",
    "    pd.io.formats.excel.ExcelFormatter.header_style = None\n",
    "    workbook  = writer.book\n",
    "    header_fmt = workbook.add_format({'bold': True})\n",
    "    df1.to_excel(writer, sheet_name='reddit (xps)', index = False)\n",
    "    df2.to_excel(writer, sheet_name='dell.com (xps)', index = False)\n",
    "    df3.to_excel(writer, sheet_name='youtube (xps)', index = False)\n",
    "    \n",
    "    worksheet1 = writer.sheets['reddit (xps)']\n",
    "    worksheet1.autofilter(0, 0, df1.shape[0], df1.shape[1]-1)\n",
    "    worksheet2 = writer.sheets['dell.com (xps)']\n",
    "    worksheet2.autofilter(0, 0, df2.shape[0], df2.shape[1]-1)\n",
    "    worksheet3 = writer.sheets['youtube (xps)']\n",
    "    worksheet3.autofilter(0, 0, df3.shape[0], df3.shape[1]-1)"
   ]
  },
  {
   "cell_type": "markdown",
   "metadata": {},
   "source": [
    "## Inspiron odm (comment) prediction "
   ]
  },
  {
   "cell_type": "code",
   "execution_count": 4,
   "metadata": {},
   "outputs": [
    {
     "name": "stderr",
     "output_type": "stream",
     "text": [
      "C:\\Users\\Ian_Lin1\\AppData\\Local\\Temp/ipykernel_23168/851951262.py:10: FutureWarning: Use of **kwargs is deprecated, use engine_kwargs instead.\n",
      "  with pd.ExcelWriter('social media (inspiron comments) prediction.xlsx', options={'strings_to_urls': False}, datetime_format='mm/dd/yyyy') as writer:\n"
     ]
    }
   ],
   "source": [
    "df1 = pd.read_csv('reddit (label odm comment inspiron).csv')\n",
    "df1['post date']=pd.to_datetime(df1['post date'])\n",
    "\n",
    "df2 = pd.read_csv('dell.community (inspiron odm filtered).csv')\n",
    "df2['post date']=pd.to_datetime(df2['post date'])\n",
    "\n",
    "df3 = pd.read_csv('youtube (inspiron odm filtered).csv')\n",
    "df3['post date']=pd.to_datetime(df3['post date'])\n",
    "\n",
    "with pd.ExcelWriter('social media (inspiron comments) prediction.xlsx', options={'strings_to_urls': False}, datetime_format='mm/dd/yyyy') as writer:\n",
    "    pd.io.formats.excel.ExcelFormatter.header_style = None\n",
    "    workbook  = writer.book\n",
    "    header_fmt = workbook.add_format({'bold': True})\n",
    "    df1.to_excel(writer, sheet_name='reddit (inspiron)', index = False)\n",
    "    df2.to_excel(writer, sheet_name='dell.com (inspiron)', index = False)\n",
    "    df3.to_excel(writer, sheet_name='youtube (inspiron)', index = False)\n",
    "    \n",
    "    worksheet1 = writer.sheets['reddit (inspiron)']\n",
    "    worksheet1.autofilter(0, 0, df1.shape[0], df1.shape[1]-1)\n",
    "    worksheet2 = writer.sheets['dell.com (inspiron)']\n",
    "    worksheet2.autofilter(0, 0, df2.shape[0], df2.shape[1]-1)\n",
    "    worksheet3 = writer.sheets['youtube (inspiron)']\n",
    "    worksheet3.autofilter(0, 0, df3.shape[0], df3.shape[1]-1)\n"
   ]
  },
  {
   "cell_type": "markdown",
   "metadata": {},
   "source": [
    "## Inspiron odm prediction"
   ]
  },
  {
   "cell_type": "code",
   "execution_count": 5,
   "metadata": {},
   "outputs": [
    {
     "name": "stderr",
     "output_type": "stream",
     "text": [
      "C:\\Users\\Ian_Lin1\\AppData\\Local\\Temp/ipykernel_23168/108977216.py:10: FutureWarning: Use of **kwargs is deprecated, use engine_kwargs instead.\n",
      "  with pd.ExcelWriter('social media (inspiron) prediction.xlsx', options={'strings_to_urls': False}, datetime_format='mm/dd/yyyy') as writer:\n"
     ]
    }
   ],
   "source": [
    "df1 = pd.read_csv('reddit (label odm inspiron).csv')\n",
    "df1['post date']=pd.to_datetime(df1['post date'])\n",
    "\n",
    "df2 = pd.read_csv('dell.community (inspiron odm filtered).csv')\n",
    "df2['post date']=pd.to_datetime(df2['post date'])\n",
    "\n",
    "df3 = pd.read_csv('youtube (inspiron odm filtered).csv')\n",
    "df3['post date']=pd.to_datetime(df3['post date'])\n",
    "\n",
    "with pd.ExcelWriter('social media (inspiron) prediction.xlsx', options={'strings_to_urls': False}, datetime_format='mm/dd/yyyy') as writer:\n",
    "    pd.io.formats.excel.ExcelFormatter.header_style = None\n",
    "    workbook  = writer.book\n",
    "    header_fmt = workbook.add_format({'bold': True})\n",
    "    df1.to_excel(writer, sheet_name='reddit (inspiron)', index = False)\n",
    "    df2.to_excel(writer, sheet_name='dell.com (inspiron)', index = False)\n",
    "    df3.to_excel(writer, sheet_name='youtube (inspiron)', index = False)\n",
    "    \n",
    "    worksheet1 = writer.sheets['reddit (inspiron)']\n",
    "    worksheet1.autofilter(0, 0, df1.shape[0], df1.shape[1]-1)\n",
    "    worksheet2 = writer.sheets['dell.com (inspiron)']\n",
    "    worksheet2.autofilter(0, 0, df2.shape[0], df2.shape[1]-1)\n",
    "    worksheet3 = writer.sheets['youtube (inspiron)']\n",
    "    worksheet3.autofilter(0, 0, df3.shape[0], df3.shape[1]-1)\n"
   ]
  },
  {
   "cell_type": "markdown",
   "metadata": {},
   "source": [
    "## Vostro odm (comment) prediction"
   ]
  },
  {
   "cell_type": "code",
   "execution_count": 6,
   "metadata": {},
   "outputs": [
    {
     "name": "stderr",
     "output_type": "stream",
     "text": [
      "C:\\Users\\Ian_Lin1\\AppData\\Local\\Temp/ipykernel_23168/2044684535.py:10: FutureWarning: Use of **kwargs is deprecated, use engine_kwargs instead.\n",
      "  with pd.ExcelWriter('social media (vostro comments) prediction.xlsx', options={'strings_to_urls': False}, datetime_format='mm/dd/yyyy') as writer:\n"
     ]
    }
   ],
   "source": [
    "df1 = pd.read_csv('reddit (label odm comment vostro).csv')\n",
    "df1['post date']=pd.to_datetime(df1['post date'])\n",
    "\n",
    "df2 = pd.read_csv('dell.community (vostro odm filtered).csv')\n",
    "df2['post date']=pd.to_datetime(df2['post date'])\n",
    "\n",
    "df3 = pd.read_csv('youtube (vostro odm filtered).csv')\n",
    "df3['post date']=pd.to_datetime(df3['post date'])\n",
    "\n",
    "with pd.ExcelWriter('social media (vostro comments) prediction.xlsx', options={'strings_to_urls': False}, datetime_format='mm/dd/yyyy') as writer:\n",
    "    pd.io.formats.excel.ExcelFormatter.header_style = None\n",
    "    workbook  = writer.book\n",
    "    header_fmt = workbook.add_format({'bold': True})\n",
    "    df1.to_excel(writer, sheet_name='reddit (vostro)', index = False)\n",
    "    df2.to_excel(writer, sheet_name='dell.com (vostro)', index = False)\n",
    "    df3.to_excel(writer, sheet_name='youtube (vostro)', index = False)\n",
    "    \n",
    "    worksheet1 = writer.sheets['reddit (vostro)']\n",
    "    worksheet1.autofilter(0, 0, df1.shape[0], df1.shape[1]-1)\n",
    "    worksheet2 = writer.sheets['dell.com (vostro)']\n",
    "    worksheet2.autofilter(0, 0, df2.shape[0], df2.shape[1]-1)\n",
    "    worksheet3 = writer.sheets['youtube (vostro)']\n",
    "    worksheet3.autofilter(0, 0, df3.shape[0], df3.shape[1]-1)\n"
   ]
  },
  {
   "cell_type": "markdown",
   "metadata": {},
   "source": [
    "## Vostro odm prediction"
   ]
  },
  {
   "cell_type": "code",
   "execution_count": 7,
   "metadata": {},
   "outputs": [
    {
     "name": "stderr",
     "output_type": "stream",
     "text": [
      "C:\\Users\\Ian_Lin1\\AppData\\Local\\Temp/ipykernel_23168/251710861.py:10: FutureWarning: Use of **kwargs is deprecated, use engine_kwargs instead.\n",
      "  with pd.ExcelWriter('social media (vostro) prediction.xlsx', options={'strings_to_urls': False}, datetime_format='mm/dd/yyyy') as writer:\n"
     ]
    }
   ],
   "source": [
    "df1 = pd.read_csv('reddit (vostro odm comment filtered).csv')\n",
    "df1['post date']=pd.to_datetime(df1['post date'])\n",
    "\n",
    "df2 = pd.read_csv('dell.community (vostro odm filtered).csv')\n",
    "df2['post date']=pd.to_datetime(df2['post date'])\n",
    "\n",
    "df3 = pd.read_csv('youtube (vostro odm filtered).csv')\n",
    "df3['post date']=pd.to_datetime(df3['post date'])\n",
    "\n",
    "with pd.ExcelWriter('social media (vostro) prediction.xlsx', options={'strings_to_urls': False}, datetime_format='mm/dd/yyyy') as writer:\n",
    "    pd.io.formats.excel.ExcelFormatter.header_style = None\n",
    "    workbook  = writer.book\n",
    "    header_fmt = workbook.add_format({'bold': True})\n",
    "    df1.to_excel(writer, sheet_name='reddit (vostro)', index = False)\n",
    "    df2.to_excel(writer, sheet_name='dell.com (vostro)', index = False)\n",
    "    df3.to_excel(writer, sheet_name='youtube (vostro)', index = False)\n",
    "    \n",
    "    worksheet1 = writer.sheets['reddit (vostro)']\n",
    "    worksheet1.autofilter(0, 0, df1.shape[0], df1.shape[1]-1)\n",
    "    worksheet2 = writer.sheets['dell.com (vostro)']\n",
    "    worksheet2.autofilter(0, 0, df2.shape[0], df2.shape[1]-1)\n",
    "    worksheet3 = writer.sheets['youtube (vostro)']\n",
    "    worksheet3.autofilter(0, 0, df3.shape[0], df3.shape[1]-1)\n"
   ]
  },
  {
   "cell_type": "markdown",
   "metadata": {},
   "source": [
    "# AQE"
   ]
  },
  {
   "cell_type": "markdown",
   "metadata": {},
   "source": [
    "## XPS prediction"
   ]
  },
  {
   "cell_type": "code",
   "execution_count": 13,
   "metadata": {},
   "outputs": [
    {
     "name": "stderr",
     "output_type": "stream",
     "text": [
      "C:\\Users\\Ian_Lin1\\AppData\\Local\\Temp/ipykernel_23168/1754961968.py:10: FutureWarning: Use of **kwargs is deprecated, use engine_kwargs instead.\n",
      "  with pd.ExcelWriter('social media data (xps) prediction.xlsx', options={'strings_to_urls': False}, datetime_format='mm/dd/yyyy') as writer:\n"
     ]
    }
   ],
   "source": [
    "df1 = pd.read_csv('reddit (label xps) all.csv')\n",
    "df1['post date']=pd.to_datetime(df1['post date'])\n",
    "\n",
    "df2 = pd.read_csv('dell.community (xps filtered).csv')\n",
    "df2['post date']=pd.to_datetime(df2['post date'])\n",
    "\n",
    "df3 = pd.read_csv('youtube (xps filtered).csv')\n",
    "df3['post date']=pd.to_datetime(df3['post date'])\n",
    "\n",
    "with pd.ExcelWriter('social media data (xps) prediction.xlsx', options={'strings_to_urls': False}, datetime_format='mm/dd/yyyy') as writer:\n",
    "    pd.io.formats.excel.ExcelFormatter.header_style = None\n",
    "    workbook  = writer.book\n",
    "    header_fmt = workbook.add_format({'bold': True})\n",
    "    df1.to_excel(writer, sheet_name='reddit (xps)', index = False)\n",
    "    df2.to_excel(writer, sheet_name='dell.com (xps)', index = False)\n",
    "    df3.to_excel(writer, sheet_name='youtube (xps)', index = False)\n",
    "    \n",
    "    worksheet1 = writer.sheets['reddit (xps)']\n",
    "    worksheet1.autofilter(0, 0, df1.shape[0], df1.shape[1]-1)\n",
    "    worksheet2 = writer.sheets['dell.com (xps)']\n",
    "    worksheet2.autofilter(0, 0, df2.shape[0], df2.shape[1]-1)\n",
    "    worksheet3 = writer.sheets['youtube (xps)']\n",
    "    worksheet3.autofilter(0, 0, df3.shape[0], df3.shape[1]-1)\n"
   ]
  },
  {
   "cell_type": "markdown",
   "metadata": {},
   "source": [
    "## G15 prediction "
   ]
  },
  {
   "cell_type": "code",
   "execution_count": 14,
   "metadata": {},
   "outputs": [
    {
     "name": "stderr",
     "output_type": "stream",
     "text": [
      "C:\\Users\\Ian_Lin1\\AppData\\Local\\Temp/ipykernel_23168/3019165153.py:10: FutureWarning: Use of **kwargs is deprecated, use engine_kwargs instead.\n",
      "  with pd.ExcelWriter('social media data (dellg15) prediction.xlsx', options={'strings_to_urls': False}, datetime_format='mm/dd/yyyy') as writer:\n"
     ]
    }
   ],
   "source": [
    "df1 = pd.read_csv('reddit (label dellg15).csv')\n",
    "df1['post date']=pd.to_datetime(df1['post date'])\n",
    "\n",
    "df2 = pd.read_csv('dell.community (dellg15 filtered).csv')\n",
    "df2['post date']=pd.to_datetime(df2['post date'])\n",
    "\n",
    "df3 = pd.read_csv('youtube (dellg15 filtered).csv')\n",
    "df3['post date']=pd.to_datetime(df3['post date'])\n",
    "\n",
    "with pd.ExcelWriter('social media data (dellg15) prediction.xlsx', options={'strings_to_urls': False}, datetime_format='mm/dd/yyyy') as writer:\n",
    "    pd.io.formats.excel.ExcelFormatter.header_style = None\n",
    "    workbook  = writer.book\n",
    "    header_fmt = workbook.add_format({'bold': True})\n",
    "    df1.to_excel(writer, sheet_name='reddit (dellg15)', index = False)\n",
    "    df2.to_excel(writer, sheet_name='dell.com (dellg15)', index = False)\n",
    "    df3.to_excel(writer, sheet_name='youtube (dellg15)', index = False)\n",
    "    \n",
    "    worksheet1 = writer.sheets['reddit (dellg15)']\n",
    "    worksheet1.autofilter(0, 0, df1.shape[0], df1.shape[1])\n",
    "    worksheet2 = writer.sheets['dell.com (dellg15)']\n",
    "    worksheet2.autofilter(0, 0, df2.shape[0], df2.shape[1]-1)\n",
    "    worksheet3 = writer.sheets['youtube (dellg15)']\n",
    "    worksheet3.autofilter(0, 0, df3.shape[0], df3.shape[1]-1)\n"
   ]
  },
  {
   "cell_type": "markdown",
   "metadata": {},
   "source": [
    "## Inspiron prediction "
   ]
  },
  {
   "cell_type": "code",
   "execution_count": 15,
   "metadata": {},
   "outputs": [
    {
     "name": "stderr",
     "output_type": "stream",
     "text": [
      "C:\\Users\\Ian_Lin1\\AppData\\Local\\Temp/ipykernel_23168/3042852055.py:10: FutureWarning: Use of **kwargs is deprecated, use engine_kwargs instead.\n",
      "  with pd.ExcelWriter('social media data (inspiron) prediction.xlsx', options={'strings_to_urls': False}, datetime_format='mm/dd/yyyy') as writer:\n"
     ]
    }
   ],
   "source": [
    "df1 = pd.read_csv('reddit (label inspiron).csv')\n",
    "df1['post date']=pd.to_datetime(df1['post date'])\n",
    "\n",
    "df2 = pd.read_csv('dell.community (inspiron filtered).csv')\n",
    "df2['post date']=pd.to_datetime(df2['post date'])\n",
    "\n",
    "df3 = pd.read_csv('youtube (inspiron filtered).csv')\n",
    "df3['post date']=pd.to_datetime(df3['post date'])\n",
    "\n",
    "with pd.ExcelWriter('social media data (inspiron) prediction.xlsx', options={'strings_to_urls': False}, datetime_format='mm/dd/yyyy') as writer:\n",
    "    pd.io.formats.excel.ExcelFormatter.header_style = None\n",
    "    workbook  = writer.book\n",
    "    header_fmt = workbook.add_format({'bold': True})\n",
    "    df1.to_excel(writer, sheet_name='reddit (inspiron)', index = False)\n",
    "    df2.to_excel(writer, sheet_name='dell.com (inspiron)', index = False)\n",
    "    df3.to_excel(writer, sheet_name='youtube (inspiron)', index = False)\n",
    "    \n",
    "    worksheet1 = writer.sheets['reddit (inspiron)']\n",
    "    worksheet1.autofilter(0, 0, df1.shape[0], df1.shape[1])\n",
    "    worksheet2 = writer.sheets['dell.com (inspiron)']\n",
    "    worksheet2.autofilter(0, 0, df2.shape[0], df2.shape[1]-1)\n",
    "    worksheet3 = writer.sheets['youtube (inspiron)']\n",
    "    worksheet3.autofilter(0, 0, df3.shape[0], df3.shape[1]-1)\n"
   ]
  },
  {
   "cell_type": "markdown",
   "metadata": {},
   "source": [
    "## Vostro prediction"
   ]
  },
  {
   "cell_type": "code",
   "execution_count": 16,
   "metadata": {},
   "outputs": [
    {
     "name": "stderr",
     "output_type": "stream",
     "text": [
      "C:\\Users\\Ian_Lin1\\AppData\\Local\\Temp/ipykernel_23168/929635117.py:10: FutureWarning: Use of **kwargs is deprecated, use engine_kwargs instead.\n",
      "  with pd.ExcelWriter('social media data (vostro) prediction.xlsx', options={'strings_to_urls': False}, datetime_format='mm/dd/yyyy') as writer:\n"
     ]
    }
   ],
   "source": [
    "df1 = pd.read_csv('reddit (label vostro).csv')\n",
    "df1['post date']=pd.to_datetime(df1['post date'])\n",
    "\n",
    "df2 = pd.read_csv('dell.community (vostro filtered).csv')\n",
    "df2['post date']=pd.to_datetime(df2['post date'])\n",
    "\n",
    "df3 = pd.read_csv('youtube (vostro filtered).csv')\n",
    "df3['post date']=pd.to_datetime(df3['post date'])\n",
    "\n",
    "with pd.ExcelWriter('social media data (vostro) prediction.xlsx', options={'strings_to_urls': False}, datetime_format='mm/dd/yyyy') as writer:\n",
    "    pd.io.formats.excel.ExcelFormatter.header_style = None\n",
    "    workbook  = writer.book\n",
    "    header_fmt = workbook.add_format({'bold': True})\n",
    "    df1.to_excel(writer, sheet_name='reddit (vostro)', index = False)\n",
    "    df2.to_excel(writer, sheet_name='dell.com (vostro)', index = False)\n",
    "    df3.to_excel(writer, sheet_name='youtube (vostro)', index = False)\n",
    "    \n",
    "    worksheet1 = writer.sheets['reddit (vostro)']\n",
    "    worksheet1.autofilter(0, 0, df1.shape[0], df1.shape[1])\n",
    "    worksheet2 = writer.sheets['dell.com (vostro)']\n",
    "    worksheet2.autofilter(0, 0, df2.shape[0], df2.shape[1]-1)\n",
    "    worksheet3 = writer.sheets['youtube (vostro)']\n",
    "    worksheet3.autofilter(0, 0, df3.shape[0], df3.shape[1]-1)\n"
   ]
  },
  {
   "cell_type": "code",
   "execution_count": null,
   "metadata": {},
   "outputs": [],
   "source": []
  }
 ],
 "metadata": {
  "kernelspec": {
   "display_name": "Python 3",
   "language": "python",
   "name": "python3"
  },
  "language_info": {
   "codemirror_mode": {
    "name": "ipython",
    "version": 3
   },
   "file_extension": ".py",
   "mimetype": "text/x-python",
   "name": "python",
   "nbconvert_exporter": "python",
   "pygments_lexer": "ipython3",
   "version": "3.7.1"
  }
 },
 "nbformat": 4,
 "nbformat_minor": 2
}
